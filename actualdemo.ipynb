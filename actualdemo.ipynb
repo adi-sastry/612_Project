{
 "cells": [
  {
   "cell_type": "markdown",
   "id": "d63d497c",
   "metadata": {},
   "source": [
    "DEMO 8/19:"
   ]
  },
  {
   "cell_type": "code",
   "execution_count": 9,
   "id": "a8415f8e",
   "metadata": {},
   "outputs": [
    {
     "name": "stdout",
     "output_type": "stream",
     "text": [
      "Kernel interpreter: c:\\Users\\Rohan\\AppData\\Local\\Programs\\Python\\Python310\\python.exe\n",
      "Python version   : 3.10.0\n",
      "Requirement already satisfied: pip in c:\\users\\rohan\\appdata\\local\\programs\\python\\python310\\lib\\site-packages (25.2)\n",
      "Requirement already satisfied: setuptools in c:\\users\\rohan\\appdata\\local\\programs\\python\\python310\\lib\\site-packages (80.9.0)\n",
      "Requirement already satisfied: wheel in c:\\users\\rohan\\appdata\\local\\programs\\python\\python310\\lib\\site-packages (0.45.1)\n",
      "Note: you may need to restart the kernel to use updated packages.\n",
      "Requirement already satisfied: statsmodels in c:\\users\\rohan\\appdata\\local\\programs\\python\\python310\\lib\\site-packages (0.14.5)\n",
      "Requirement already satisfied: numpy<3,>=1.22.3 in c:\\users\\rohan\\appdata\\local\\programs\\python\\python310\\lib\\site-packages (from statsmodels) (2.2.6)\n",
      "Requirement already satisfied: scipy!=1.9.2,>=1.8 in c:\\users\\rohan\\appdata\\local\\programs\\python\\python310\\lib\\site-packages (from statsmodels) (1.15.3)\n",
      "Requirement already satisfied: pandas!=2.1.0,>=1.4 in c:\\users\\rohan\\appdata\\local\\programs\\python\\python310\\lib\\site-packages (from statsmodels) (2.3.1)\n",
      "Requirement already satisfied: patsy>=0.5.6 in c:\\users\\rohan\\appdata\\local\\programs\\python\\python310\\lib\\site-packages (from statsmodels) (1.0.1)\n",
      "Requirement already satisfied: packaging>=21.3 in c:\\users\\rohan\\appdata\\roaming\\python\\python310\\site-packages (from statsmodels) (25.0)\n",
      "Requirement already satisfied: python-dateutil>=2.8.2 in c:\\users\\rohan\\appdata\\roaming\\python\\python310\\site-packages (from pandas!=2.1.0,>=1.4->statsmodels) (2.9.0.post0)\n",
      "Requirement already satisfied: pytz>=2020.1 in c:\\users\\rohan\\appdata\\local\\programs\\python\\python310\\lib\\site-packages (from pandas!=2.1.0,>=1.4->statsmodels) (2025.2)\n",
      "Requirement already satisfied: tzdata>=2022.7 in c:\\users\\rohan\\appdata\\local\\programs\\python\\python310\\lib\\site-packages (from pandas!=2.1.0,>=1.4->statsmodels) (2025.2)\n",
      "Requirement already satisfied: six>=1.5 in c:\\users\\rohan\\appdata\\roaming\\python\\python310\\site-packages (from python-dateutil>=2.8.2->pandas!=2.1.0,>=1.4->statsmodels) (1.17.0)\n",
      "Note: you may need to restart the kernel to use updated packages.\n",
      "Looking in indexes: https://download.pytorch.org/whl/cu126\n",
      "Requirement already satisfied: torch==2.6.0 in c:\\users\\rohan\\appdata\\local\\programs\\python\\python310\\lib\\site-packages (2.6.0+cu126)\n",
      "Requirement already satisfied: torchvision==0.21.0 in c:\\users\\rohan\\appdata\\local\\programs\\python\\python310\\lib\\site-packages (0.21.0+cu126)\n",
      "Requirement already satisfied: filelock in c:\\users\\rohan\\appdata\\local\\programs\\python\\python310\\lib\\site-packages (from torch==2.6.0) (3.19.1)\n",
      "Requirement already satisfied: typing-extensions>=4.10.0 in c:\\users\\rohan\\appdata\\roaming\\python\\python310\\site-packages (from torch==2.6.0) (4.14.1)\n",
      "Requirement already satisfied: networkx in c:\\users\\rohan\\appdata\\local\\programs\\python\\python310\\lib\\site-packages (from torch==2.6.0) (3.4.2)\n",
      "Requirement already satisfied: jinja2 in c:\\users\\rohan\\appdata\\local\\programs\\python\\python310\\lib\\site-packages (from torch==2.6.0) (3.1.6)\n",
      "Requirement already satisfied: fsspec in c:\\users\\rohan\\appdata\\local\\programs\\python\\python310\\lib\\site-packages (from torch==2.6.0) (2025.7.0)\n",
      "Requirement already satisfied: sympy==1.13.1 in c:\\users\\rohan\\appdata\\local\\programs\\python\\python310\\lib\\site-packages (from torch==2.6.0) (1.13.1)\n",
      "Requirement already satisfied: numpy in c:\\users\\rohan\\appdata\\local\\programs\\python\\python310\\lib\\site-packages (from torchvision==0.21.0) (2.2.6)\n",
      "Requirement already satisfied: pillow!=8.3.*,>=5.3.0 in c:\\users\\rohan\\appdata\\local\\programs\\python\\python310\\lib\\site-packages (from torchvision==0.21.0) (11.3.0)\n",
      "Requirement already satisfied: mpmath<1.4,>=1.1.0 in c:\\users\\rohan\\appdata\\local\\programs\\python\\python310\\lib\\site-packages (from sympy==1.13.1->torch==2.6.0) (1.3.0)\n",
      "Requirement already satisfied: MarkupSafe>=2.0 in c:\\users\\rohan\\appdata\\local\\programs\\python\\python310\\lib\\site-packages (from jinja2->torch==2.6.0) (3.0.2)\n",
      "Note: you may need to restart the kernel to use updated packages.\n",
      "Requirement already satisfied: pytorch-lightning==2.5.3 in c:\\users\\rohan\\appdata\\local\\programs\\python\\python310\\lib\\site-packages (2.5.3)\n",
      "Requirement already satisfied: pytorch-forecasting==1.4.0 in c:\\users\\rohan\\appdata\\local\\programs\\python\\python310\\lib\\site-packages (1.4.0)\n",
      "Requirement already satisfied: neuralforecast==3.0.2 in c:\\users\\rohan\\appdata\\local\\programs\\python\\python310\\lib\\site-packages (3.0.2)\n",
      "Requirement already satisfied: optuna>=3.5 in c:\\users\\rohan\\appdata\\local\\programs\\python\\python310\\lib\\site-packages (4.5.0)\n",
      "Requirement already satisfied: pandas>=2.2 in c:\\users\\rohan\\appdata\\local\\programs\\python\\python310\\lib\\site-packages (2.3.1)\n",
      "Requirement already satisfied: numpy>=1.26 in c:\\users\\rohan\\appdata\\local\\programs\\python\\python310\\lib\\site-packages (2.2.6)\n",
      "Requirement already satisfied: scikit-learn>=1.4 in c:\\users\\rohan\\appdata\\local\\programs\\python\\python310\\lib\\site-packages (1.7.1)\n",
      "Requirement already satisfied: matplotlib>=3.8 in c:\\users\\rohan\\appdata\\local\\programs\\python\\python310\\lib\\site-packages (3.10.5)\n",
      "Requirement already satisfied: seaborn>=0.13 in c:\\users\\rohan\\appdata\\local\\programs\\python\\python310\\lib\\site-packages (0.13.2)\n",
      "Requirement already satisfied: torch>=2.1.0 in c:\\users\\rohan\\appdata\\local\\programs\\python\\python310\\lib\\site-packages (from pytorch-lightning==2.5.3) (2.6.0+cu126)\n",
      "Requirement already satisfied: tqdm>=4.57.0 in c:\\users\\rohan\\appdata\\local\\programs\\python\\python310\\lib\\site-packages (from pytorch-lightning==2.5.3) (4.67.1)\n",
      "Requirement already satisfied: PyYAML>5.4 in c:\\users\\rohan\\appdata\\local\\programs\\python\\python310\\lib\\site-packages (from pytorch-lightning==2.5.3) (6.0.2)\n",
      "Requirement already satisfied: fsspec>=2022.5.0 in c:\\users\\rohan\\appdata\\local\\programs\\python\\python310\\lib\\site-packages (from fsspec[http]>=2022.5.0->pytorch-lightning==2.5.3) (2025.7.0)\n",
      "Requirement already satisfied: torchmetrics>0.7.0 in c:\\users\\rohan\\appdata\\local\\programs\\python\\python310\\lib\\site-packages (from pytorch-lightning==2.5.3) (1.8.1)\n",
      "Requirement already satisfied: packaging>=20.0 in c:\\users\\rohan\\appdata\\roaming\\python\\python310\\site-packages (from pytorch-lightning==2.5.3) (25.0)\n",
      "Requirement already satisfied: typing-extensions>4.5.0 in c:\\users\\rohan\\appdata\\roaming\\python\\python310\\site-packages (from pytorch-lightning==2.5.3) (4.14.1)\n",
      "Requirement already satisfied: lightning-utilities>=0.10.0 in c:\\users\\rohan\\appdata\\local\\programs\\python\\python310\\lib\\site-packages (from pytorch-lightning==2.5.3) (0.15.2)\n",
      "Requirement already satisfied: lightning<3.0.0,>=2.0.0 in c:\\users\\rohan\\appdata\\local\\programs\\python\\python310\\lib\\site-packages (from pytorch-forecasting==1.4.0) (2.5.3)\n",
      "Requirement already satisfied: scipy<2.0,>=1.8 in c:\\users\\rohan\\appdata\\local\\programs\\python\\python310\\lib\\site-packages (from pytorch-forecasting==1.4.0) (1.15.3)\n",
      "Requirement already satisfied: coreforecast>=0.0.6 in c:\\users\\rohan\\appdata\\local\\programs\\python\\python310\\lib\\site-packages (from neuralforecast==3.0.2) (0.0.16)\n",
      "Requirement already satisfied: ray>=2.2.0 in c:\\users\\rohan\\appdata\\local\\programs\\python\\python310\\lib\\site-packages (from ray[tune]>=2.2.0->neuralforecast==3.0.2) (2.48.0)\n",
      "Requirement already satisfied: utilsforecast>=0.2.3 in c:\\users\\rohan\\appdata\\local\\programs\\python\\python310\\lib\\site-packages (from neuralforecast==3.0.2) (0.2.12)\n",
      "Requirement already satisfied: python-dateutil>=2.8.2 in c:\\users\\rohan\\appdata\\roaming\\python\\python310\\site-packages (from pandas>=2.2) (2.9.0.post0)\n",
      "Requirement already satisfied: pytz>=2020.1 in c:\\users\\rohan\\appdata\\local\\programs\\python\\python310\\lib\\site-packages (from pandas>=2.2) (2025.2)\n",
      "Requirement already satisfied: tzdata>=2022.7 in c:\\users\\rohan\\appdata\\local\\programs\\python\\python310\\lib\\site-packages (from pandas>=2.2) (2025.2)\n",
      "Requirement already satisfied: joblib>=1.2.0 in c:\\users\\rohan\\appdata\\local\\programs\\python\\python310\\lib\\site-packages (from scikit-learn>=1.4) (1.5.1)\n",
      "Requirement already satisfied: threadpoolctl>=3.1.0 in c:\\users\\rohan\\appdata\\local\\programs\\python\\python310\\lib\\site-packages (from scikit-learn>=1.4) (3.6.0)\n",
      "Requirement already satisfied: aiohttp!=4.0.0a0,!=4.0.0a1 in c:\\users\\rohan\\appdata\\local\\programs\\python\\python310\\lib\\site-packages (from fsspec[http]>=2022.5.0->pytorch-lightning==2.5.3) (3.12.15)\n",
      "Requirement already satisfied: setuptools in c:\\users\\rohan\\appdata\\local\\programs\\python\\python310\\lib\\site-packages (from lightning-utilities>=0.10.0->pytorch-lightning==2.5.3) (80.9.0)\n",
      "Requirement already satisfied: filelock in c:\\users\\rohan\\appdata\\local\\programs\\python\\python310\\lib\\site-packages (from torch>=2.1.0->pytorch-lightning==2.5.3) (3.19.1)\n",
      "Requirement already satisfied: networkx in c:\\users\\rohan\\appdata\\local\\programs\\python\\python310\\lib\\site-packages (from torch>=2.1.0->pytorch-lightning==2.5.3) (3.4.2)\n",
      "Requirement already satisfied: jinja2 in c:\\users\\rohan\\appdata\\local\\programs\\python\\python310\\lib\\site-packages (from torch>=2.1.0->pytorch-lightning==2.5.3) (3.1.6)\n",
      "Requirement already satisfied: sympy==1.13.1 in c:\\users\\rohan\\appdata\\local\\programs\\python\\python310\\lib\\site-packages (from torch>=2.1.0->pytorch-lightning==2.5.3) (1.13.1)\n",
      "Requirement already satisfied: mpmath<1.4,>=1.1.0 in c:\\users\\rohan\\appdata\\local\\programs\\python\\python310\\lib\\site-packages (from sympy==1.13.1->torch>=2.1.0->pytorch-lightning==2.5.3) (1.3.0)\n",
      "Requirement already satisfied: colorama in c:\\users\\rohan\\appdata\\roaming\\python\\python310\\site-packages (from tqdm>=4.57.0->pytorch-lightning==2.5.3) (0.4.6)\n",
      "Requirement already satisfied: alembic>=1.5.0 in c:\\users\\rohan\\appdata\\local\\programs\\python\\python310\\lib\\site-packages (from optuna>=3.5) (1.16.4)\n",
      "Requirement already satisfied: colorlog in c:\\users\\rohan\\appdata\\local\\programs\\python\\python310\\lib\\site-packages (from optuna>=3.5) (6.9.0)\n",
      "Requirement already satisfied: sqlalchemy>=1.4.2 in c:\\users\\rohan\\appdata\\local\\programs\\python\\python310\\lib\\site-packages (from optuna>=3.5) (2.0.43)\n",
      "Requirement already satisfied: contourpy>=1.0.1 in c:\\users\\rohan\\appdata\\local\\programs\\python\\python310\\lib\\site-packages (from matplotlib>=3.8) (1.3.2)\n",
      "Requirement already satisfied: cycler>=0.10 in c:\\users\\rohan\\appdata\\local\\programs\\python\\python310\\lib\\site-packages (from matplotlib>=3.8) (0.12.1)\n",
      "Requirement already satisfied: fonttools>=4.22.0 in c:\\users\\rohan\\appdata\\local\\programs\\python\\python310\\lib\\site-packages (from matplotlib>=3.8) (4.59.1)\n",
      "Requirement already satisfied: kiwisolver>=1.3.1 in c:\\users\\rohan\\appdata\\local\\programs\\python\\python310\\lib\\site-packages (from matplotlib>=3.8) (1.4.9)\n",
      "Requirement already satisfied: pillow>=8 in c:\\users\\rohan\\appdata\\local\\programs\\python\\python310\\lib\\site-packages (from matplotlib>=3.8) (11.3.0)\n",
      "Requirement already satisfied: pyparsing>=2.3.1 in c:\\users\\rohan\\appdata\\local\\programs\\python\\python310\\lib\\site-packages (from matplotlib>=3.8) (3.2.3)\n",
      "Requirement already satisfied: aiohappyeyeballs>=2.5.0 in c:\\users\\rohan\\appdata\\local\\programs\\python\\python310\\lib\\site-packages (from aiohttp!=4.0.0a0,!=4.0.0a1->fsspec[http]>=2022.5.0->pytorch-lightning==2.5.3) (2.6.1)\n",
      "Requirement already satisfied: aiosignal>=1.4.0 in c:\\users\\rohan\\appdata\\local\\programs\\python\\python310\\lib\\site-packages (from aiohttp!=4.0.0a0,!=4.0.0a1->fsspec[http]>=2022.5.0->pytorch-lightning==2.5.3) (1.4.0)\n",
      "Requirement already satisfied: async-timeout<6.0,>=4.0 in c:\\users\\rohan\\appdata\\local\\programs\\python\\python310\\lib\\site-packages (from aiohttp!=4.0.0a0,!=4.0.0a1->fsspec[http]>=2022.5.0->pytorch-lightning==2.5.3) (5.0.1)\n",
      "Requirement already satisfied: attrs>=17.3.0 in c:\\users\\rohan\\appdata\\local\\programs\\python\\python310\\lib\\site-packages (from aiohttp!=4.0.0a0,!=4.0.0a1->fsspec[http]>=2022.5.0->pytorch-lightning==2.5.3) (25.3.0)\n",
      "Requirement already satisfied: frozenlist>=1.1.1 in c:\\users\\rohan\\appdata\\local\\programs\\python\\python310\\lib\\site-packages (from aiohttp!=4.0.0a0,!=4.0.0a1->fsspec[http]>=2022.5.0->pytorch-lightning==2.5.3) (1.7.0)\n",
      "Requirement already satisfied: multidict<7.0,>=4.5 in c:\\users\\rohan\\appdata\\local\\programs\\python\\python310\\lib\\site-packages (from aiohttp!=4.0.0a0,!=4.0.0a1->fsspec[http]>=2022.5.0->pytorch-lightning==2.5.3) (6.6.4)\n",
      "Requirement already satisfied: propcache>=0.2.0 in c:\\users\\rohan\\appdata\\local\\programs\\python\\python310\\lib\\site-packages (from aiohttp!=4.0.0a0,!=4.0.0a1->fsspec[http]>=2022.5.0->pytorch-lightning==2.5.3) (0.3.2)\n",
      "Requirement already satisfied: yarl<2.0,>=1.17.0 in c:\\users\\rohan\\appdata\\local\\programs\\python\\python310\\lib\\site-packages (from aiohttp!=4.0.0a0,!=4.0.0a1->fsspec[http]>=2022.5.0->pytorch-lightning==2.5.3) (1.20.1)\n",
      "Requirement already satisfied: idna>=2.0 in c:\\users\\rohan\\appdata\\local\\programs\\python\\python310\\lib\\site-packages (from yarl<2.0,>=1.17.0->aiohttp!=4.0.0a0,!=4.0.0a1->fsspec[http]>=2022.5.0->pytorch-lightning==2.5.3) (3.10)\n",
      "Requirement already satisfied: Mako in c:\\users\\rohan\\appdata\\local\\programs\\python\\python310\\lib\\site-packages (from alembic>=1.5.0->optuna>=3.5) (1.3.10)\n",
      "Requirement already satisfied: tomli in c:\\users\\rohan\\appdata\\local\\programs\\python\\python310\\lib\\site-packages (from alembic>=1.5.0->optuna>=3.5) (2.2.1)\n",
      "Requirement already satisfied: six>=1.5 in c:\\users\\rohan\\appdata\\roaming\\python\\python310\\site-packages (from python-dateutil>=2.8.2->pandas>=2.2) (1.17.0)\n",
      "Requirement already satisfied: click>=7.0 in c:\\users\\rohan\\appdata\\local\\programs\\python\\python310\\lib\\site-packages (from ray>=2.2.0->ray[tune]>=2.2.0->neuralforecast==3.0.2) (8.2.1)\n",
      "Requirement already satisfied: jsonschema in c:\\users\\rohan\\appdata\\local\\programs\\python\\python310\\lib\\site-packages (from ray>=2.2.0->ray[tune]>=2.2.0->neuralforecast==3.0.2) (4.25.1)\n",
      "Requirement already satisfied: msgpack<2.0.0,>=1.0.0 in c:\\users\\rohan\\appdata\\local\\programs\\python\\python310\\lib\\site-packages (from ray>=2.2.0->ray[tune]>=2.2.0->neuralforecast==3.0.2) (1.1.1)\n",
      "Requirement already satisfied: protobuf!=3.19.5,>=3.15.3 in c:\\users\\rohan\\appdata\\local\\programs\\python\\python310\\lib\\site-packages (from ray>=2.2.0->ray[tune]>=2.2.0->neuralforecast==3.0.2) (6.32.0)\n",
      "Requirement already satisfied: requests in c:\\users\\rohan\\appdata\\local\\programs\\python\\python310\\lib\\site-packages (from ray>=2.2.0->ray[tune]>=2.2.0->neuralforecast==3.0.2) (2.32.5)\n",
      "Requirement already satisfied: tensorboardX>=1.9 in c:\\users\\rohan\\appdata\\local\\programs\\python\\python310\\lib\\site-packages (from ray[tune]>=2.2.0->neuralforecast==3.0.2) (2.6.4)\n",
      "Requirement already satisfied: pyarrow>=9.0.0 in c:\\users\\rohan\\appdata\\local\\programs\\python\\python310\\lib\\site-packages (from ray[tune]>=2.2.0->neuralforecast==3.0.2) (21.0.0)\n",
      "Requirement already satisfied: greenlet>=1 in c:\\users\\rohan\\appdata\\local\\programs\\python\\python310\\lib\\site-packages (from sqlalchemy>=1.4.2->optuna>=3.5) (3.2.4)\n",
      "Requirement already satisfied: MarkupSafe>=2.0 in c:\\users\\rohan\\appdata\\local\\programs\\python\\python310\\lib\\site-packages (from jinja2->torch>=2.1.0->pytorch-lightning==2.5.3) (3.0.2)\n",
      "Requirement already satisfied: jsonschema-specifications>=2023.03.6 in c:\\users\\rohan\\appdata\\local\\programs\\python\\python310\\lib\\site-packages (from jsonschema->ray>=2.2.0->ray[tune]>=2.2.0->neuralforecast==3.0.2) (2025.4.1)\n",
      "Requirement already satisfied: referencing>=0.28.4 in c:\\users\\rohan\\appdata\\local\\programs\\python\\python310\\lib\\site-packages (from jsonschema->ray>=2.2.0->ray[tune]>=2.2.0->neuralforecast==3.0.2) (0.36.2)\n",
      "Requirement already satisfied: rpds-py>=0.7.1 in c:\\users\\rohan\\appdata\\local\\programs\\python\\python310\\lib\\site-packages (from jsonschema->ray>=2.2.0->ray[tune]>=2.2.0->neuralforecast==3.0.2) (0.27.0)\n",
      "Requirement already satisfied: charset_normalizer<4,>=2 in c:\\users\\rohan\\appdata\\local\\programs\\python\\python310\\lib\\site-packages (from requests->ray>=2.2.0->ray[tune]>=2.2.0->neuralforecast==3.0.2) (3.4.3)\n",
      "Requirement already satisfied: urllib3<3,>=1.21.1 in c:\\users\\rohan\\appdata\\local\\programs\\python\\python310\\lib\\site-packages (from requests->ray>=2.2.0->ray[tune]>=2.2.0->neuralforecast==3.0.2) (2.5.0)\n",
      "Requirement already satisfied: certifi>=2017.4.17 in c:\\users\\rohan\\appdata\\local\\programs\\python\\python310\\lib\\site-packages (from requests->ray>=2.2.0->ray[tune]>=2.2.0->neuralforecast==3.0.2) (2025.8.3)\n",
      "Note: you may need to restart the kernel to use updated packages.\n",
      "{'torch': '2.6.0+cu126', 'torch_cuda': '12.6', 'cuda_available': True, 'gpu': 'NVIDIA GeForce RTX 4060 Ti', 'has_LRScheduler': True, 'lightning': '2.5.3', 'neuralforecast': '3.0.2', 'pytorch_forecasting': '1.4.0'}\n"
     ]
    }
   ],
   "source": [
    "# Setup for Windows NVIDIA\n",
    "\n",
    "import sys, platform\n",
    "print(\"Kernel interpreter:\", sys.executable)\n",
    "print(\"Python version   :\", platform.python_version())\n",
    "\n",
    "%pip install -U pip setuptools wheel\n",
    "#ARIMA/SARIMAX\n",
    "%pip install -U statsmodels\n",
    "\n",
    "#  Torch 2.6.0 + CUDA 12.6  (pairs with torchvision 0.21.0)\n",
    "%pip install torch==2.6.0 torchvision==0.21.0 --index-url https://download.pytorch.org/whl/cu126\n",
    "\n",
    "# Rest of the stack \n",
    "%pip install \"pytorch-lightning==2.5.3\" \"pytorch-forecasting==1.4.0\" \"neuralforecast==3.0.2\" \\\n",
    "             \"optuna>=3.5\" \"pandas>=2.2\" \"numpy>=1.26\" \"scikit-learn>=1.4\" \"matplotlib>=3.8\" \"seaborn>=0.13\"\n",
    "\n",
    "# --- sanity check (catches wrong kernel / CPU torch) \n",
    "import importlib, torch, pytorch_lightning as pl, torch.optim.lr_scheduler as lrs\n",
    "nf = importlib.import_module(\"neuralforecast\")\n",
    "pf = importlib.import_module(\"pytorch_forecasting\")\n",
    "\n",
    "print({\n",
    "    \"torch\": torch.__version__,\n",
    "    \"torch_cuda\": getattr(torch.version, \"cuda\", None),\n",
    "    \"cuda_available\": torch.cuda.is_available(),\n",
    "    \"gpu\": torch.cuda.get_device_name(0) if torch.cuda.is_available() else None,\n",
    "    \"has_LRScheduler\": hasattr(lrs, \"LRScheduler\"),\n",
    "    \"lightning\": pl.__version__,\n",
    "    \"neuralforecast\": nf.__version__,\n",
    "    \"pytorch_forecasting\": pf.__version__,\n",
    "})\n"
   ]
  },
  {
   "cell_type": "code",
   "execution_count": 10,
   "id": "fcd5606a",
   "metadata": {},
   "outputs": [
    {
     "name": "stderr",
     "output_type": "stream",
     "text": [
      "Seed set to 42\n"
     ]
    },
    {
     "name": "stdout",
     "output_type": "stream",
     "text": [
      "{'python': 'c:\\\\Users\\\\Rohan\\\\AppData\\\\Local\\\\Programs\\\\Python\\\\Python310\\\\python.exe', 'device': 'cuda', 'torch': '2.6.0+cu126', 'lightning': '2.5.3', 'neuralforecast': '3.0.2', 'pytorch_forecasting': '1.4.0'}\n"
     ]
    }
   ],
   "source": [
    "# Imports, config, reproducibility — Torch 2.x / Lightning 2.x / NF 3.x\n",
    "\n",
    "import os, json, math, time, warnings, random, sys\n",
    "from pathlib import Path\n",
    "from dataclasses import dataclass\n",
    "from typing import List, Dict, Tuple\n",
    "\n",
    "import numpy as np\n",
    "import pandas as pd\n",
    "import matplotlib.pyplot as plt\n",
    "\n",
    "import torch\n",
    "import pytorch_lightning as pl\n",
    "from sklearn.metrics import mean_squared_error, mean_absolute_error, r2_score\n",
    "\n",
    "# NeuralForecast (Informer)\n",
    "from neuralforecast import NeuralForecast\n",
    "from neuralforecast.models import Informer as NFInformer\n",
    "from neuralforecast.losses.pytorch import MSE\n",
    "\n",
    "# PyTorch-Forecasting (TFT baseline)\n",
    "from pytorch_forecasting import TimeSeriesDataSet, TemporalFusionTransformer\n",
    "from pytorch_forecasting.metrics import QuantileLoss\n",
    "\n",
    "# Reproducibility & device setup \n",
    "warnings.filterwarnings(\"ignore\")\n",
    "pl.seed_everything(42, workers=True)\n",
    "torch.set_float32_matmul_precision(\"high\")\n",
    "\n",
    "DEVICE = (\n",
    "    \"cuda\" if torch.cuda.is_available()\n",
    "    else \"mps\" if torch.backends.mps.is_available()\n",
    "    else \"cpu\"\n",
    ")\n",
    "\n",
    "RESULTS_DIR = Path(\"results\"); RESULTS_DIR.mkdir(exist_ok=True)\n",
    "\n",
    "@dataclass\n",
    "class CFG:\n",
    "    RAW_FILE: str = \"pollution_2000_2023.csv\" \n",
    "    INPUT_WINDOW: int = 60\n",
    "    PRED_WINDOW: int = 3\n",
    "    TRAIN_END: str = \"2016-12-31\"\n",
    "    VAL_END: str   = \"2020-12-31\"\n",
    "    # Informer hyperparams\n",
    "    HIDDEN_SIZE: int = 128\n",
    "    N_HEAD: int = 4\n",
    "    FACTOR: int = 10\n",
    "    DROPOUT: float = 0.1\n",
    "    LR: float = 1e-3\n",
    "    MAX_STEPS: int = 5000\n",
    "    # Rolling evaluation\n",
    "    ROLL_STEP_DAYS: int = 7\n",
    "\n",
    "CFG = CFG()\n",
    "\n",
    "#catching kernal/env details in the event of mishap\n",
    "print({\n",
    "    \"python\": sys.executable,\n",
    "    \"device\": DEVICE,\n",
    "    \"torch\": torch.__version__,\n",
    "    \"lightning\": pl.__version__,\n",
    "    \"neuralforecast\": __import__(\"neuralforecast\").__version__,\n",
    "    \"pytorch_forecasting\": __import__(\"pytorch_forecasting\").__version__,\n",
    "})\n"
   ]
  },
  {
   "cell_type": "code",
   "execution_count": 11,
   "id": "8569450e",
   "metadata": {},
   "outputs": [],
   "source": [
    "#utility functions\n",
    "\n",
    "import re\n",
    "from collections import defaultdict\n",
    "from datetime import datetime, timedelta\n",
    "\n",
    "# metrics\n",
    "def rmse(a, b):\n",
    "    return float(np.sqrt(((np.asarray(a) - np.asarray(b)) ** 2).mean()))\n",
    "\n",
    "def smape(y_true, y_pred, eps=1e-8):\n",
    "    y_true = np.asarray(y_true)\n",
    "    y_pred = np.asarray(y_pred)\n",
    "    denom = np.abs(y_true) + np.abs(y_pred) + eps\n",
    "    return float(100.0 * np.mean(np.abs(y_pred - y_true) / denom))\n",
    "\n",
    "# like units for reporting\n",
    "# In this Kaggle/EPA daily file: NO2 values are in ppb; O3/CO/SO2 typically in ppm.\n",
    "PPB_SCALE = {\"O3\": 1000.0, \"CO\": 1000.0, \"SO2\": 1000.0, \"NO2\": 1.0}\n",
    "\n",
    "def to_ppb(arr, pollutant):\n",
    "    s = PPB_SCALE[pollutant]\n",
    "    return np.asarray(arr) * s\n",
    "\n",
    "##column name and schema conversion\n",
    "def load_and_standardize(csv_path: str) -> pd.DataFrame:\n",
    "    \"\"\"\n",
    "    Loads the Kaggle 'U.S. Pollution Data 2000-2023' CSV and normalizes schema:\n",
    "      - lower_snake_case columns\n",
    "      - date column -> 'date' (datetime64)\n",
    "      - pollutants -> columns: 'o3', 'no2', 'so2', 'co'\n",
    "      - keep 'city', 'state'\n",
    "    \"\"\"\n",
    "    df = pd.read_csv(csv_path, low_memory=False)\n",
    "    df.columns = (\n",
    "        pd.Series(df.columns)\n",
    "        .str.strip()\n",
    "        .str.lower()\n",
    "        .str.replace(r\"[^a-z0-9]+\", \"_\", regex=True)\n",
    "        .str.replace(r\"_+\", \"_\", regex=True)\n",
    "        .str.strip(\"_\")\n",
    "        .to_list()\n",
    "    )\n",
    "    # Date\n",
    "    date_candidates = [\"date\", \"date_local\", \"date_\"]\n",
    "    date_col = next((c for c in date_candidates if c in df.columns), None)\n",
    "    if date_col is None:\n",
    "        raise ValueError(\"No date column found. Expected one of: \" + \", \".join(date_candidates))\n",
    "    df[\"date\"] = pd.to_datetime(df[date_col])\n",
    "    # City/State\n",
    "    if \"city\" not in df.columns or \"state\" not in df.columns:\n",
    "        raise ValueError(\"Expected 'city' and 'state' columns.\")\n",
    "    # Pollutants: accept either *_mean or simple names\n",
    "    name_map = {\n",
    "        \"o3\": [\"o3_mean\", \"o3\", \"ozone\"],\n",
    "        \"no2\": [\"no2_mean\", \"no2\"],\n",
    "        \"so2\": [\"so2_mean\", \"so2\"],\n",
    "        \"co\": [\"co_mean\", \"co\"],\n",
    "    }\n",
    "    out = pd.DataFrame({\n",
    "        \"date\": df[\"date\"],\n",
    "        \"city\": df[\"city\"].astype(str),\n",
    "        \"state\": df[\"state\"].astype(str),\n",
    "    })\n",
    "    for key, cands in name_map.items():\n",
    "        col = next((c for c in cands if c in df.columns), None)\n",
    "        if col is None:\n",
    "            raise ValueError(f\"Expected column for {key}: one of {cands}\")\n",
    "        out[key] = pd.to_numeric(df[col], errors=\"coerce\")\n",
    "    # drop dupes/na and sort\n",
    "    out = out.dropna(subset=[\"o3\", \"no2\", \"so2\", \"co\"]).sort_values([\"city\", \"state\", \"date\"]).reset_index(drop=True)\n",
    "    return out\n",
    "\n",
    "def make_features(df: pd.DataFrame) -> pd.DataFrame:\n",
    "    \"\"\"Calendar features + simple lag(1) per pollutant.\"\"\"\n",
    "    out = df.copy()\n",
    "    out[\"month\"] = out[\"date\"].dt.month.astype(int)\n",
    "    out[\"dayofweek\"] = out[\"date\"].dt.dayofweek.astype(int)\n",
    "    out[\"isweekend\"] = out[\"dayofweek\"].isin([5, 6]).astype(int)\n",
    "    out[\"iswedthur\"] = out[\"dayofweek\"].isin([2, 3]).astype(int)\n",
    "\n",
    "    # lag(1) per pollutant by city/state\n",
    "    for p in [\"o3\", \"no2\", \"so2\", \"co\"]:\n",
    "        out[f\"{p}_lag1\"] = out.groupby([\"city\", \"state\"])[p].shift(1)\n",
    "\n",
    "    # average pollution for context (same units as native)\n",
    "    out[\"pollution_avg\"] = out[[\"o3\", \"no2\", \"so2\", \"co\"]].mean(axis=1)\n",
    "    out = out.dropna().reset_index(drop=True)\n",
    "    return out\n",
    "\n",
    "def to_long(df_feat: pd.DataFrame) -> pd.DataFrame:\n",
    "    \"\"\"Melt wide -> long: (city,state,date) × pollutant -> y; create unique_id and y_lag1 by series.\"\"\"\n",
    "    long = df_feat.melt(\n",
    "        id_vars=[\"date\", \"city\", \"state\", \"month\", \"dayofweek\", \"isweekend\", \"iswedthur\",\n",
    "                 \"o3_lag1\", \"no2_lag1\", \"so2_lag1\", \"co_lag1\", \"pollution_avg\"],\n",
    "        value_vars=[\"o3\", \"no2\", \"so2\", \"co\"],\n",
    "        var_name=\"pollutant\",\n",
    "        value_name=\"y\",\n",
    "    )\n",
    "    long[\"pollutant\"] = long[\"pollutant\"].str.upper()\n",
    "    long[\"unique_id\"] = (\n",
    "        long[\"city\"].str.replace(r\"[^A-Za-z0-9]+\", \"\", regex=True)\n",
    "        + \"_\" +\n",
    "        long[\"state\"].str.replace(r\"[^A-Za-z0-9]+\", \"\", regex=True)\n",
    "        + \"_\" +\n",
    "        long[\"pollutant\"].str.lower()\n",
    "    ).str.lower()\n",
    "    long = long.sort_values([\"unique_id\", \"date\"]).reset_index(drop=True)\n",
    "    # create a universal y_lag1 in the long frame (per unique series)\n",
    "    long[\"y_lag1\"] = long.groupby(\"unique_id\")[\"y\"].shift(1)\n",
    "    long = long.dropna(subset=[\"y\", \"y_lag1\"]).reset_index(drop=True)\n",
    "    return long\n",
    "\n",
    "def pick_subset_cities(df: pd.DataFrame, top_n=8, min_years=10) -> list:\n",
    "    \"\"\"\n",
    "    Pick a representative subset by city with longest coverage.\n",
    "    Returns a list of city names (case-sensitive as in data).\n",
    "    \"\"\"\n",
    "    city_counts = (df.groupby([\"city\"])[\"date\"].count().rename(\"n\").reset_index())\n",
    "    # bias toward cities with the longest span (min max year diff)\n",
    "    spans = df.groupby(\"city\")[\"date\"].agg([\"min\", \"max\"])\n",
    "    spans[\"years\"] = (spans[\"max\"] - spans[\"min\"]).dt.days / 365.25\n",
    "    merged = city_counts.merge(spans.reset_index(), on=\"city\")\n",
    "    merged = merged[merged[\"years\"] >= min_years].sort_values([\"n\", \"years\"], ascending=False)\n",
    "    chosen = merged[\"city\"].head(top_n).tolist()\n",
    "    return chosen\n",
    "\n",
    "def print_split_counts(long_df, train_end, val_end):\n",
    "    train_mask = long_df[\"date\"] <= train_end\n",
    "    val_mask   = (long_df[\"date\"] > train_end) & (long_df[\"date\"] <= val_end)\n",
    "    test_mask  = long_df[\"date\"] > val_end\n",
    "    print(\"=== Split row counts ===\")\n",
    "    print({\n",
    "        \"raw_rows\": len(long_df),\n",
    "        \"train_rows\": int(train_mask.sum()),\n",
    "        \"val_rows\": int(val_mask.sum()),\n",
    "        \"test_rows\": int(test_mask.sum())\n",
    "    })\n",
    "    uniq = lambda m: long_df.loc[m, \"unique_id\"].nunique()\n",
    "    print(\"=== Unique series per split ===\")\n",
    "    print({\n",
    "        \"train_unique_series\": uniq(train_mask),\n",
    "        \"val_unique_series\": uniq(val_mask),\n",
    "        \"test_unique_series\": uniq(test_mask),\n",
    "    })\n",
    "\n",
    "def anchors_between(start_ts, end_ts, step_days=14):\n",
    "    \"\"\"Yield anchor datetimes from start to end inclusive with given step.\"\"\"\n",
    "    cur = pd.Timestamp(start_ts)\n",
    "    end = pd.Timestamp(end_ts)\n",
    "    while cur <= end:\n",
    "        yield cur\n",
    "        cur += pd.Timedelta(days=step_days)\n",
    "\n",
    "# For consistent plotting fonts\n",
    "plt.rcParams[\"figure.figsize\"] = (10, 4)\n",
    "plt.rcParams[\"axes.grid\"] = True\n"
   ]
  },
  {
   "cell_type": "code",
   "execution_count": 12,
   "id": "1942657c",
   "metadata": {},
   "outputs": [
    {
     "name": "stdout",
     "output_type": "stream",
     "text": [
      "Loaded: pollution_2000_2023.csv | rows=665,414\n",
      "        date         city       state        o3        no2       so2        co\n",
      "0 2011-01-01  Albuquerque  New Mexico  0.032471   9.180952  0.054167  0.200000\n",
      "1 2011-01-02  Albuquerque  New Mexico  0.018824  11.504762  0.162500  0.275000\n",
      "2 2011-01-03  Albuquerque  New Mexico  0.008412  23.342857  0.720833  0.479167\n",
      "3 2011-01-04  Albuquerque  New Mexico  0.027471  23.245455  0.887500  0.604167\n",
      "4 2011-01-05  Albuquerque  New Mexico  0.033294  12.637500  0.445833  0.204167\n",
      "Feature columns added. Preview:\n",
      "             date        city       state        o3        no2       so2  \\\n",
      "29273  2007-02-03  Beltsville    Maryland  0.018824   9.434783  3.037500   \n",
      "522334 2019-11-19    Rubidoux  California  0.033353  26.479167  0.566667   \n",
      "372483 2012-05-19      Newark  New Jersey  0.028706  25.583333  2.983333   \n",
      "527499 2016-06-10     Rutland     Vermont  0.013417   1.873333  0.010000   \n",
      "571718 2021-12-10     Seattle  Washington  0.022765  10.531818  0.095833   \n",
      "\n",
      "              co  month  dayofweek  isweekend  iswedthur   o3_lag1   no2_lag1  \\\n",
      "29273   0.158333      2          5          1          0  0.007412  20.304348   \n",
      "522334  0.495833     11          1          0          0  0.033353  25.808333   \n",
      "372483  0.429167      5          5          1          0  0.018824  22.750000   \n",
      "527499  0.029412      6          4          0          0  0.028471   1.317391   \n",
      "571718  0.204167     12          4          0          0  0.018353  10.233333   \n",
      "\n",
      "        so2_lag1   co_lag1  pollution_avg  \n",
      "29273   6.479167  0.295833       3.162360  \n",
      "522334  0.566667  0.475000       6.893755  \n",
      "372483  1.450000  0.350000       7.256135  \n",
      "527499  0.027273  0.016667       0.481540  \n",
      "571718  0.077273  0.208333       2.713646  \n",
      "Chosen subset cities: ['Not in a city', 'Los Angeles', 'New York', 'Rubidoux', 'Phoenix', 'North Little Rock', 'Houston', 'Charlotte']\n",
      "Long rows: 615,496 | series=104\n",
      "                    unique_id       date         y\n",
      "0  charlotte_northcarolina_co 2000-04-02  0.500000\n",
      "1  charlotte_northcarolina_co 2000-04-03  0.500000\n",
      "2  charlotte_northcarolina_co 2000-04-04  0.500000\n",
      "3  charlotte_northcarolina_co 2000-04-05  0.533333\n",
      "4  charlotte_northcarolina_co 2000-04-06  0.500000\n"
     ]
    }
   ],
   "source": [
    "# load raw CSV, add features, choose subset cities, long format\n",
    "\n",
    "# load & feature engineering ----\n",
    "df_raw = load_and_standardize(CFG.RAW_FILE)\n",
    "print(f\"Loaded: {CFG.RAW_FILE} | rows={len(df_raw):,}\")\n",
    "print(df_raw.head())\n",
    "\n",
    "df_feat = make_features(df_raw)\n",
    "print(\"Feature columns added. Preview:\")\n",
    "print(df_feat.sample(5).head(10))\n",
    "\n",
    "# picking a small subset for demo (top N cities by coverage) ----\n",
    "TOP_N_CITIES = 8 #for this demo choosing 8 cities so it runs at a decent pace\n",
    "SUBSET_CITIES = pick_subset_cities(df_feat, top_n=TOP_N_CITIES, min_years=10)\n",
    "print(\"Chosen subset cities:\", SUBSET_CITIES)\n",
    "\n",
    "df_sub = df_feat[df_feat[\"city\"].isin(SUBSET_CITIES)].copy()\n",
    "\n",
    "# ---- Long format ----\n",
    "df_long = to_long(df_sub)\n",
    "print(f\"Long rows: {len(df_long):,} | series={df_long['unique_id'].nunique()}\")\n",
    "print(df_long[[\"unique_id\", \"date\", \"y\"]].head())"
   ]
  },
  {
   "cell_type": "code",
   "execution_count": 13,
   "id": "a0832660",
   "metadata": {},
   "outputs": [
    {
     "name": "stdout",
     "output_type": "stream",
     "text": [
      "=== Split row counts ===\n",
      "{'raw_rows': 615496, 'train_rows': 421744, 'val_rows': 120672, 'test_rows': 73080}\n",
      "=== Unique series per split ===\n",
      "{'train_unique_series': 104, 'val_unique_series': 60, 'test_unique_series': 52}\n",
      "Date ranges: 2000-01-02 → 2016-12-31 (train) | 2017-01-01 → 2020-12-31 (val) | 2021-01-01 → 2023-09-30 (test)\n"
     ]
    }
   ],
   "source": [
    "# chronological splits + sanity check stats\n",
    "\n",
    "TRAIN_END = pd.Timestamp(CFG.TRAIN_END)\n",
    "VAL_END   = pd.Timestamp(CFG.VAL_END)\n",
    "\n",
    "print_split_counts(df_long, TRAIN_END, VAL_END)\n",
    "\n",
    "train_mask = df_long[\"date\"] <= TRAIN_END\n",
    "val_mask  = (df_long[\"date\"] > TRAIN_END) & (df_long[\"date\"] <= VAL_END)\n",
    "test_mask = df_long[\"date\"] > VAL_END\n",
    "\n",
    "df_train = df_long[train_mask].copy()\n",
    "df_val = df_long[val_mask].copy()\n",
    "df_test = df_long[test_mask].copy()\n",
    "\n",
    "print(\"Date ranges:\",\n",
    "      df_train[\"date\"].min().date(), \"→\", df_train[\"date\"].max().date(), \"(train)\",\n",
    "      \"|\", df_val[\"date\"].min().date() if len(df_val) else None, \"→\", df_val[\"date\"].max().date() if len(df_val) else None, \"(val)\",\n",
    "      \"|\", df_test[\"date\"].min().date() if len(df_test) else None, \"→\", df_test[\"date\"].max().date() if len(df_test) else None, \"(test)\")\n"
   ]
  },
  {
   "cell_type": "code",
   "execution_count": 14,
   "id": "4772313b",
   "metadata": {},
   "outputs": [],
   "source": [
    "# shared evaluation helpers (join, per‑pollutant metrics, rolling eval)\n",
    "\n",
    "def per_pollutant_metrics(truth_df: pd.DataFrame, pred_df: pd.DataFrame, model_name: str) -> pd.DataFrame:\n",
    "    \"\"\"\n",
    "    truth_df: columns ['unique_id','date','pollutant','y']\n",
    "    pred_df : columns ['unique_id','date','y_pred']\n",
    "    Returns a per-pollutant DataFrame with R2, MSE(ppb^2), SMAPE(%).\n",
    "    \"\"\"\n",
    "    merged = (truth_df.merge(pred_df, on=[\"unique_id\",\"date\"], how=\"inner\")).copy()\n",
    "    out_rows = []\n",
    "    for pol, g in merged.groupby(\"pollutant\"):\n",
    "        # Harmonize to ppb for error magnitudes\n",
    "        y_ppb     = to_ppb(g[\"y\"].values, pol)\n",
    "        yhat_ppb  = to_ppb(g[\"y_pred\"].values, pol)\n",
    "        out_rows.append({\n",
    "            \"model\": model_name,\n",
    "            \"pollutant\": pol,\n",
    "            \"R2\": float(r2_score(g[\"y\"].values, g[\"y_pred\"].values)),  # unit-invariant\n",
    "            \"MSE_ppb2\": float(np.mean((y_ppb - yhat_ppb)**2)),\n",
    "            \"SMAPE_%\": smape(y_ppb, yhat_ppb),\n",
    "            \"N\": int(len(g))\n",
    "        })\n",
    "    return pd.DataFrame(out_rows)\n",
    "\n",
    "def rolling_eval(\n",
    "    predict_fn,            # callable(anchor_ts) -> DataFrame with ['unique_id','date','y_pred']\n",
    "    truth_full: pd.DataFrame,  # full long truth df (we will slice per-anchor)\n",
    "    start_ts: pd.Timestamp,\n",
    "    end_ts: pd.Timestamp,\n",
    "    step_days: int,\n",
    "    horizon: int,\n",
    "    model_name: str,\n",
    ") -> pd.DataFrame:\n",
    "    \"\"\"\n",
    "    Calls predict_fn(anchor) at each rolling anchor and aggregates per-pollutant metrics.\n",
    "    Returns a table: [anchor, pollutant, R2, MSE_ppb2, SMAPE_%, N]\n",
    "    \"\"\"\n",
    "    rows = []\n",
    "    for a in anchors_between(start_ts, end_ts - pd.Timedelta(days=horizon-1), step_days=step_days):\n",
    "        # restrict truth to the H-day window after anchor\n",
    "        mask = (truth_full[\"date\"] > a) & (truth_full[\"date\"] <= a + pd.Timedelta(days=horizon))\n",
    "        truth = truth_full.loc[mask, [\"unique_id\",\"date\",\"pollutant\",\"y\"]].copy()\n",
    "        preds = predict_fn(a)\n",
    "        met = per_pollutant_metrics(truth, preds, model_name)\n",
    "        met.insert(0, \"anchor_date\", a.date().isoformat())\n",
    "        rows.append(met)\n",
    "    return pd.concat(rows, ignore_index=True) if rows else pd.DataFrame(columns=[\"anchor_date\",\"model\",\"pollutant\",\"R2\",\"MSE_ppb2\",\"SMAPE_%\",\"N\"])\n"
   ]
  },
  {
   "cell_type": "code",
   "execution_count": 15,
   "id": "97d8f6eb",
   "metadata": {},
   "outputs": [
    {
     "name": "stderr",
     "output_type": "stream",
     "text": [
      "Seed set to 1\n"
     ]
    },
    {
     "name": "stdout",
     "output_type": "stream",
     "text": [
      "Training Informer on subset cities …\n"
     ]
    },
    {
     "name": "stderr",
     "output_type": "stream",
     "text": [
      "GPU available: True (cuda), used: True\n",
      "TPU available: False, using: 0 TPU cores\n",
      "HPU available: False, using: 0 HPUs\n",
      "LOCAL_RANK: 0 - CUDA_VISIBLE_DEVICES: [0]\n",
      "\n",
      "  | Name          | Type          | Params | Mode \n",
      "--------------------------------------------------------\n",
      "0 | loss          | MSE           | 0      | train\n",
      "1 | padder_train  | ConstantPad1d | 0      | train\n",
      "2 | scaler        | TemporalNorm  | 0      | train\n",
      "3 | enc_embedding | DataEmbedding | 192    | train\n",
      "4 | dec_embedding | DataEmbedding | 192    | train\n",
      "5 | encoder       | TransEncoder  | 54.8 K | train\n",
      "6 | decoder       | TransDecoder  | 38.0 K | train\n",
      "--------------------------------------------------------\n",
      "93.2 K    Trainable params\n",
      "0         Non-trainable params\n",
      "93.2 K    Total params\n",
      "0.373     Total estimated model params size (MB)\n",
      "73        Modules in train mode\n",
      "0         Modules in eval mode\n"
     ]
    },
    {
     "name": "stdout",
     "output_type": "stream",
     "text": [
      "Epoch 249: 100%|██████████| 4/4 [00:00<00:00,  8.79it/s, v_num=615, train_loss_step=0.942, train_loss_epoch=0.984]"
     ]
    },
    {
     "name": "stderr",
     "output_type": "stream",
     "text": [
      "`Trainer.fit` stopped: `max_steps=1000` reached.\n"
     ]
    },
    {
     "name": "stdout",
     "output_type": "stream",
     "text": [
      "Epoch 249: 100%|██████████| 4/4 [00:00<00:00,  8.69it/s, v_num=615, train_loss_step=0.942, train_loss_epoch=0.984]\n",
      "Informer trained in 99.40 s\n",
      "Informer: predicting first horizon …\n"
     ]
    },
    {
     "name": "stderr",
     "output_type": "stream",
     "text": [
      "GPU available: True (cuda), used: True\n",
      "TPU available: False, using: 0 TPU cores\n",
      "HPU available: False, using: 0 HPUs\n",
      "LOCAL_RANK: 0 - CUDA_VISIBLE_DEVICES: [0]\n"
     ]
    },
    {
     "name": "stdout",
     "output_type": "stream",
     "text": [
      "Predicting DataLoader 0: 100%|██████████| 4/4 [00:00<00:00, 45.45it/s]\n",
      "Informer — immediate horizon metrics (subset, ppb units for errors)\n"
     ]
    },
    {
     "data": {
      "text/html": [
       "<div>\n",
       "<style scoped>\n",
       "    .dataframe tbody tr th:only-of-type {\n",
       "        vertical-align: middle;\n",
       "    }\n",
       "\n",
       "    .dataframe tbody tr th {\n",
       "        vertical-align: top;\n",
       "    }\n",
       "\n",
       "    .dataframe thead th {\n",
       "        text-align: right;\n",
       "    }\n",
       "</style>\n",
       "<table border=\"1\" class=\"dataframe\">\n",
       "  <thead>\n",
       "    <tr style=\"text-align: right;\">\n",
       "      <th></th>\n",
       "      <th>model</th>\n",
       "      <th>pollutant</th>\n",
       "      <th>R2</th>\n",
       "      <th>MSE_ppb2</th>\n",
       "      <th>SMAPE_%</th>\n",
       "      <th>N</th>\n",
       "    </tr>\n",
       "  </thead>\n",
       "  <tbody>\n",
       "    <tr>\n",
       "      <th>0</th>\n",
       "      <td>Informer</td>\n",
       "      <td>CO</td>\n",
       "      <td>0.598111</td>\n",
       "      <td>15576.516867</td>\n",
       "      <td>12.844706</td>\n",
       "      <td>66</td>\n",
       "    </tr>\n",
       "    <tr>\n",
       "      <th>1</th>\n",
       "      <td>Informer</td>\n",
       "      <td>NO2</td>\n",
       "      <td>0.664154</td>\n",
       "      <td>17.494324</td>\n",
       "      <td>19.423934</td>\n",
       "      <td>66</td>\n",
       "    </tr>\n",
       "    <tr>\n",
       "      <th>2</th>\n",
       "      <td>Informer</td>\n",
       "      <td>O3</td>\n",
       "      <td>0.014894</td>\n",
       "      <td>37.393420</td>\n",
       "      <td>11.747590</td>\n",
       "      <td>66</td>\n",
       "    </tr>\n",
       "    <tr>\n",
       "      <th>3</th>\n",
       "      <td>Informer</td>\n",
       "      <td>SO2</td>\n",
       "      <td>0.713647</td>\n",
       "      <td>45072.394529</td>\n",
       "      <td>28.943695</td>\n",
       "      <td>66</td>\n",
       "    </tr>\n",
       "  </tbody>\n",
       "</table>\n",
       "</div>"
      ],
      "text/plain": [
       "      model pollutant        R2      MSE_ppb2    SMAPE_%   N\n",
       "0  Informer        CO  0.598111  15576.516867  12.844706  66\n",
       "1  Informer       NO2  0.664154     17.494324  19.423934  66\n",
       "2  Informer        O3  0.014894     37.393420  11.747590  66\n",
       "3  Informer       SO2  0.713647  45072.394529  28.943695  66"
      ]
     },
     "metadata": {},
     "output_type": "display_data"
    },
    {
     "name": "stdout",
     "output_type": "stream",
     "text": [
      "Informer rolling eval from 2021-01-01 to 2023-09-30 every 7 days …\n"
     ]
    },
    {
     "name": "stderr",
     "output_type": "stream",
     "text": [
      "GPU available: True (cuda), used: True\n",
      "TPU available: False, using: 0 TPU cores\n",
      "HPU available: False, using: 0 HPUs\n",
      "LOCAL_RANK: 0 - CUDA_VISIBLE_DEVICES: [0]\n"
     ]
    },
    {
     "name": "stdout",
     "output_type": "stream",
     "text": [
      "Predicting DataLoader 0: 100%|██████████| 4/4 [00:00<00:00, 54.18it/s]\n"
     ]
    },
    {
     "name": "stderr",
     "output_type": "stream",
     "text": [
      "GPU available: True (cuda), used: True\n",
      "TPU available: False, using: 0 TPU cores\n",
      "HPU available: False, using: 0 HPUs\n",
      "LOCAL_RANK: 0 - CUDA_VISIBLE_DEVICES: [0]\n"
     ]
    },
    {
     "name": "stdout",
     "output_type": "stream",
     "text": [
      "Predicting DataLoader 0: 100%|██████████| 4/4 [00:00<00:00, 55.92it/s]\n"
     ]
    },
    {
     "name": "stderr",
     "output_type": "stream",
     "text": [
      "GPU available: True (cuda), used: True\n",
      "TPU available: False, using: 0 TPU cores\n",
      "HPU available: False, using: 0 HPUs\n",
      "LOCAL_RANK: 0 - CUDA_VISIBLE_DEVICES: [0]\n"
     ]
    },
    {
     "name": "stdout",
     "output_type": "stream",
     "text": [
      "Predicting DataLoader 0: 100%|██████████| 4/4 [00:00<00:00, 56.85it/s]\n"
     ]
    },
    {
     "name": "stderr",
     "output_type": "stream",
     "text": [
      "GPU available: True (cuda), used: True\n",
      "TPU available: False, using: 0 TPU cores\n",
      "HPU available: False, using: 0 HPUs\n",
      "LOCAL_RANK: 0 - CUDA_VISIBLE_DEVICES: [0]\n"
     ]
    },
    {
     "name": "stdout",
     "output_type": "stream",
     "text": [
      "Predicting DataLoader 0: 100%|██████████| 4/4 [00:00<00:00, 45.99it/s]\n"
     ]
    },
    {
     "name": "stderr",
     "output_type": "stream",
     "text": [
      "GPU available: True (cuda), used: True\n",
      "TPU available: False, using: 0 TPU cores\n",
      "HPU available: False, using: 0 HPUs\n",
      "LOCAL_RANK: 0 - CUDA_VISIBLE_DEVICES: [0]\n"
     ]
    },
    {
     "name": "stdout",
     "output_type": "stream",
     "text": [
      "Predicting DataLoader 0: 100%|██████████| 4/4 [00:00<00:00, 47.51it/s]\n"
     ]
    },
    {
     "name": "stderr",
     "output_type": "stream",
     "text": [
      "GPU available: True (cuda), used: True\n",
      "TPU available: False, using: 0 TPU cores\n",
      "HPU available: False, using: 0 HPUs\n",
      "LOCAL_RANK: 0 - CUDA_VISIBLE_DEVICES: [0]\n"
     ]
    },
    {
     "name": "stdout",
     "output_type": "stream",
     "text": [
      "Predicting DataLoader 0: 100%|██████████| 4/4 [00:00<00:00, 43.02it/s]\n"
     ]
    },
    {
     "name": "stderr",
     "output_type": "stream",
     "text": [
      "GPU available: True (cuda), used: True\n",
      "TPU available: False, using: 0 TPU cores\n",
      "HPU available: False, using: 0 HPUs\n",
      "LOCAL_RANK: 0 - CUDA_VISIBLE_DEVICES: [0]\n"
     ]
    },
    {
     "name": "stdout",
     "output_type": "stream",
     "text": [
      "Predicting DataLoader 0: 100%|██████████| 4/4 [00:00<00:00, 49.56it/s]\n"
     ]
    },
    {
     "name": "stderr",
     "output_type": "stream",
     "text": [
      "GPU available: True (cuda), used: True\n",
      "TPU available: False, using: 0 TPU cores\n",
      "HPU available: False, using: 0 HPUs\n",
      "LOCAL_RANK: 0 - CUDA_VISIBLE_DEVICES: [0]\n"
     ]
    },
    {
     "name": "stdout",
     "output_type": "stream",
     "text": [
      "Predicting DataLoader 0: 100%|██████████| 4/4 [00:00<00:00, 47.54it/s]\n"
     ]
    },
    {
     "name": "stderr",
     "output_type": "stream",
     "text": [
      "GPU available: True (cuda), used: True\n",
      "TPU available: False, using: 0 TPU cores\n",
      "HPU available: False, using: 0 HPUs\n",
      "LOCAL_RANK: 0 - CUDA_VISIBLE_DEVICES: [0]\n"
     ]
    },
    {
     "name": "stdout",
     "output_type": "stream",
     "text": [
      "Predicting DataLoader 0: 100%|██████████| 4/4 [00:00<00:00, 46.23it/s]\n"
     ]
    },
    {
     "name": "stderr",
     "output_type": "stream",
     "text": [
      "GPU available: True (cuda), used: True\n",
      "TPU available: False, using: 0 TPU cores\n",
      "HPU available: False, using: 0 HPUs\n",
      "LOCAL_RANK: 0 - CUDA_VISIBLE_DEVICES: [0]\n"
     ]
    },
    {
     "name": "stdout",
     "output_type": "stream",
     "text": [
      "Predicting DataLoader 0: 100%|██████████| 4/4 [00:00<00:00, 51.53it/s]\n"
     ]
    },
    {
     "name": "stderr",
     "output_type": "stream",
     "text": [
      "GPU available: True (cuda), used: True\n",
      "TPU available: False, using: 0 TPU cores\n",
      "HPU available: False, using: 0 HPUs\n",
      "LOCAL_RANK: 0 - CUDA_VISIBLE_DEVICES: [0]\n"
     ]
    },
    {
     "name": "stdout",
     "output_type": "stream",
     "text": [
      "Predicting DataLoader 0: 100%|██████████| 4/4 [00:00<00:00, 44.69it/s]\n"
     ]
    },
    {
     "name": "stderr",
     "output_type": "stream",
     "text": [
      "GPU available: True (cuda), used: True\n",
      "TPU available: False, using: 0 TPU cores\n",
      "HPU available: False, using: 0 HPUs\n",
      "LOCAL_RANK: 0 - CUDA_VISIBLE_DEVICES: [0]\n"
     ]
    },
    {
     "name": "stdout",
     "output_type": "stream",
     "text": [
      "Predicting DataLoader 0: 100%|██████████| 4/4 [00:00<00:00, 49.15it/s]\n"
     ]
    },
    {
     "name": "stderr",
     "output_type": "stream",
     "text": [
      "GPU available: True (cuda), used: True\n",
      "TPU available: False, using: 0 TPU cores\n",
      "HPU available: False, using: 0 HPUs\n",
      "LOCAL_RANK: 0 - CUDA_VISIBLE_DEVICES: [0]\n"
     ]
    },
    {
     "name": "stdout",
     "output_type": "stream",
     "text": [
      "Predicting DataLoader 0: 100%|██████████| 4/4 [00:00<00:00, 47.12it/s]\n"
     ]
    },
    {
     "name": "stderr",
     "output_type": "stream",
     "text": [
      "GPU available: True (cuda), used: True\n",
      "TPU available: False, using: 0 TPU cores\n",
      "HPU available: False, using: 0 HPUs\n",
      "LOCAL_RANK: 0 - CUDA_VISIBLE_DEVICES: [0]\n"
     ]
    },
    {
     "name": "stdout",
     "output_type": "stream",
     "text": [
      "Predicting DataLoader 0: 100%|██████████| 4/4 [00:00<00:00, 48.66it/s]\n"
     ]
    },
    {
     "name": "stderr",
     "output_type": "stream",
     "text": [
      "GPU available: True (cuda), used: True\n",
      "TPU available: False, using: 0 TPU cores\n",
      "HPU available: False, using: 0 HPUs\n",
      "LOCAL_RANK: 0 - CUDA_VISIBLE_DEVICES: [0]\n"
     ]
    },
    {
     "name": "stdout",
     "output_type": "stream",
     "text": [
      "Predicting DataLoader 0: 100%|██████████| 4/4 [00:00<00:00, 49.64it/s]\n"
     ]
    },
    {
     "name": "stderr",
     "output_type": "stream",
     "text": [
      "GPU available: True (cuda), used: True\n",
      "TPU available: False, using: 0 TPU cores\n",
      "HPU available: False, using: 0 HPUs\n",
      "LOCAL_RANK: 0 - CUDA_VISIBLE_DEVICES: [0]\n"
     ]
    },
    {
     "name": "stdout",
     "output_type": "stream",
     "text": [
      "Predicting DataLoader 0: 100%|██████████| 4/4 [00:00<00:00, 51.31it/s]\n"
     ]
    },
    {
     "name": "stderr",
     "output_type": "stream",
     "text": [
      "GPU available: True (cuda), used: True\n",
      "TPU available: False, using: 0 TPU cores\n",
      "HPU available: False, using: 0 HPUs\n",
      "LOCAL_RANK: 0 - CUDA_VISIBLE_DEVICES: [0]\n"
     ]
    },
    {
     "name": "stdout",
     "output_type": "stream",
     "text": [
      "Predicting DataLoader 0: 100%|██████████| 4/4 [00:00<00:00, 42.86it/s]\n"
     ]
    },
    {
     "name": "stderr",
     "output_type": "stream",
     "text": [
      "GPU available: True (cuda), used: True\n",
      "TPU available: False, using: 0 TPU cores\n",
      "HPU available: False, using: 0 HPUs\n",
      "LOCAL_RANK: 0 - CUDA_VISIBLE_DEVICES: [0]\n"
     ]
    },
    {
     "name": "stdout",
     "output_type": "stream",
     "text": [
      "Predicting DataLoader 0: 100%|██████████| 4/4 [00:00<00:00, 53.41it/s]\n"
     ]
    },
    {
     "name": "stderr",
     "output_type": "stream",
     "text": [
      "GPU available: True (cuda), used: True\n",
      "TPU available: False, using: 0 TPU cores\n",
      "HPU available: False, using: 0 HPUs\n",
      "LOCAL_RANK: 0 - CUDA_VISIBLE_DEVICES: [0]\n"
     ]
    },
    {
     "name": "stdout",
     "output_type": "stream",
     "text": [
      "Predicting DataLoader 0: 100%|██████████| 4/4 [00:00<00:00, 48.61it/s]\n"
     ]
    },
    {
     "name": "stderr",
     "output_type": "stream",
     "text": [
      "GPU available: True (cuda), used: True\n",
      "TPU available: False, using: 0 TPU cores\n",
      "HPU available: False, using: 0 HPUs\n",
      "LOCAL_RANK: 0 - CUDA_VISIBLE_DEVICES: [0]\n"
     ]
    },
    {
     "name": "stdout",
     "output_type": "stream",
     "text": [
      "Predicting DataLoader 0: 100%|██████████| 4/4 [00:00<00:00, 51.48it/s]\n"
     ]
    },
    {
     "name": "stderr",
     "output_type": "stream",
     "text": [
      "GPU available: True (cuda), used: True\n",
      "TPU available: False, using: 0 TPU cores\n",
      "HPU available: False, using: 0 HPUs\n",
      "LOCAL_RANK: 0 - CUDA_VISIBLE_DEVICES: [0]\n"
     ]
    },
    {
     "name": "stdout",
     "output_type": "stream",
     "text": [
      "Predicting DataLoader 0: 100%|██████████| 4/4 [00:00<00:00, 41.94it/s]\n"
     ]
    },
    {
     "name": "stderr",
     "output_type": "stream",
     "text": [
      "GPU available: True (cuda), used: True\n",
      "TPU available: False, using: 0 TPU cores\n",
      "HPU available: False, using: 0 HPUs\n",
      "LOCAL_RANK: 0 - CUDA_VISIBLE_DEVICES: [0]\n"
     ]
    },
    {
     "name": "stdout",
     "output_type": "stream",
     "text": [
      "Predicting DataLoader 0: 100%|██████████| 4/4 [00:00<00:00, 51.46it/s]\n"
     ]
    },
    {
     "name": "stderr",
     "output_type": "stream",
     "text": [
      "GPU available: True (cuda), used: True\n",
      "TPU available: False, using: 0 TPU cores\n",
      "HPU available: False, using: 0 HPUs\n",
      "LOCAL_RANK: 0 - CUDA_VISIBLE_DEVICES: [0]\n"
     ]
    },
    {
     "name": "stdout",
     "output_type": "stream",
     "text": [
      "Predicting DataLoader 0: 100%|██████████| 4/4 [00:00<00:00, 53.44it/s]\n"
     ]
    },
    {
     "name": "stderr",
     "output_type": "stream",
     "text": [
      "GPU available: True (cuda), used: True\n",
      "TPU available: False, using: 0 TPU cores\n",
      "HPU available: False, using: 0 HPUs\n",
      "LOCAL_RANK: 0 - CUDA_VISIBLE_DEVICES: [0]\n"
     ]
    },
    {
     "name": "stdout",
     "output_type": "stream",
     "text": [
      "Predicting DataLoader 0: 100%|██████████| 4/4 [00:00<00:00, 52.05it/s]\n"
     ]
    },
    {
     "name": "stderr",
     "output_type": "stream",
     "text": [
      "GPU available: True (cuda), used: True\n",
      "TPU available: False, using: 0 TPU cores\n",
      "HPU available: False, using: 0 HPUs\n",
      "LOCAL_RANK: 0 - CUDA_VISIBLE_DEVICES: [0]\n"
     ]
    },
    {
     "name": "stdout",
     "output_type": "stream",
     "text": [
      "Predicting DataLoader 0: 100%|██████████| 4/4 [00:00<00:00, 51.39it/s]\n"
     ]
    },
    {
     "name": "stderr",
     "output_type": "stream",
     "text": [
      "GPU available: True (cuda), used: True\n",
      "TPU available: False, using: 0 TPU cores\n",
      "HPU available: False, using: 0 HPUs\n",
      "LOCAL_RANK: 0 - CUDA_VISIBLE_DEVICES: [0]\n"
     ]
    },
    {
     "name": "stdout",
     "output_type": "stream",
     "text": [
      "Predicting DataLoader 0: 100%|██████████| 4/4 [00:00<00:00, 54.83it/s]\n"
     ]
    },
    {
     "name": "stderr",
     "output_type": "stream",
     "text": [
      "GPU available: True (cuda), used: True\n",
      "TPU available: False, using: 0 TPU cores\n",
      "HPU available: False, using: 0 HPUs\n",
      "LOCAL_RANK: 0 - CUDA_VISIBLE_DEVICES: [0]\n"
     ]
    },
    {
     "name": "stdout",
     "output_type": "stream",
     "text": [
      "Predicting DataLoader 0: 100%|██████████| 4/4 [00:00<00:00, 53.94it/s]\n"
     ]
    },
    {
     "name": "stderr",
     "output_type": "stream",
     "text": [
      "GPU available: True (cuda), used: True\n",
      "TPU available: False, using: 0 TPU cores\n",
      "HPU available: False, using: 0 HPUs\n",
      "LOCAL_RANK: 0 - CUDA_VISIBLE_DEVICES: [0]\n"
     ]
    },
    {
     "name": "stdout",
     "output_type": "stream",
     "text": [
      "Predicting DataLoader 0: 100%|██████████| 4/4 [00:00<00:00, 52.95it/s]\n"
     ]
    },
    {
     "name": "stderr",
     "output_type": "stream",
     "text": [
      "GPU available: True (cuda), used: True\n",
      "TPU available: False, using: 0 TPU cores\n",
      "HPU available: False, using: 0 HPUs\n",
      "LOCAL_RANK: 0 - CUDA_VISIBLE_DEVICES: [0]\n"
     ]
    },
    {
     "name": "stdout",
     "output_type": "stream",
     "text": [
      "Predicting DataLoader 0: 100%|██████████| 4/4 [00:00<00:00, 52.95it/s]\n"
     ]
    },
    {
     "name": "stderr",
     "output_type": "stream",
     "text": [
      "GPU available: True (cuda), used: True\n",
      "TPU available: False, using: 0 TPU cores\n",
      "HPU available: False, using: 0 HPUs\n",
      "LOCAL_RANK: 0 - CUDA_VISIBLE_DEVICES: [0]\n"
     ]
    },
    {
     "name": "stdout",
     "output_type": "stream",
     "text": [
      "Predicting DataLoader 0: 100%|██████████| 4/4 [00:00<00:00, 57.28it/s]\n"
     ]
    },
    {
     "name": "stderr",
     "output_type": "stream",
     "text": [
      "GPU available: True (cuda), used: True\n",
      "TPU available: False, using: 0 TPU cores\n",
      "HPU available: False, using: 0 HPUs\n",
      "LOCAL_RANK: 0 - CUDA_VISIBLE_DEVICES: [0]\n"
     ]
    },
    {
     "name": "stdout",
     "output_type": "stream",
     "text": [
      "Predicting DataLoader 0: 100%|██████████| 4/4 [00:00<00:00, 57.68it/s]\n"
     ]
    },
    {
     "name": "stderr",
     "output_type": "stream",
     "text": [
      "GPU available: True (cuda), used: True\n",
      "TPU available: False, using: 0 TPU cores\n",
      "HPU available: False, using: 0 HPUs\n",
      "LOCAL_RANK: 0 - CUDA_VISIBLE_DEVICES: [0]\n"
     ]
    },
    {
     "name": "stdout",
     "output_type": "stream",
     "text": [
      "Predicting DataLoader 0: 100%|██████████| 4/4 [00:00<00:00, 46.45it/s]\n"
     ]
    },
    {
     "name": "stderr",
     "output_type": "stream",
     "text": [
      "GPU available: True (cuda), used: True\n",
      "TPU available: False, using: 0 TPU cores\n",
      "HPU available: False, using: 0 HPUs\n",
      "LOCAL_RANK: 0 - CUDA_VISIBLE_DEVICES: [0]\n"
     ]
    },
    {
     "name": "stdout",
     "output_type": "stream",
     "text": [
      "Predicting DataLoader 0: 100%|██████████| 4/4 [00:00<00:00, 55.62it/s]\n"
     ]
    },
    {
     "name": "stderr",
     "output_type": "stream",
     "text": [
      "GPU available: True (cuda), used: True\n",
      "TPU available: False, using: 0 TPU cores\n",
      "HPU available: False, using: 0 HPUs\n",
      "LOCAL_RANK: 0 - CUDA_VISIBLE_DEVICES: [0]\n"
     ]
    },
    {
     "name": "stdout",
     "output_type": "stream",
     "text": [
      "Predicting DataLoader 0: 100%|██████████| 4/4 [00:00<00:00, 48.42it/s]\n"
     ]
    },
    {
     "name": "stderr",
     "output_type": "stream",
     "text": [
      "GPU available: True (cuda), used: True\n",
      "TPU available: False, using: 0 TPU cores\n",
      "HPU available: False, using: 0 HPUs\n",
      "LOCAL_RANK: 0 - CUDA_VISIBLE_DEVICES: [0]\n"
     ]
    },
    {
     "name": "stdout",
     "output_type": "stream",
     "text": [
      "Predicting DataLoader 0: 100%|██████████| 4/4 [00:00<00:00, 49.25it/s]\n"
     ]
    },
    {
     "name": "stderr",
     "output_type": "stream",
     "text": [
      "GPU available: True (cuda), used: True\n",
      "TPU available: False, using: 0 TPU cores\n",
      "HPU available: False, using: 0 HPUs\n",
      "LOCAL_RANK: 0 - CUDA_VISIBLE_DEVICES: [0]\n"
     ]
    },
    {
     "name": "stdout",
     "output_type": "stream",
     "text": [
      "Predicting DataLoader 0: 100%|██████████| 4/4 [00:00<00:00, 49.87it/s]\n"
     ]
    },
    {
     "name": "stderr",
     "output_type": "stream",
     "text": [
      "GPU available: True (cuda), used: True\n",
      "TPU available: False, using: 0 TPU cores\n",
      "HPU available: False, using: 0 HPUs\n",
      "LOCAL_RANK: 0 - CUDA_VISIBLE_DEVICES: [0]\n"
     ]
    },
    {
     "name": "stdout",
     "output_type": "stream",
     "text": [
      "Predicting DataLoader 0: 100%|██████████| 4/4 [00:00<00:00, 53.32it/s]\n"
     ]
    },
    {
     "name": "stderr",
     "output_type": "stream",
     "text": [
      "GPU available: True (cuda), used: True\n",
      "TPU available: False, using: 0 TPU cores\n",
      "HPU available: False, using: 0 HPUs\n",
      "LOCAL_RANK: 0 - CUDA_VISIBLE_DEVICES: [0]\n"
     ]
    },
    {
     "name": "stdout",
     "output_type": "stream",
     "text": [
      "Predicting DataLoader 0: 100%|██████████| 4/4 [00:00<00:00, 53.58it/s]\n"
     ]
    },
    {
     "name": "stderr",
     "output_type": "stream",
     "text": [
      "GPU available: True (cuda), used: True\n",
      "TPU available: False, using: 0 TPU cores\n",
      "HPU available: False, using: 0 HPUs\n",
      "LOCAL_RANK: 0 - CUDA_VISIBLE_DEVICES: [0]\n"
     ]
    },
    {
     "name": "stdout",
     "output_type": "stream",
     "text": [
      "Predicting DataLoader 0: 100%|██████████| 4/4 [00:00<00:00, 55.00it/s]\n"
     ]
    },
    {
     "name": "stderr",
     "output_type": "stream",
     "text": [
      "GPU available: True (cuda), used: True\n",
      "TPU available: False, using: 0 TPU cores\n",
      "HPU available: False, using: 0 HPUs\n",
      "LOCAL_RANK: 0 - CUDA_VISIBLE_DEVICES: [0]\n"
     ]
    },
    {
     "name": "stdout",
     "output_type": "stream",
     "text": [
      "Predicting DataLoader 0: 100%|██████████| 4/4 [00:00<00:00, 54.32it/s]\n"
     ]
    },
    {
     "name": "stderr",
     "output_type": "stream",
     "text": [
      "GPU available: True (cuda), used: True\n",
      "TPU available: False, using: 0 TPU cores\n",
      "HPU available: False, using: 0 HPUs\n",
      "LOCAL_RANK: 0 - CUDA_VISIBLE_DEVICES: [0]\n"
     ]
    },
    {
     "name": "stdout",
     "output_type": "stream",
     "text": [
      "Predicting DataLoader 0: 100%|██████████| 4/4 [00:00<00:00, 52.58it/s]\n"
     ]
    },
    {
     "name": "stderr",
     "output_type": "stream",
     "text": [
      "GPU available: True (cuda), used: True\n",
      "TPU available: False, using: 0 TPU cores\n",
      "HPU available: False, using: 0 HPUs\n",
      "LOCAL_RANK: 0 - CUDA_VISIBLE_DEVICES: [0]\n"
     ]
    },
    {
     "name": "stdout",
     "output_type": "stream",
     "text": [
      "Predicting DataLoader 0: 100%|██████████| 4/4 [00:00<00:00, 57.03it/s]\n"
     ]
    },
    {
     "name": "stderr",
     "output_type": "stream",
     "text": [
      "GPU available: True (cuda), used: True\n",
      "TPU available: False, using: 0 TPU cores\n",
      "HPU available: False, using: 0 HPUs\n",
      "LOCAL_RANK: 0 - CUDA_VISIBLE_DEVICES: [0]\n"
     ]
    },
    {
     "name": "stdout",
     "output_type": "stream",
     "text": [
      "Predicting DataLoader 0: 100%|██████████| 4/4 [00:00<00:00, 53.85it/s]\n"
     ]
    },
    {
     "name": "stderr",
     "output_type": "stream",
     "text": [
      "GPU available: True (cuda), used: True\n",
      "TPU available: False, using: 0 TPU cores\n",
      "HPU available: False, using: 0 HPUs\n",
      "LOCAL_RANK: 0 - CUDA_VISIBLE_DEVICES: [0]\n"
     ]
    },
    {
     "name": "stdout",
     "output_type": "stream",
     "text": [
      "Predicting DataLoader 0: 100%|██████████| 4/4 [00:00<00:00, 39.27it/s]\n"
     ]
    },
    {
     "name": "stderr",
     "output_type": "stream",
     "text": [
      "GPU available: True (cuda), used: True\n",
      "TPU available: False, using: 0 TPU cores\n",
      "HPU available: False, using: 0 HPUs\n",
      "LOCAL_RANK: 0 - CUDA_VISIBLE_DEVICES: [0]\n"
     ]
    },
    {
     "name": "stdout",
     "output_type": "stream",
     "text": [
      "Predicting DataLoader 0: 100%|██████████| 4/4 [00:00<00:00, 53.42it/s]\n"
     ]
    },
    {
     "name": "stderr",
     "output_type": "stream",
     "text": [
      "GPU available: True (cuda), used: True\n",
      "TPU available: False, using: 0 TPU cores\n",
      "HPU available: False, using: 0 HPUs\n",
      "LOCAL_RANK: 0 - CUDA_VISIBLE_DEVICES: [0]\n"
     ]
    },
    {
     "name": "stdout",
     "output_type": "stream",
     "text": [
      "Predicting DataLoader 0: 100%|██████████| 4/4 [00:00<00:00, 52.57it/s]\n"
     ]
    },
    {
     "name": "stderr",
     "output_type": "stream",
     "text": [
      "GPU available: True (cuda), used: True\n",
      "TPU available: False, using: 0 TPU cores\n",
      "HPU available: False, using: 0 HPUs\n",
      "LOCAL_RANK: 0 - CUDA_VISIBLE_DEVICES: [0]\n"
     ]
    },
    {
     "name": "stdout",
     "output_type": "stream",
     "text": [
      "Predicting DataLoader 0: 100%|██████████| 4/4 [00:00<00:00, 52.04it/s]\n"
     ]
    },
    {
     "name": "stderr",
     "output_type": "stream",
     "text": [
      "GPU available: True (cuda), used: True\n",
      "TPU available: False, using: 0 TPU cores\n",
      "HPU available: False, using: 0 HPUs\n",
      "LOCAL_RANK: 0 - CUDA_VISIBLE_DEVICES: [0]\n"
     ]
    },
    {
     "name": "stdout",
     "output_type": "stream",
     "text": [
      "Predicting DataLoader 0: 100%|██████████| 4/4 [00:00<00:00, 45.62it/s]\n"
     ]
    },
    {
     "name": "stderr",
     "output_type": "stream",
     "text": [
      "GPU available: True (cuda), used: True\n",
      "TPU available: False, using: 0 TPU cores\n",
      "HPU available: False, using: 0 HPUs\n",
      "LOCAL_RANK: 0 - CUDA_VISIBLE_DEVICES: [0]\n"
     ]
    },
    {
     "name": "stdout",
     "output_type": "stream",
     "text": [
      "Predicting DataLoader 0: 100%|██████████| 4/4 [00:00<00:00, 53.48it/s]\n"
     ]
    },
    {
     "name": "stderr",
     "output_type": "stream",
     "text": [
      "GPU available: True (cuda), used: True\n",
      "TPU available: False, using: 0 TPU cores\n",
      "HPU available: False, using: 0 HPUs\n",
      "LOCAL_RANK: 0 - CUDA_VISIBLE_DEVICES: [0]\n"
     ]
    },
    {
     "name": "stdout",
     "output_type": "stream",
     "text": [
      "Predicting DataLoader 0: 100%|██████████| 4/4 [00:00<00:00, 54.91it/s]\n"
     ]
    },
    {
     "name": "stderr",
     "output_type": "stream",
     "text": [
      "GPU available: True (cuda), used: True\n",
      "TPU available: False, using: 0 TPU cores\n",
      "HPU available: False, using: 0 HPUs\n",
      "LOCAL_RANK: 0 - CUDA_VISIBLE_DEVICES: [0]\n"
     ]
    },
    {
     "name": "stdout",
     "output_type": "stream",
     "text": [
      "Predicting DataLoader 0: 100%|██████████| 4/4 [00:00<00:00, 42.79it/s]\n"
     ]
    },
    {
     "name": "stderr",
     "output_type": "stream",
     "text": [
      "GPU available: True (cuda), used: True\n",
      "TPU available: False, using: 0 TPU cores\n",
      "HPU available: False, using: 0 HPUs\n",
      "LOCAL_RANK: 0 - CUDA_VISIBLE_DEVICES: [0]\n"
     ]
    },
    {
     "name": "stdout",
     "output_type": "stream",
     "text": [
      "Predicting DataLoader 0: 100%|██████████| 4/4 [00:00<00:00, 55.94it/s]\n"
     ]
    },
    {
     "name": "stderr",
     "output_type": "stream",
     "text": [
      "GPU available: True (cuda), used: True\n",
      "TPU available: False, using: 0 TPU cores\n",
      "HPU available: False, using: 0 HPUs\n",
      "LOCAL_RANK: 0 - CUDA_VISIBLE_DEVICES: [0]\n"
     ]
    },
    {
     "name": "stdout",
     "output_type": "stream",
     "text": [
      "Predicting DataLoader 0: 100%|██████████| 4/4 [00:00<00:00, 52.95it/s]\n"
     ]
    },
    {
     "name": "stderr",
     "output_type": "stream",
     "text": [
      "GPU available: True (cuda), used: True\n",
      "TPU available: False, using: 0 TPU cores\n",
      "HPU available: False, using: 0 HPUs\n",
      "LOCAL_RANK: 0 - CUDA_VISIBLE_DEVICES: [0]\n"
     ]
    },
    {
     "name": "stdout",
     "output_type": "stream",
     "text": [
      "Predicting DataLoader 0: 100%|██████████| 4/4 [00:00<00:00, 53.23it/s]\n"
     ]
    },
    {
     "name": "stderr",
     "output_type": "stream",
     "text": [
      "GPU available: True (cuda), used: True\n",
      "TPU available: False, using: 0 TPU cores\n",
      "HPU available: False, using: 0 HPUs\n",
      "LOCAL_RANK: 0 - CUDA_VISIBLE_DEVICES: [0]\n"
     ]
    },
    {
     "name": "stdout",
     "output_type": "stream",
     "text": [
      "Predicting DataLoader 0: 100%|██████████| 4/4 [00:00<00:00, 56.08it/s]\n"
     ]
    },
    {
     "name": "stderr",
     "output_type": "stream",
     "text": [
      "GPU available: True (cuda), used: True\n",
      "TPU available: False, using: 0 TPU cores\n",
      "HPU available: False, using: 0 HPUs\n",
      "LOCAL_RANK: 0 - CUDA_VISIBLE_DEVICES: [0]\n"
     ]
    },
    {
     "name": "stdout",
     "output_type": "stream",
     "text": [
      "Predicting DataLoader 0: 100%|██████████| 4/4 [00:00<00:00, 42.60it/s]\n"
     ]
    },
    {
     "name": "stderr",
     "output_type": "stream",
     "text": [
      "GPU available: True (cuda), used: True\n",
      "TPU available: False, using: 0 TPU cores\n",
      "HPU available: False, using: 0 HPUs\n",
      "LOCAL_RANK: 0 - CUDA_VISIBLE_DEVICES: [0]\n"
     ]
    },
    {
     "name": "stdout",
     "output_type": "stream",
     "text": [
      "Predicting DataLoader 0: 100%|██████████| 4/4 [00:00<00:00, 48.98it/s]\n"
     ]
    },
    {
     "name": "stderr",
     "output_type": "stream",
     "text": [
      "GPU available: True (cuda), used: True\n",
      "TPU available: False, using: 0 TPU cores\n",
      "HPU available: False, using: 0 HPUs\n",
      "LOCAL_RANK: 0 - CUDA_VISIBLE_DEVICES: [0]\n"
     ]
    },
    {
     "name": "stdout",
     "output_type": "stream",
     "text": [
      "Predicting DataLoader 0: 100%|██████████| 4/4 [00:00<00:00, 48.78it/s]\n"
     ]
    },
    {
     "name": "stderr",
     "output_type": "stream",
     "text": [
      "GPU available: True (cuda), used: True\n",
      "TPU available: False, using: 0 TPU cores\n",
      "HPU available: False, using: 0 HPUs\n",
      "LOCAL_RANK: 0 - CUDA_VISIBLE_DEVICES: [0]\n"
     ]
    },
    {
     "name": "stdout",
     "output_type": "stream",
     "text": [
      "Predicting DataLoader 0: 100%|██████████| 4/4 [00:00<00:00, 44.13it/s]\n"
     ]
    },
    {
     "name": "stderr",
     "output_type": "stream",
     "text": [
      "GPU available: True (cuda), used: True\n",
      "TPU available: False, using: 0 TPU cores\n",
      "HPU available: False, using: 0 HPUs\n",
      "LOCAL_RANK: 0 - CUDA_VISIBLE_DEVICES: [0]\n"
     ]
    },
    {
     "name": "stdout",
     "output_type": "stream",
     "text": [
      "Predicting DataLoader 0: 100%|██████████| 4/4 [00:00<00:00, 47.77it/s]\n"
     ]
    },
    {
     "name": "stderr",
     "output_type": "stream",
     "text": [
      "GPU available: True (cuda), used: True\n",
      "TPU available: False, using: 0 TPU cores\n",
      "HPU available: False, using: 0 HPUs\n",
      "LOCAL_RANK: 0 - CUDA_VISIBLE_DEVICES: [0]\n"
     ]
    },
    {
     "name": "stdout",
     "output_type": "stream",
     "text": [
      "Predicting DataLoader 0: 100%|██████████| 4/4 [00:00<00:00, 48.40it/s]\n"
     ]
    },
    {
     "name": "stderr",
     "output_type": "stream",
     "text": [
      "GPU available: True (cuda), used: True\n",
      "TPU available: False, using: 0 TPU cores\n",
      "HPU available: False, using: 0 HPUs\n",
      "LOCAL_RANK: 0 - CUDA_VISIBLE_DEVICES: [0]\n"
     ]
    },
    {
     "name": "stdout",
     "output_type": "stream",
     "text": [
      "Predicting DataLoader 0: 100%|██████████| 4/4 [00:00<00:00, 50.42it/s]\n"
     ]
    },
    {
     "name": "stderr",
     "output_type": "stream",
     "text": [
      "GPU available: True (cuda), used: True\n",
      "TPU available: False, using: 0 TPU cores\n",
      "HPU available: False, using: 0 HPUs\n",
      "LOCAL_RANK: 0 - CUDA_VISIBLE_DEVICES: [0]\n"
     ]
    },
    {
     "name": "stdout",
     "output_type": "stream",
     "text": [
      "Predicting DataLoader 0: 100%|██████████| 4/4 [00:00<00:00, 45.62it/s]\n"
     ]
    },
    {
     "name": "stderr",
     "output_type": "stream",
     "text": [
      "GPU available: True (cuda), used: True\n",
      "TPU available: False, using: 0 TPU cores\n",
      "HPU available: False, using: 0 HPUs\n",
      "LOCAL_RANK: 0 - CUDA_VISIBLE_DEVICES: [0]\n"
     ]
    },
    {
     "name": "stdout",
     "output_type": "stream",
     "text": [
      "Predicting DataLoader 0: 100%|██████████| 4/4 [00:00<00:00, 46.69it/s]\n"
     ]
    },
    {
     "name": "stderr",
     "output_type": "stream",
     "text": [
      "GPU available: True (cuda), used: True\n",
      "TPU available: False, using: 0 TPU cores\n",
      "HPU available: False, using: 0 HPUs\n",
      "LOCAL_RANK: 0 - CUDA_VISIBLE_DEVICES: [0]\n"
     ]
    },
    {
     "name": "stdout",
     "output_type": "stream",
     "text": [
      "Predicting DataLoader 0: 100%|██████████| 4/4 [00:00<00:00, 47.51it/s]\n"
     ]
    },
    {
     "name": "stderr",
     "output_type": "stream",
     "text": [
      "GPU available: True (cuda), used: True\n",
      "TPU available: False, using: 0 TPU cores\n",
      "HPU available: False, using: 0 HPUs\n",
      "LOCAL_RANK: 0 - CUDA_VISIBLE_DEVICES: [0]\n"
     ]
    },
    {
     "name": "stdout",
     "output_type": "stream",
     "text": [
      "Predicting DataLoader 0: 100%|██████████| 4/4 [00:00<00:00, 46.59it/s]\n"
     ]
    },
    {
     "name": "stderr",
     "output_type": "stream",
     "text": [
      "GPU available: True (cuda), used: True\n",
      "TPU available: False, using: 0 TPU cores\n",
      "HPU available: False, using: 0 HPUs\n",
      "LOCAL_RANK: 0 - CUDA_VISIBLE_DEVICES: [0]\n"
     ]
    },
    {
     "name": "stdout",
     "output_type": "stream",
     "text": [
      "Predicting DataLoader 0: 100%|██████████| 4/4 [00:00<00:00, 45.07it/s]\n"
     ]
    },
    {
     "name": "stderr",
     "output_type": "stream",
     "text": [
      "GPU available: True (cuda), used: True\n",
      "TPU available: False, using: 0 TPU cores\n",
      "HPU available: False, using: 0 HPUs\n",
      "LOCAL_RANK: 0 - CUDA_VISIBLE_DEVICES: [0]\n"
     ]
    },
    {
     "name": "stdout",
     "output_type": "stream",
     "text": [
      "Predicting DataLoader 0: 100%|██████████| 4/4 [00:00<00:00, 49.81it/s]\n"
     ]
    },
    {
     "name": "stderr",
     "output_type": "stream",
     "text": [
      "GPU available: True (cuda), used: True\n",
      "TPU available: False, using: 0 TPU cores\n",
      "HPU available: False, using: 0 HPUs\n",
      "LOCAL_RANK: 0 - CUDA_VISIBLE_DEVICES: [0]\n"
     ]
    },
    {
     "name": "stdout",
     "output_type": "stream",
     "text": [
      "Predicting DataLoader 0: 100%|██████████| 4/4 [00:00<00:00, 50.94it/s]\n"
     ]
    },
    {
     "name": "stderr",
     "output_type": "stream",
     "text": [
      "GPU available: True (cuda), used: True\n",
      "TPU available: False, using: 0 TPU cores\n",
      "HPU available: False, using: 0 HPUs\n",
      "LOCAL_RANK: 0 - CUDA_VISIBLE_DEVICES: [0]\n"
     ]
    },
    {
     "name": "stdout",
     "output_type": "stream",
     "text": [
      "Predicting DataLoader 0: 100%|██████████| 4/4 [00:00<00:00, 39.77it/s]\n"
     ]
    },
    {
     "name": "stderr",
     "output_type": "stream",
     "text": [
      "GPU available: True (cuda), used: True\n",
      "TPU available: False, using: 0 TPU cores\n",
      "HPU available: False, using: 0 HPUs\n",
      "LOCAL_RANK: 0 - CUDA_VISIBLE_DEVICES: [0]\n"
     ]
    },
    {
     "name": "stdout",
     "output_type": "stream",
     "text": [
      "Predicting DataLoader 0: 100%|██████████| 4/4 [00:00<00:00, 54.22it/s]\n"
     ]
    },
    {
     "name": "stderr",
     "output_type": "stream",
     "text": [
      "GPU available: True (cuda), used: True\n",
      "TPU available: False, using: 0 TPU cores\n",
      "HPU available: False, using: 0 HPUs\n",
      "LOCAL_RANK: 0 - CUDA_VISIBLE_DEVICES: [0]\n"
     ]
    },
    {
     "name": "stdout",
     "output_type": "stream",
     "text": [
      "Predicting DataLoader 0: 100%|██████████| 4/4 [00:00<00:00, 55.09it/s]\n"
     ]
    },
    {
     "name": "stderr",
     "output_type": "stream",
     "text": [
      "GPU available: True (cuda), used: True\n",
      "TPU available: False, using: 0 TPU cores\n",
      "HPU available: False, using: 0 HPUs\n",
      "LOCAL_RANK: 0 - CUDA_VISIBLE_DEVICES: [0]\n"
     ]
    },
    {
     "name": "stdout",
     "output_type": "stream",
     "text": [
      "Predicting DataLoader 0: 100%|██████████| 4/4 [00:00<00:00, 57.47it/s]\n"
     ]
    },
    {
     "name": "stderr",
     "output_type": "stream",
     "text": [
      "GPU available: True (cuda), used: True\n",
      "TPU available: False, using: 0 TPU cores\n",
      "HPU available: False, using: 0 HPUs\n",
      "LOCAL_RANK: 0 - CUDA_VISIBLE_DEVICES: [0]\n"
     ]
    },
    {
     "name": "stdout",
     "output_type": "stream",
     "text": [
      "Predicting DataLoader 0: 100%|██████████| 4/4 [00:00<00:00, 48.00it/s]\n"
     ]
    },
    {
     "name": "stderr",
     "output_type": "stream",
     "text": [
      "GPU available: True (cuda), used: True\n",
      "TPU available: False, using: 0 TPU cores\n",
      "HPU available: False, using: 0 HPUs\n",
      "LOCAL_RANK: 0 - CUDA_VISIBLE_DEVICES: [0]\n"
     ]
    },
    {
     "name": "stdout",
     "output_type": "stream",
     "text": [
      "Predicting DataLoader 0: 100%|██████████| 4/4 [00:00<00:00, 48.05it/s]\n"
     ]
    },
    {
     "name": "stderr",
     "output_type": "stream",
     "text": [
      "GPU available: True (cuda), used: True\n",
      "TPU available: False, using: 0 TPU cores\n",
      "HPU available: False, using: 0 HPUs\n",
      "LOCAL_RANK: 0 - CUDA_VISIBLE_DEVICES: [0]\n"
     ]
    },
    {
     "name": "stdout",
     "output_type": "stream",
     "text": [
      "Predicting DataLoader 0: 100%|██████████| 4/4 [00:00<00:00, 46.81it/s]\n"
     ]
    },
    {
     "name": "stderr",
     "output_type": "stream",
     "text": [
      "GPU available: True (cuda), used: True\n",
      "TPU available: False, using: 0 TPU cores\n",
      "HPU available: False, using: 0 HPUs\n",
      "LOCAL_RANK: 0 - CUDA_VISIBLE_DEVICES: [0]\n"
     ]
    },
    {
     "name": "stdout",
     "output_type": "stream",
     "text": [
      "Predicting DataLoader 0: 100%|██████████| 4/4 [00:00<00:00, 46.58it/s]\n"
     ]
    },
    {
     "name": "stderr",
     "output_type": "stream",
     "text": [
      "GPU available: True (cuda), used: True\n",
      "TPU available: False, using: 0 TPU cores\n",
      "HPU available: False, using: 0 HPUs\n",
      "LOCAL_RANK: 0 - CUDA_VISIBLE_DEVICES: [0]\n"
     ]
    },
    {
     "name": "stdout",
     "output_type": "stream",
     "text": [
      "Predicting DataLoader 0: 100%|██████████| 4/4 [00:00<00:00, 49.52it/s]\n"
     ]
    },
    {
     "name": "stderr",
     "output_type": "stream",
     "text": [
      "GPU available: True (cuda), used: True\n",
      "TPU available: False, using: 0 TPU cores\n",
      "HPU available: False, using: 0 HPUs\n",
      "LOCAL_RANK: 0 - CUDA_VISIBLE_DEVICES: [0]\n"
     ]
    },
    {
     "name": "stdout",
     "output_type": "stream",
     "text": [
      "Predicting DataLoader 0: 100%|██████████| 4/4 [00:00<00:00, 50.35it/s]\n"
     ]
    },
    {
     "name": "stderr",
     "output_type": "stream",
     "text": [
      "GPU available: True (cuda), used: True\n",
      "TPU available: False, using: 0 TPU cores\n",
      "HPU available: False, using: 0 HPUs\n",
      "LOCAL_RANK: 0 - CUDA_VISIBLE_DEVICES: [0]\n"
     ]
    },
    {
     "name": "stdout",
     "output_type": "stream",
     "text": [
      "Predicting DataLoader 0: 100%|██████████| 4/4 [00:00<00:00, 52.07it/s]\n"
     ]
    },
    {
     "name": "stderr",
     "output_type": "stream",
     "text": [
      "GPU available: True (cuda), used: True\n",
      "TPU available: False, using: 0 TPU cores\n",
      "HPU available: False, using: 0 HPUs\n",
      "LOCAL_RANK: 0 - CUDA_VISIBLE_DEVICES: [0]\n"
     ]
    },
    {
     "name": "stdout",
     "output_type": "stream",
     "text": [
      "Predicting DataLoader 0: 100%|██████████| 4/4 [00:00<00:00, 55.59it/s]\n"
     ]
    },
    {
     "name": "stderr",
     "output_type": "stream",
     "text": [
      "GPU available: True (cuda), used: True\n",
      "TPU available: False, using: 0 TPU cores\n",
      "HPU available: False, using: 0 HPUs\n",
      "LOCAL_RANK: 0 - CUDA_VISIBLE_DEVICES: [0]\n"
     ]
    },
    {
     "name": "stdout",
     "output_type": "stream",
     "text": [
      "Predicting DataLoader 0: 100%|██████████| 4/4 [00:00<00:00, 53.98it/s]\n"
     ]
    },
    {
     "name": "stderr",
     "output_type": "stream",
     "text": [
      "GPU available: True (cuda), used: True\n",
      "TPU available: False, using: 0 TPU cores\n",
      "HPU available: False, using: 0 HPUs\n",
      "LOCAL_RANK: 0 - CUDA_VISIBLE_DEVICES: [0]\n"
     ]
    },
    {
     "name": "stdout",
     "output_type": "stream",
     "text": [
      "Predicting DataLoader 0: 100%|██████████| 4/4 [00:00<00:00, 40.62it/s]\n"
     ]
    },
    {
     "name": "stderr",
     "output_type": "stream",
     "text": [
      "GPU available: True (cuda), used: True\n",
      "TPU available: False, using: 0 TPU cores\n",
      "HPU available: False, using: 0 HPUs\n",
      "LOCAL_RANK: 0 - CUDA_VISIBLE_DEVICES: [0]\n"
     ]
    },
    {
     "name": "stdout",
     "output_type": "stream",
     "text": [
      "Predicting DataLoader 0: 100%|██████████| 4/4 [00:00<00:00, 47.21it/s]\n"
     ]
    },
    {
     "name": "stderr",
     "output_type": "stream",
     "text": [
      "GPU available: True (cuda), used: True\n",
      "TPU available: False, using: 0 TPU cores\n",
      "HPU available: False, using: 0 HPUs\n",
      "LOCAL_RANK: 0 - CUDA_VISIBLE_DEVICES: [0]\n"
     ]
    },
    {
     "name": "stdout",
     "output_type": "stream",
     "text": [
      "Predicting DataLoader 0: 100%|██████████| 4/4 [00:00<00:00, 50.53it/s]\n"
     ]
    },
    {
     "name": "stderr",
     "output_type": "stream",
     "text": [
      "GPU available: True (cuda), used: True\n",
      "TPU available: False, using: 0 TPU cores\n",
      "HPU available: False, using: 0 HPUs\n",
      "LOCAL_RANK: 0 - CUDA_VISIBLE_DEVICES: [0]\n"
     ]
    },
    {
     "name": "stdout",
     "output_type": "stream",
     "text": [
      "Predicting DataLoader 0: 100%|██████████| 4/4 [00:00<00:00, 50.62it/s]\n"
     ]
    },
    {
     "name": "stderr",
     "output_type": "stream",
     "text": [
      "GPU available: True (cuda), used: True\n",
      "TPU available: False, using: 0 TPU cores\n",
      "HPU available: False, using: 0 HPUs\n",
      "LOCAL_RANK: 0 - CUDA_VISIBLE_DEVICES: [0]\n"
     ]
    },
    {
     "name": "stdout",
     "output_type": "stream",
     "text": [
      "Predicting DataLoader 0: 100%|██████████| 4/4 [00:00<00:00, 52.67it/s]\n"
     ]
    },
    {
     "name": "stderr",
     "output_type": "stream",
     "text": [
      "GPU available: True (cuda), used: True\n",
      "TPU available: False, using: 0 TPU cores\n",
      "HPU available: False, using: 0 HPUs\n",
      "LOCAL_RANK: 0 - CUDA_VISIBLE_DEVICES: [0]\n"
     ]
    },
    {
     "name": "stdout",
     "output_type": "stream",
     "text": [
      "Predicting DataLoader 0: 100%|██████████| 4/4 [00:00<00:00, 50.70it/s]\n"
     ]
    },
    {
     "name": "stderr",
     "output_type": "stream",
     "text": [
      "GPU available: True (cuda), used: True\n",
      "TPU available: False, using: 0 TPU cores\n",
      "HPU available: False, using: 0 HPUs\n",
      "LOCAL_RANK: 0 - CUDA_VISIBLE_DEVICES: [0]\n"
     ]
    },
    {
     "name": "stdout",
     "output_type": "stream",
     "text": [
      "Predicting DataLoader 0: 100%|██████████| 4/4 [00:00<00:00, 55.01it/s]\n"
     ]
    },
    {
     "name": "stderr",
     "output_type": "stream",
     "text": [
      "GPU available: True (cuda), used: True\n",
      "TPU available: False, using: 0 TPU cores\n",
      "HPU available: False, using: 0 HPUs\n",
      "LOCAL_RANK: 0 - CUDA_VISIBLE_DEVICES: [0]\n"
     ]
    },
    {
     "name": "stdout",
     "output_type": "stream",
     "text": [
      "Predicting DataLoader 0: 100%|██████████| 4/4 [00:00<00:00, 39.31it/s]\n"
     ]
    },
    {
     "name": "stderr",
     "output_type": "stream",
     "text": [
      "GPU available: True (cuda), used: True\n",
      "TPU available: False, using: 0 TPU cores\n",
      "HPU available: False, using: 0 HPUs\n",
      "LOCAL_RANK: 0 - CUDA_VISIBLE_DEVICES: [0]\n"
     ]
    },
    {
     "name": "stdout",
     "output_type": "stream",
     "text": [
      "Predicting DataLoader 0: 100%|██████████| 4/4 [00:00<00:00, 48.73it/s]\n"
     ]
    },
    {
     "name": "stderr",
     "output_type": "stream",
     "text": [
      "GPU available: True (cuda), used: True\n",
      "TPU available: False, using: 0 TPU cores\n",
      "HPU available: False, using: 0 HPUs\n",
      "LOCAL_RANK: 0 - CUDA_VISIBLE_DEVICES: [0]\n"
     ]
    },
    {
     "name": "stdout",
     "output_type": "stream",
     "text": [
      "Predicting DataLoader 0: 100%|██████████| 4/4 [00:00<00:00, 42.35it/s]\n"
     ]
    },
    {
     "name": "stderr",
     "output_type": "stream",
     "text": [
      "GPU available: True (cuda), used: True\n",
      "TPU available: False, using: 0 TPU cores\n",
      "HPU available: False, using: 0 HPUs\n",
      "LOCAL_RANK: 0 - CUDA_VISIBLE_DEVICES: [0]\n"
     ]
    },
    {
     "name": "stdout",
     "output_type": "stream",
     "text": [
      "Predicting DataLoader 0: 100%|██████████| 4/4 [00:00<00:00, 43.05it/s]\n"
     ]
    },
    {
     "name": "stderr",
     "output_type": "stream",
     "text": [
      "GPU available: True (cuda), used: True\n",
      "TPU available: False, using: 0 TPU cores\n",
      "HPU available: False, using: 0 HPUs\n",
      "LOCAL_RANK: 0 - CUDA_VISIBLE_DEVICES: [0]\n"
     ]
    },
    {
     "name": "stdout",
     "output_type": "stream",
     "text": [
      "Predicting DataLoader 0: 100%|██████████| 4/4 [00:00<00:00, 50.14it/s]\n"
     ]
    },
    {
     "name": "stderr",
     "output_type": "stream",
     "text": [
      "GPU available: True (cuda), used: True\n",
      "TPU available: False, using: 0 TPU cores\n",
      "HPU available: False, using: 0 HPUs\n",
      "LOCAL_RANK: 0 - CUDA_VISIBLE_DEVICES: [0]\n"
     ]
    },
    {
     "name": "stdout",
     "output_type": "stream",
     "text": [
      "Predicting DataLoader 0: 100%|██████████| 4/4 [00:00<00:00, 51.17it/s]\n"
     ]
    },
    {
     "name": "stderr",
     "output_type": "stream",
     "text": [
      "GPU available: True (cuda), used: True\n",
      "TPU available: False, using: 0 TPU cores\n",
      "HPU available: False, using: 0 HPUs\n",
      "LOCAL_RANK: 0 - CUDA_VISIBLE_DEVICES: [0]\n"
     ]
    },
    {
     "name": "stdout",
     "output_type": "stream",
     "text": [
      "Predicting DataLoader 0: 100%|██████████| 4/4 [00:00<00:00, 49.17it/s]\n"
     ]
    },
    {
     "name": "stderr",
     "output_type": "stream",
     "text": [
      "GPU available: True (cuda), used: True\n",
      "TPU available: False, using: 0 TPU cores\n",
      "HPU available: False, using: 0 HPUs\n",
      "LOCAL_RANK: 0 - CUDA_VISIBLE_DEVICES: [0]\n"
     ]
    },
    {
     "name": "stdout",
     "output_type": "stream",
     "text": [
      "Predicting DataLoader 0: 100%|██████████| 4/4 [00:00<00:00, 44.74it/s]\n"
     ]
    },
    {
     "name": "stderr",
     "output_type": "stream",
     "text": [
      "GPU available: True (cuda), used: True\n",
      "TPU available: False, using: 0 TPU cores\n",
      "HPU available: False, using: 0 HPUs\n",
      "LOCAL_RANK: 0 - CUDA_VISIBLE_DEVICES: [0]\n"
     ]
    },
    {
     "name": "stdout",
     "output_type": "stream",
     "text": [
      "Predicting DataLoader 0: 100%|██████████| 4/4 [00:00<00:00, 43.08it/s]\n"
     ]
    },
    {
     "name": "stderr",
     "output_type": "stream",
     "text": [
      "GPU available: True (cuda), used: True\n",
      "TPU available: False, using: 0 TPU cores\n",
      "HPU available: False, using: 0 HPUs\n",
      "LOCAL_RANK: 0 - CUDA_VISIBLE_DEVICES: [0]\n"
     ]
    },
    {
     "name": "stdout",
     "output_type": "stream",
     "text": [
      "Predicting DataLoader 0: 100%|██████████| 4/4 [00:00<00:00, 46.78it/s]\n"
     ]
    },
    {
     "name": "stderr",
     "output_type": "stream",
     "text": [
      "GPU available: True (cuda), used: True\n",
      "TPU available: False, using: 0 TPU cores\n",
      "HPU available: False, using: 0 HPUs\n",
      "LOCAL_RANK: 0 - CUDA_VISIBLE_DEVICES: [0]\n"
     ]
    },
    {
     "name": "stdout",
     "output_type": "stream",
     "text": [
      "Predicting DataLoader 0: 100%|██████████| 4/4 [00:00<00:00, 47.77it/s]\n"
     ]
    },
    {
     "name": "stderr",
     "output_type": "stream",
     "text": [
      "GPU available: True (cuda), used: True\n",
      "TPU available: False, using: 0 TPU cores\n",
      "HPU available: False, using: 0 HPUs\n",
      "LOCAL_RANK: 0 - CUDA_VISIBLE_DEVICES: [0]\n"
     ]
    },
    {
     "name": "stdout",
     "output_type": "stream",
     "text": [
      "Predicting DataLoader 0: 100%|██████████| 4/4 [00:00<00:00, 53.22it/s]\n"
     ]
    },
    {
     "name": "stderr",
     "output_type": "stream",
     "text": [
      "GPU available: True (cuda), used: True\n",
      "TPU available: False, using: 0 TPU cores\n",
      "HPU available: False, using: 0 HPUs\n",
      "LOCAL_RANK: 0 - CUDA_VISIBLE_DEVICES: [0]\n"
     ]
    },
    {
     "name": "stdout",
     "output_type": "stream",
     "text": [
      "Predicting DataLoader 0: 100%|██████████| 4/4 [00:00<00:00, 47.06it/s]\n"
     ]
    },
    {
     "name": "stderr",
     "output_type": "stream",
     "text": [
      "GPU available: True (cuda), used: True\n",
      "TPU available: False, using: 0 TPU cores\n",
      "HPU available: False, using: 0 HPUs\n",
      "LOCAL_RANK: 0 - CUDA_VISIBLE_DEVICES: [0]\n"
     ]
    },
    {
     "name": "stdout",
     "output_type": "stream",
     "text": [
      "Predicting DataLoader 0: 100%|██████████| 4/4 [00:00<00:00, 39.03it/s]\n"
     ]
    },
    {
     "name": "stderr",
     "output_type": "stream",
     "text": [
      "GPU available: True (cuda), used: True\n",
      "TPU available: False, using: 0 TPU cores\n",
      "HPU available: False, using: 0 HPUs\n",
      "LOCAL_RANK: 0 - CUDA_VISIBLE_DEVICES: [0]\n"
     ]
    },
    {
     "name": "stdout",
     "output_type": "stream",
     "text": [
      "Predicting DataLoader 0: 100%|██████████| 4/4 [00:00<00:00, 48.09it/s]\n"
     ]
    },
    {
     "name": "stderr",
     "output_type": "stream",
     "text": [
      "GPU available: True (cuda), used: True\n",
      "TPU available: False, using: 0 TPU cores\n",
      "HPU available: False, using: 0 HPUs\n",
      "LOCAL_RANK: 0 - CUDA_VISIBLE_DEVICES: [0]\n"
     ]
    },
    {
     "name": "stdout",
     "output_type": "stream",
     "text": [
      "Predicting DataLoader 0: 100%|██████████| 4/4 [00:00<00:00, 48.86it/s]\n"
     ]
    },
    {
     "name": "stderr",
     "output_type": "stream",
     "text": [
      "GPU available: True (cuda), used: True\n",
      "TPU available: False, using: 0 TPU cores\n",
      "HPU available: False, using: 0 HPUs\n",
      "LOCAL_RANK: 0 - CUDA_VISIBLE_DEVICES: [0]\n"
     ]
    },
    {
     "name": "stdout",
     "output_type": "stream",
     "text": [
      "Predicting DataLoader 0: 100%|██████████| 4/4 [00:00<00:00, 47.55it/s]\n"
     ]
    },
    {
     "name": "stderr",
     "output_type": "stream",
     "text": [
      "GPU available: True (cuda), used: True\n",
      "TPU available: False, using: 0 TPU cores\n",
      "HPU available: False, using: 0 HPUs\n",
      "LOCAL_RANK: 0 - CUDA_VISIBLE_DEVICES: [0]\n"
     ]
    },
    {
     "name": "stdout",
     "output_type": "stream",
     "text": [
      "Predicting DataLoader 0: 100%|██████████| 4/4 [00:00<00:00, 49.93it/s]\n"
     ]
    },
    {
     "name": "stderr",
     "output_type": "stream",
     "text": [
      "GPU available: True (cuda), used: True\n",
      "TPU available: False, using: 0 TPU cores\n",
      "HPU available: False, using: 0 HPUs\n",
      "LOCAL_RANK: 0 - CUDA_VISIBLE_DEVICES: [0]\n"
     ]
    },
    {
     "name": "stdout",
     "output_type": "stream",
     "text": [
      "Predicting DataLoader 0: 100%|██████████| 4/4 [00:00<00:00, 49.62it/s]\n"
     ]
    },
    {
     "name": "stderr",
     "output_type": "stream",
     "text": [
      "GPU available: True (cuda), used: True\n",
      "TPU available: False, using: 0 TPU cores\n",
      "HPU available: False, using: 0 HPUs\n",
      "LOCAL_RANK: 0 - CUDA_VISIBLE_DEVICES: [0]\n"
     ]
    },
    {
     "name": "stdout",
     "output_type": "stream",
     "text": [
      "Predicting DataLoader 0: 100%|██████████| 4/4 [00:00<00:00, 43.15it/s]\n"
     ]
    },
    {
     "name": "stderr",
     "output_type": "stream",
     "text": [
      "GPU available: True (cuda), used: True\n",
      "TPU available: False, using: 0 TPU cores\n",
      "HPU available: False, using: 0 HPUs\n",
      "LOCAL_RANK: 0 - CUDA_VISIBLE_DEVICES: [0]\n"
     ]
    },
    {
     "name": "stdout",
     "output_type": "stream",
     "text": [
      "Predicting DataLoader 0: 100%|██████████| 4/4 [00:00<00:00, 38.55it/s]\n"
     ]
    },
    {
     "name": "stderr",
     "output_type": "stream",
     "text": [
      "GPU available: True (cuda), used: True\n",
      "TPU available: False, using: 0 TPU cores\n",
      "HPU available: False, using: 0 HPUs\n",
      "LOCAL_RANK: 0 - CUDA_VISIBLE_DEVICES: [0]\n"
     ]
    },
    {
     "name": "stdout",
     "output_type": "stream",
     "text": [
      "Predicting DataLoader 0: 100%|██████████| 4/4 [00:00<00:00, 48.43it/s]\n"
     ]
    },
    {
     "name": "stderr",
     "output_type": "stream",
     "text": [
      "GPU available: True (cuda), used: True\n",
      "TPU available: False, using: 0 TPU cores\n",
      "HPU available: False, using: 0 HPUs\n",
      "LOCAL_RANK: 0 - CUDA_VISIBLE_DEVICES: [0]\n"
     ]
    },
    {
     "name": "stdout",
     "output_type": "stream",
     "text": [
      "Predicting DataLoader 0: 100%|██████████| 4/4 [00:00<00:00, 49.58it/s]\n"
     ]
    },
    {
     "name": "stderr",
     "output_type": "stream",
     "text": [
      "GPU available: True (cuda), used: True\n",
      "TPU available: False, using: 0 TPU cores\n",
      "HPU available: False, using: 0 HPUs\n",
      "LOCAL_RANK: 0 - CUDA_VISIBLE_DEVICES: [0]\n"
     ]
    },
    {
     "name": "stdout",
     "output_type": "stream",
     "text": [
      "Predicting DataLoader 0: 100%|██████████| 4/4 [00:00<00:00, 53.12it/s]\n"
     ]
    },
    {
     "name": "stderr",
     "output_type": "stream",
     "text": [
      "GPU available: True (cuda), used: True\n",
      "TPU available: False, using: 0 TPU cores\n",
      "HPU available: False, using: 0 HPUs\n",
      "LOCAL_RANK: 0 - CUDA_VISIBLE_DEVICES: [0]\n"
     ]
    },
    {
     "name": "stdout",
     "output_type": "stream",
     "text": [
      "Predicting DataLoader 0: 100%|██████████| 4/4 [00:00<00:00, 47.06it/s]\n"
     ]
    },
    {
     "name": "stderr",
     "output_type": "stream",
     "text": [
      "GPU available: True (cuda), used: True\n",
      "TPU available: False, using: 0 TPU cores\n",
      "HPU available: False, using: 0 HPUs\n",
      "LOCAL_RANK: 0 - CUDA_VISIBLE_DEVICES: [0]\n"
     ]
    },
    {
     "name": "stdout",
     "output_type": "stream",
     "text": [
      "Predicting DataLoader 0: 100%|██████████| 4/4 [00:00<00:00, 48.59it/s]\n"
     ]
    },
    {
     "name": "stderr",
     "output_type": "stream",
     "text": [
      "GPU available: True (cuda), used: True\n",
      "TPU available: False, using: 0 TPU cores\n",
      "HPU available: False, using: 0 HPUs\n",
      "LOCAL_RANK: 0 - CUDA_VISIBLE_DEVICES: [0]\n"
     ]
    },
    {
     "name": "stdout",
     "output_type": "stream",
     "text": [
      "Predicting DataLoader 0: 100%|██████████| 4/4 [00:00<00:00, 45.61it/s]\n"
     ]
    },
    {
     "name": "stderr",
     "output_type": "stream",
     "text": [
      "GPU available: True (cuda), used: True\n",
      "TPU available: False, using: 0 TPU cores\n",
      "HPU available: False, using: 0 HPUs\n",
      "LOCAL_RANK: 0 - CUDA_VISIBLE_DEVICES: [0]\n"
     ]
    },
    {
     "name": "stdout",
     "output_type": "stream",
     "text": [
      "Predicting DataLoader 0: 100%|██████████| 4/4 [00:00<00:00, 51.29it/s]\n"
     ]
    },
    {
     "name": "stderr",
     "output_type": "stream",
     "text": [
      "GPU available: True (cuda), used: True\n",
      "TPU available: False, using: 0 TPU cores\n",
      "HPU available: False, using: 0 HPUs\n",
      "LOCAL_RANK: 0 - CUDA_VISIBLE_DEVICES: [0]\n"
     ]
    },
    {
     "name": "stdout",
     "output_type": "stream",
     "text": [
      "Predicting DataLoader 0: 100%|██████████| 4/4 [00:00<00:00, 49.17it/s]\n"
     ]
    },
    {
     "name": "stderr",
     "output_type": "stream",
     "text": [
      "GPU available: True (cuda), used: True\n",
      "TPU available: False, using: 0 TPU cores\n",
      "HPU available: False, using: 0 HPUs\n",
      "LOCAL_RANK: 0 - CUDA_VISIBLE_DEVICES: [0]\n"
     ]
    },
    {
     "name": "stdout",
     "output_type": "stream",
     "text": [
      "Predicting DataLoader 0: 100%|██████████| 4/4 [00:00<00:00, 50.37it/s]\n"
     ]
    },
    {
     "name": "stderr",
     "output_type": "stream",
     "text": [
      "GPU available: True (cuda), used: True\n",
      "TPU available: False, using: 0 TPU cores\n",
      "HPU available: False, using: 0 HPUs\n",
      "LOCAL_RANK: 0 - CUDA_VISIBLE_DEVICES: [0]\n"
     ]
    },
    {
     "name": "stdout",
     "output_type": "stream",
     "text": [
      "Predicting DataLoader 0: 100%|██████████| 4/4 [00:00<00:00, 49.11it/s]\n"
     ]
    },
    {
     "name": "stderr",
     "output_type": "stream",
     "text": [
      "GPU available: True (cuda), used: True\n",
      "TPU available: False, using: 0 TPU cores\n",
      "HPU available: False, using: 0 HPUs\n",
      "LOCAL_RANK: 0 - CUDA_VISIBLE_DEVICES: [0]\n"
     ]
    },
    {
     "name": "stdout",
     "output_type": "stream",
     "text": [
      "Predicting DataLoader 0: 100%|██████████| 4/4 [00:00<00:00, 48.63it/s]\n"
     ]
    },
    {
     "name": "stderr",
     "output_type": "stream",
     "text": [
      "GPU available: True (cuda), used: True\n",
      "TPU available: False, using: 0 TPU cores\n",
      "HPU available: False, using: 0 HPUs\n",
      "LOCAL_RANK: 0 - CUDA_VISIBLE_DEVICES: [0]\n"
     ]
    },
    {
     "name": "stdout",
     "output_type": "stream",
     "text": [
      "Predicting DataLoader 0: 100%|██████████| 4/4 [00:00<00:00, 44.50it/s]\n"
     ]
    },
    {
     "name": "stderr",
     "output_type": "stream",
     "text": [
      "GPU available: True (cuda), used: True\n",
      "TPU available: False, using: 0 TPU cores\n",
      "HPU available: False, using: 0 HPUs\n",
      "LOCAL_RANK: 0 - CUDA_VISIBLE_DEVICES: [0]\n"
     ]
    },
    {
     "name": "stdout",
     "output_type": "stream",
     "text": [
      "Predicting DataLoader 0: 100%|██████████| 4/4 [00:00<00:00, 49.73it/s]\n"
     ]
    },
    {
     "name": "stderr",
     "output_type": "stream",
     "text": [
      "GPU available: True (cuda), used: True\n",
      "TPU available: False, using: 0 TPU cores\n",
      "HPU available: False, using: 0 HPUs\n",
      "LOCAL_RANK: 0 - CUDA_VISIBLE_DEVICES: [0]\n"
     ]
    },
    {
     "name": "stdout",
     "output_type": "stream",
     "text": [
      "Predicting DataLoader 0: 100%|██████████| 4/4 [00:00<00:00, 53.76it/s]\n"
     ]
    },
    {
     "name": "stderr",
     "output_type": "stream",
     "text": [
      "GPU available: True (cuda), used: True\n",
      "TPU available: False, using: 0 TPU cores\n",
      "HPU available: False, using: 0 HPUs\n",
      "LOCAL_RANK: 0 - CUDA_VISIBLE_DEVICES: [0]\n"
     ]
    },
    {
     "name": "stdout",
     "output_type": "stream",
     "text": [
      "Predicting DataLoader 0: 100%|██████████| 4/4 [00:00<00:00, 52.18it/s]\n"
     ]
    },
    {
     "name": "stderr",
     "output_type": "stream",
     "text": [
      "GPU available: True (cuda), used: True\n",
      "TPU available: False, using: 0 TPU cores\n",
      "HPU available: False, using: 0 HPUs\n",
      "LOCAL_RANK: 0 - CUDA_VISIBLE_DEVICES: [0]\n"
     ]
    },
    {
     "name": "stdout",
     "output_type": "stream",
     "text": [
      "Predicting DataLoader 0: 100%|██████████| 4/4 [00:00<00:00, 55.80it/s]\n"
     ]
    },
    {
     "name": "stderr",
     "output_type": "stream",
     "text": [
      "GPU available: True (cuda), used: True\n",
      "TPU available: False, using: 0 TPU cores\n",
      "HPU available: False, using: 0 HPUs\n",
      "LOCAL_RANK: 0 - CUDA_VISIBLE_DEVICES: [0]\n"
     ]
    },
    {
     "name": "stdout",
     "output_type": "stream",
     "text": [
      "Predicting DataLoader 0: 100%|██████████| 4/4 [00:00<00:00, 51.20it/s]\n"
     ]
    },
    {
     "name": "stderr",
     "output_type": "stream",
     "text": [
      "GPU available: True (cuda), used: True\n",
      "TPU available: False, using: 0 TPU cores\n",
      "HPU available: False, using: 0 HPUs\n",
      "LOCAL_RANK: 0 - CUDA_VISIBLE_DEVICES: [0]\n"
     ]
    },
    {
     "name": "stdout",
     "output_type": "stream",
     "text": [
      "Predicting DataLoader 0: 100%|██████████| 4/4 [00:00<00:00, 52.14it/s]\n"
     ]
    },
    {
     "name": "stderr",
     "output_type": "stream",
     "text": [
      "GPU available: True (cuda), used: True\n",
      "TPU available: False, using: 0 TPU cores\n",
      "HPU available: False, using: 0 HPUs\n",
      "LOCAL_RANK: 0 - CUDA_VISIBLE_DEVICES: [0]\n"
     ]
    },
    {
     "name": "stdout",
     "output_type": "stream",
     "text": [
      "Predicting DataLoader 0: 100%|██████████| 4/4 [00:00<00:00, 58.07it/s]\n"
     ]
    },
    {
     "name": "stderr",
     "output_type": "stream",
     "text": [
      "GPU available: True (cuda), used: True\n",
      "TPU available: False, using: 0 TPU cores\n",
      "HPU available: False, using: 0 HPUs\n",
      "LOCAL_RANK: 0 - CUDA_VISIBLE_DEVICES: [0]\n"
     ]
    },
    {
     "name": "stdout",
     "output_type": "stream",
     "text": [
      "Predicting DataLoader 0: 100%|██████████| 4/4 [00:00<00:00, 44.59it/s]\n"
     ]
    },
    {
     "name": "stderr",
     "output_type": "stream",
     "text": [
      "GPU available: True (cuda), used: True\n",
      "TPU available: False, using: 0 TPU cores\n",
      "HPU available: False, using: 0 HPUs\n",
      "LOCAL_RANK: 0 - CUDA_VISIBLE_DEVICES: [0]\n"
     ]
    },
    {
     "name": "stdout",
     "output_type": "stream",
     "text": [
      "Predicting DataLoader 0: 100%|██████████| 4/4 [00:00<00:00, 49.74it/s]\n"
     ]
    },
    {
     "name": "stderr",
     "output_type": "stream",
     "text": [
      "GPU available: True (cuda), used: True\n",
      "TPU available: False, using: 0 TPU cores\n",
      "HPU available: False, using: 0 HPUs\n",
      "LOCAL_RANK: 0 - CUDA_VISIBLE_DEVICES: [0]\n"
     ]
    },
    {
     "name": "stdout",
     "output_type": "stream",
     "text": [
      "Predicting DataLoader 0: 100%|██████████| 4/4 [00:00<00:00, 56.75it/s]\n"
     ]
    },
    {
     "name": "stderr",
     "output_type": "stream",
     "text": [
      "GPU available: True (cuda), used: True\n",
      "TPU available: False, using: 0 TPU cores\n",
      "HPU available: False, using: 0 HPUs\n",
      "LOCAL_RANK: 0 - CUDA_VISIBLE_DEVICES: [0]\n"
     ]
    },
    {
     "name": "stdout",
     "output_type": "stream",
     "text": [
      "Predicting DataLoader 0: 100%|██████████| 4/4 [00:00<00:00, 53.68it/s]\n"
     ]
    },
    {
     "name": "stderr",
     "output_type": "stream",
     "text": [
      "GPU available: True (cuda), used: True\n",
      "TPU available: False, using: 0 TPU cores\n",
      "HPU available: False, using: 0 HPUs\n",
      "LOCAL_RANK: 0 - CUDA_VISIBLE_DEVICES: [0]\n"
     ]
    },
    {
     "name": "stdout",
     "output_type": "stream",
     "text": [
      "Predicting DataLoader 0: 100%|██████████| 4/4 [00:00<00:00, 55.19it/s]\n"
     ]
    },
    {
     "name": "stderr",
     "output_type": "stream",
     "text": [
      "GPU available: True (cuda), used: True\n",
      "TPU available: False, using: 0 TPU cores\n",
      "HPU available: False, using: 0 HPUs\n",
      "LOCAL_RANK: 0 - CUDA_VISIBLE_DEVICES: [0]\n"
     ]
    },
    {
     "name": "stdout",
     "output_type": "stream",
     "text": [
      "Predicting DataLoader 0: 100%|██████████| 4/4 [00:00<00:00, 49.69it/s]\n"
     ]
    },
    {
     "name": "stderr",
     "output_type": "stream",
     "text": [
      "GPU available: True (cuda), used: True\n",
      "TPU available: False, using: 0 TPU cores\n",
      "HPU available: False, using: 0 HPUs\n",
      "LOCAL_RANK: 0 - CUDA_VISIBLE_DEVICES: [0]\n"
     ]
    },
    {
     "name": "stdout",
     "output_type": "stream",
     "text": [
      "Predicting DataLoader 0: 100%|██████████| 4/4 [00:00<00:00, 53.49it/s]\n"
     ]
    },
    {
     "name": "stderr",
     "output_type": "stream",
     "text": [
      "GPU available: True (cuda), used: True\n",
      "TPU available: False, using: 0 TPU cores\n",
      "HPU available: False, using: 0 HPUs\n",
      "LOCAL_RANK: 0 - CUDA_VISIBLE_DEVICES: [0]\n"
     ]
    },
    {
     "name": "stdout",
     "output_type": "stream",
     "text": [
      "Predicting DataLoader 0: 100%|██████████| 4/4 [00:00<00:00, 47.60it/s]\n"
     ]
    },
    {
     "name": "stderr",
     "output_type": "stream",
     "text": [
      "GPU available: True (cuda), used: True\n",
      "TPU available: False, using: 0 TPU cores\n",
      "HPU available: False, using: 0 HPUs\n",
      "LOCAL_RANK: 0 - CUDA_VISIBLE_DEVICES: [0]\n"
     ]
    },
    {
     "name": "stdout",
     "output_type": "stream",
     "text": [
      "Predicting DataLoader 0: 100%|██████████| 4/4 [00:00<00:00, 47.47it/s]\n"
     ]
    },
    {
     "name": "stderr",
     "output_type": "stream",
     "text": [
      "GPU available: True (cuda), used: True\n",
      "TPU available: False, using: 0 TPU cores\n",
      "HPU available: False, using: 0 HPUs\n",
      "LOCAL_RANK: 0 - CUDA_VISIBLE_DEVICES: [0]\n"
     ]
    },
    {
     "name": "stdout",
     "output_type": "stream",
     "text": [
      "Predicting DataLoader 0: 100%|██████████| 4/4 [00:00<00:00, 42.23it/s]\n"
     ]
    },
    {
     "name": "stderr",
     "output_type": "stream",
     "text": [
      "GPU available: True (cuda), used: True\n",
      "TPU available: False, using: 0 TPU cores\n",
      "HPU available: False, using: 0 HPUs\n",
      "LOCAL_RANK: 0 - CUDA_VISIBLE_DEVICES: [0]\n"
     ]
    },
    {
     "name": "stdout",
     "output_type": "stream",
     "text": [
      "Predicting DataLoader 0: 100%|██████████| 4/4 [00:00<00:00, 44.88it/s]\n"
     ]
    },
    {
     "name": "stderr",
     "output_type": "stream",
     "text": [
      "GPU available: True (cuda), used: True\n",
      "TPU available: False, using: 0 TPU cores\n",
      "HPU available: False, using: 0 HPUs\n",
      "LOCAL_RANK: 0 - CUDA_VISIBLE_DEVICES: [0]\n"
     ]
    },
    {
     "name": "stdout",
     "output_type": "stream",
     "text": [
      "Predicting DataLoader 0: 100%|██████████| 4/4 [00:00<00:00, 44.14it/s]\n"
     ]
    },
    {
     "name": "stderr",
     "output_type": "stream",
     "text": [
      "GPU available: True (cuda), used: True\n",
      "TPU available: False, using: 0 TPU cores\n",
      "HPU available: False, using: 0 HPUs\n",
      "LOCAL_RANK: 0 - CUDA_VISIBLE_DEVICES: [0]\n"
     ]
    },
    {
     "name": "stdout",
     "output_type": "stream",
     "text": [
      "Predicting DataLoader 0: 100%|██████████| 4/4 [00:00<00:00, 48.47it/s]\n"
     ]
    },
    {
     "name": "stderr",
     "output_type": "stream",
     "text": [
      "GPU available: True (cuda), used: True\n",
      "TPU available: False, using: 0 TPU cores\n",
      "HPU available: False, using: 0 HPUs\n",
      "LOCAL_RANK: 0 - CUDA_VISIBLE_DEVICES: [0]\n"
     ]
    },
    {
     "name": "stdout",
     "output_type": "stream",
     "text": [
      "Predicting DataLoader 0: 100%|██████████| 4/4 [00:00<00:00, 42.58it/s]\n",
      "Rolling eval done in 69.31 s\n"
     ]
    },
    {
     "data": {
      "text/html": [
       "<div>\n",
       "<style scoped>\n",
       "    .dataframe tbody tr th:only-of-type {\n",
       "        vertical-align: middle;\n",
       "    }\n",
       "\n",
       "    .dataframe tbody tr th {\n",
       "        vertical-align: top;\n",
       "    }\n",
       "\n",
       "    .dataframe thead th {\n",
       "        text-align: right;\n",
       "    }\n",
       "</style>\n",
       "<table border=\"1\" class=\"dataframe\">\n",
       "  <thead>\n",
       "    <tr style=\"text-align: right;\">\n",
       "      <th></th>\n",
       "      <th>R2</th>\n",
       "      <th>MSE_ppb2</th>\n",
       "      <th>SMAPE_%</th>\n",
       "      <th>N</th>\n",
       "    </tr>\n",
       "    <tr>\n",
       "      <th>pollutant</th>\n",
       "      <th></th>\n",
       "      <th></th>\n",
       "      <th></th>\n",
       "      <th></th>\n",
       "    </tr>\n",
       "  </thead>\n",
       "  <tbody>\n",
       "    <tr>\n",
       "      <th>CO</th>\n",
       "      <td>0.191</td>\n",
       "      <td>13866.335</td>\n",
       "      <td>16.398</td>\n",
       "      <td>7755</td>\n",
       "    </tr>\n",
       "    <tr>\n",
       "      <th>NO2</th>\n",
       "      <td>-0.060</td>\n",
       "      <td>27.651</td>\n",
       "      <td>19.302</td>\n",
       "      <td>7755</td>\n",
       "    </tr>\n",
       "    <tr>\n",
       "      <th>O3</th>\n",
       "      <td>-0.019</td>\n",
       "      <td>57.766</td>\n",
       "      <td>10.501</td>\n",
       "      <td>7755</td>\n",
       "    </tr>\n",
       "    <tr>\n",
       "      <th>SO2</th>\n",
       "      <td>0.474</td>\n",
       "      <td>43426.649</td>\n",
       "      <td>32.140</td>\n",
       "      <td>7755</td>\n",
       "    </tr>\n",
       "  </tbody>\n",
       "</table>\n",
       "</div>"
      ],
      "text/plain": [
       "              R2   MSE_ppb2  SMAPE_%     N\n",
       "pollutant                                 \n",
       "CO         0.191  13866.335   16.398  7755\n",
       "NO2       -0.060     27.651   19.302  7755\n",
       "O3        -0.019     57.766   10.501  7755\n",
       "SO2        0.474  43426.649   32.140  7755"
      ]
     },
     "metadata": {},
     "output_type": "display_data"
    }
   ],
   "source": [
    "# Informer — train on subset, immediate & rolling evaluation (subset cities)\n",
    "\n",
    "# Build NeuralForecast long format: ['unique_id','ds','y']\n",
    "df_nf = df_long.rename(columns={\"date\":\"ds\"})[[\"unique_id\",\"ds\",\"y\"]].copy()\n",
    "\n",
    "# Train/val cut\n",
    "df_train_val_nf = df_nf[df_nf[\"ds\"] <= VAL_END].copy()\n",
    "\n",
    "INF_H = CFG.PRED_WINDOW\n",
    "INF_L = CFG.INPUT_WINDOW\n",
    "INF_HIDDEN = 64   \n",
    "INF_FACTOR = 10\n",
    "INF_HEADS = 4\n",
    "INF_MAX_STEPS = 1000   #lowered for demo\n",
    "INF_LR = CFG.LR\n",
    "\n",
    "nf_informer = NFInformer(\n",
    "    h=INF_H,\n",
    "    input_size=INF_L,\n",
    "    hidden_size=INF_HIDDEN,\n",
    "    n_head=INF_HEADS,\n",
    "    factor=INF_FACTOR,\n",
    "    dropout=CFG.DROPOUT,\n",
    "    learning_rate=INF_LR,\n",
    "    loss=MSE(),\n",
    "    scaler_type=\"standard\",\n",
    "    max_steps=INF_MAX_STEPS,\n",
    "    val_check_steps=100,   # evaluate every N steps\n",
    ")\n",
    "\n",
    "nf = NeuralForecast(models=[nf_informer], freq=\"D\")\n",
    "print(\"Training Informer on subset cities …\")\n",
    "t0 = time.perf_counter()\n",
    "nf.fit(df=df_train_val_nf)\n",
    "t_train = time.perf_counter() - t0\n",
    "print(f\"Informer trained in {t_train:.2f} s\")\n",
    "\n",
    "# ---------- Immediate-horizon eval (first test window) ----------\n",
    "first_anchor = pd.Timestamp(VAL_END)  # anchor at 2020-12-31, predict 2021-01-01..03\n",
    "def informer_predict_at(anchor_ts: pd.Timestamp) -> pd.DataFrame:\n",
    "    # Pass observed until anchor to forecast next H days (H fixed in model init)\n",
    "    df_cut = df_nf[df_nf[\"ds\"] <= anchor_ts].copy()\n",
    "\n",
    "    preds = nf.predict(df=df_cut)  # wide df: ['unique_id','ds','<model-name>']\n",
    "    pred_col = [c for c in preds.columns if c not in (\"unique_id\", \"ds\")][0]\n",
    "\n",
    "    # Standardize to our evaluation schema\n",
    "    preds = preds.rename(columns={pred_col: \"y_pred\", \"ds\": \"date\"})\n",
    "    preds[\"date\"] = pd.to_datetime(preds[\"date\"])\n",
    "\n",
    "    return preds[[\"unique_id\", \"date\", \"y_pred\"]]\n",
    "\n",
    "print(\"Informer: predicting first horizon …\")\n",
    "t0 = time.perf_counter()\n",
    "preds_first = informer_predict_at(first_anchor)\n",
    "t_pred = time.perf_counter() - t0\n",
    "\n",
    "# Prepare truth for first horizon\n",
    "mask = (df_long[\"date\"] > first_anchor) & (df_long[\"date\"] <= first_anchor + pd.Timedelta(days=INF_H))\n",
    "truth_first = df_long.loc[mask, [\"unique_id\",\"date\",\"pollutant\",\"y\"]].copy()\n",
    "\n",
    "inf_first_tbl = per_pollutant_metrics(truth_first, preds_first, \"Informer\")\n",
    "print(\"Informer — immediate horizon metrics (subset, ppb units for errors)\")\n",
    "display(inf_first_tbl)\n",
    "\n",
    "roll_start = df_test[\"date\"].min()\n",
    "roll_end   = df_test[\"date\"].max()\n",
    "STEP = CFG.ROLL_STEP_DAYS \n",
    "\n",
    "print(f\"Informer rolling eval from {roll_start.date()} to {roll_end.date()} every {STEP} days …\")\n",
    "t0 = time.perf_counter()\n",
    "inf_roll_tbl = rolling_eval(informer_predict_at, df_long, roll_start, roll_end, STEP, INF_H, \"Informer\")\n",
    "t_roll = time.perf_counter() - t0\n",
    "print(f\"Rolling eval done in {t_roll:.2f} s\")\n",
    "display(inf_roll_tbl.groupby([\"pollutant\"]).agg({\"R2\":\"mean\",\"MSE_ppb2\":\"mean\",\"SMAPE_%\":\"mean\",\"N\":\"sum\"}).round(3))\n"
   ]
  },
  {
   "cell_type": "code",
   "execution_count": 17,
   "id": "e7edf262",
   "metadata": {},
   "outputs": [
    {
     "data": {
      "text/html": [
       "<div>\n",
       "<style scoped>\n",
       "    .dataframe tbody tr th:only-of-type {\n",
       "        vertical-align: middle;\n",
       "    }\n",
       "\n",
       "    .dataframe tbody tr th {\n",
       "        vertical-align: top;\n",
       "    }\n",
       "\n",
       "    .dataframe thead th {\n",
       "        text-align: right;\n",
       "    }\n",
       "</style>\n",
       "<table border=\"1\" class=\"dataframe\">\n",
       "  <thead>\n",
       "    <tr style=\"text-align: right;\">\n",
       "      <th></th>\n",
       "      <th>model</th>\n",
       "      <th>pollutant</th>\n",
       "      <th>R2</th>\n",
       "      <th>MSE_ppb2</th>\n",
       "      <th>SMAPE_%</th>\n",
       "      <th>N</th>\n",
       "    </tr>\n",
       "  </thead>\n",
       "  <tbody>\n",
       "    <tr>\n",
       "      <th>0</th>\n",
       "      <td>Informer</td>\n",
       "      <td>CO</td>\n",
       "      <td>0.598</td>\n",
       "      <td>15576.517</td>\n",
       "      <td>12.845</td>\n",
       "      <td>66</td>\n",
       "    </tr>\n",
       "    <tr>\n",
       "      <th>1</th>\n",
       "      <td>Informer</td>\n",
       "      <td>NO2</td>\n",
       "      <td>0.664</td>\n",
       "      <td>17.494</td>\n",
       "      <td>19.424</td>\n",
       "      <td>66</td>\n",
       "    </tr>\n",
       "    <tr>\n",
       "      <th>2</th>\n",
       "      <td>Informer</td>\n",
       "      <td>O3</td>\n",
       "      <td>0.015</td>\n",
       "      <td>37.393</td>\n",
       "      <td>11.748</td>\n",
       "      <td>66</td>\n",
       "    </tr>\n",
       "    <tr>\n",
       "      <th>3</th>\n",
       "      <td>Informer</td>\n",
       "      <td>SO2</td>\n",
       "      <td>0.714</td>\n",
       "      <td>45072.395</td>\n",
       "      <td>28.944</td>\n",
       "      <td>66</td>\n",
       "    </tr>\n",
       "  </tbody>\n",
       "</table>\n",
       "</div>"
      ],
      "text/plain": [
       "      model pollutant     R2   MSE_ppb2  SMAPE_%   N\n",
       "0  Informer        CO  0.598  15576.517   12.845  66\n",
       "1  Informer       NO2  0.664     17.494   19.424  66\n",
       "2  Informer        O3  0.015     37.393   11.748  66\n",
       "3  Informer       SO2  0.714  45072.395   28.944  66"
      ]
     },
     "metadata": {},
     "output_type": "display_data"
    },
    {
     "data": {
      "image/png": "[encoded data removed]",
      "text/plain": [
       "<Figure size 700x350 with 1 Axes>"
      ]
     },
     "metadata": {},
     "output_type": "display_data"
    },
    {
     "data": {
      "image/png": "[encoded data removed]",
      "text/plain": [
       "<Figure size 700x350 with 1 Axes>"
      ]
     },
     "metadata": {},
     "output_type": "display_data"
    }
   ],
   "source": [
    "\n",
    "\n",
    "import numpy as np\n",
    "import pandas as pd\n",
    "import matplotlib.pyplot as plt\n",
    "\n",
    "# Harmonize units for reporting \n",
    "PPB_SCALE = {\"O3\": 1000.0, \"CO\": 1000.0, \"SO2\": 1000.0, \"NO2\": 1.0}\n",
    "\n",
    "def _norm_cols(df, date_col=\"date\"):\n",
    "    df = df.copy()\n",
    "    if \"ds\" in df.columns and date_col not in df.columns:\n",
    "        df = df.rename(columns={\"ds\": date_col})\n",
    "    if date_col in df.columns:\n",
    "        df[date_col] = pd.to_datetime(df[date_col])\n",
    "    return df\n",
    "\n",
    "def per_pollutant_metrics(truth_df: pd.DataFrame, pred_df: pd.DataFrame, model_name: str) -> pd.DataFrame:\n",
    "    from sklearn.metrics import r2_score\n",
    "    truth_df = _norm_cols(truth_df, \"date\")\n",
    "    pred_df  = _norm_cols(pred_df, \"date\")\n",
    "    merged = truth_df.merge(pred_df, on=[\"unique_id\",\"date\"], how=\"inner\")\n",
    "    out = []\n",
    "    for pol, g in merged.groupby(\"pollutant\"):\n",
    "        y   = g[\"y\"].values\n",
    "        yhat  = g[\"y_pred\"].values\n",
    "        y_ppb = y    * PPB_SCALE[pol]\n",
    "        yhat_p = yhat * PPB_SCALE[pol]\n",
    "        mse_ppb2 = float(np.mean((y_ppb - yhat_p)**2))\n",
    "        smape  = float(100*np.mean(np.abs(yhat_p - y_ppb)/(np.abs(yhat_p)+np.abs(y_ppb)+1e-8)))\n",
    "        r2    = float(r2_score(y, yhat)) \n",
    "        out.append({\"model\": model_name, \"pollutant\": pol, \"R2\": r2, \"MSE_ppb2\": mse_ppb2, \"SMAPE_%\": smape, \"N\": len(g)})\n",
    "    return pd.DataFrame(out)\n",
    "\n",
    "# Normalize input frames and compute metrics\n",
    "preds_first = _norm_cols(preds_first, \"date\").rename(columns=lambda c: c)\n",
    "truth_first = _norm_cols(truth_first, \"date\").rename(columns=lambda c: c)\n",
    "\n",
    "inf_first_tbl = per_pollutant_metrics(truth_first, preds_first[[\"unique_id\",\"date\",\"y_pred\"]], \"Informer\")\n",
    "display(inf_first_tbl.round(3))\n",
    "\n",
    "# Bar chart of R^2 by pollutant\n",
    "plt.figure(figsize=(7,3.5))\n",
    "plt.bar(inf_first_tbl[\"pollutant\"], inf_first_tbl[\"R2\"])\n",
    "plt.title(\"Informer R^2 by pollutant (first test horizon)\")\n",
    "plt.ylim(-0.2, 1.0)\n",
    "plt.ylabel(\"R^2\")\n",
    "plt.tight_layout()\n",
    "plt.show()\n",
    "\n",
    "# Bar chart of SMAPE by pollutant\n",
    "plt.figure(figsize=(7,3.5))\n",
    "plt.bar(inf_first_tbl[\"pollutant\"], inf_first_tbl[\"SMAPE_%\"])\n",
    "plt.title(\"Informer SMAPE by pollutant (first test horizon)\")\n",
    "plt.ylabel(\"SMAPE (%)\")\n",
    "plt.tight_layout()\n",
    "plt.show()\n"
   ]
  },
  {
   "cell_type": "code",
   "execution_count": null,
   "id": "f9bffc5c",
   "metadata": {},
   "outputs": [],
   "source": []
  }
 ],
 "metadata": {
  "kernelspec": {
   "display_name": "Python 3",
   "language": "python",
   "name": "python3"
  },
  "language_info": {
   "codemirror_mode": {
    "name": "ipython",
    "version": 3
   },
   "file_extension": ".py",
   "mimetype": "text/x-python",
   "name": "python",
   "nbconvert_exporter": "python",
   "pygments_lexer": "ipython3",
   "version": "3.10.0"
  }
 },
 "nbformat": 4,
 "nbformat_minor": 5
}
