{
 "cells": [
  {
   "cell_type": "markdown",
   "id": "030b918a",
   "metadata": {},
   "source": [
    "# Final Transformer Notebook – Air Pollution Forecasting\n",
    "**MSML 612 – Group Project**  \n",
    "Labeled cells for easy troubleshooting. This notebook:\n",
    "- Implements a tuned Informer (Transformer) end‑to‑end (final model).\n",
    "- Adds rolling evaluation across the entire test horizon.\n",
    "- Logs inference time and runs a small **hyper‑parameter sweep**  \n",
    "\n",
    "**Data assumption:** `pollution_2000_2023.csv` "
   ]
  },
  {
   "cell_type": "markdown",
   "id": "93b04685",
   "metadata": {},
   "source": [
    "## (0) Setup – versions (run once per environment)"
   ]
  },
  {
   "cell_type": "code",
   "execution_count": null,
   "id": "c9f153f7",
   "metadata": {},
   "outputs": [
    {
     "name": "stdout",
     "output_type": "stream",
     "text": [
      "Kernel interpreter: c:\\Users\\Rohan\\AppData\\Local\\Programs\\Python\\Python310\\python.exe\n",
      "Python version   : 3.10.0\n",
      "Requirement already satisfied: pip in c:\\users\\rohan\\appdata\\local\\programs\\python\\python310\\lib\\site-packages (25.2)\n",
      "Requirement already satisfied: setuptools in c:\\users\\rohan\\appdata\\local\\programs\\python\\python310\\lib\\site-packages (80.9.0)\n",
      "Requirement already satisfied: wheel in c:\\users\\rohan\\appdata\\local\\programs\\python\\python310\\lib\\site-packages (0.45.1)\n",
      "Note: you may need to restart the kernel to use updated packages.\n",
      "Looking in indexes: https://download.pytorch.org/whl/cu126\n",
      "Requirement already satisfied: torch==2.6.0 in c:\\users\\rohan\\appdata\\local\\programs\\python\\python310\\lib\\site-packages (2.6.0+cu126)\n",
      "Requirement already satisfied: torchvision==0.21.0 in c:\\users\\rohan\\appdata\\local\\programs\\python\\python310\\lib\\site-packages (0.21.0+cu126)\n",
      "Requirement already satisfied: filelock in c:\\users\\rohan\\appdata\\local\\programs\\python\\python310\\lib\\site-packages (from torch==2.6.0) (3.19.1)\n",
      "Requirement already satisfied: typing-extensions>=4.10.0 in c:\\users\\rohan\\appdata\\roaming\\python\\python310\\site-packages (from torch==2.6.0) (4.14.1)\n",
      "Requirement already satisfied: networkx in c:\\users\\rohan\\appdata\\local\\programs\\python\\python310\\lib\\site-packages (from torch==2.6.0) (3.4.2)\n",
      "Requirement already satisfied: jinja2 in c:\\users\\rohan\\appdata\\local\\programs\\python\\python310\\lib\\site-packages (from torch==2.6.0) (3.1.6)\n",
      "Requirement already satisfied: fsspec in c:\\users\\rohan\\appdata\\local\\programs\\python\\python310\\lib\\site-packages (from torch==2.6.0) (2025.7.0)\n",
      "Requirement already satisfied: sympy==1.13.1 in c:\\users\\rohan\\appdata\\local\\programs\\python\\python310\\lib\\site-packages (from torch==2.6.0) (1.13.1)\n",
      "Requirement already satisfied: numpy in c:\\users\\rohan\\appdata\\local\\programs\\python\\python310\\lib\\site-packages (from torchvision==0.21.0) (2.2.6)\n",
      "Requirement already satisfied: pillow!=8.3.*,>=5.3.0 in c:\\users\\rohan\\appdata\\local\\programs\\python\\python310\\lib\\site-packages (from torchvision==0.21.0) (11.3.0)\n",
      "Requirement already satisfied: mpmath<1.4,>=1.1.0 in c:\\users\\rohan\\appdata\\local\\programs\\python\\python310\\lib\\site-packages (from sympy==1.13.1->torch==2.6.0) (1.3.0)\n",
      "Requirement already satisfied: MarkupSafe>=2.0 in c:\\users\\rohan\\appdata\\local\\programs\\python\\python310\\lib\\site-packages (from jinja2->torch==2.6.0) (3.0.2)\n",
      "Note: you may need to restart the kernel to use updated packages.\n",
      "Requirement already satisfied: pytorch-lightning==2.5.3 in c:\\users\\rohan\\appdata\\local\\programs\\python\\python310\\lib\\site-packages (2.5.3)\n",
      "Requirement already satisfied: pytorch-forecasting==1.4.0 in c:\\users\\rohan\\appdata\\local\\programs\\python\\python310\\lib\\site-packages (1.4.0)\n",
      "Requirement already satisfied: neuralforecast==3.0.2 in c:\\users\\rohan\\appdata\\local\\programs\\python\\python310\\lib\\site-packages (3.0.2)\n",
      "Requirement already satisfied: optuna>=3.5 in c:\\users\\rohan\\appdata\\local\\programs\\python\\python310\\lib\\site-packages (4.5.0)\n",
      "Requirement already satisfied: pandas>=2.2 in c:\\users\\rohan\\appdata\\local\\programs\\python\\python310\\lib\\site-packages (2.3.1)\n",
      "Requirement already satisfied: numpy>=1.26 in c:\\users\\rohan\\appdata\\local\\programs\\python\\python310\\lib\\site-packages (2.2.6)\n",
      "Requirement already satisfied: scikit-learn>=1.4 in c:\\users\\rohan\\appdata\\local\\programs\\python\\python310\\lib\\site-packages (1.7.1)\n",
      "Requirement already satisfied: matplotlib>=3.8 in c:\\users\\rohan\\appdata\\local\\programs\\python\\python310\\lib\\site-packages (3.10.5)\n",
      "Requirement already satisfied: seaborn>=0.13 in c:\\users\\rohan\\appdata\\local\\programs\\python\\python310\\lib\\site-packages (0.13.2)\n",
      "Requirement already satisfied: torch>=2.1.0 in c:\\users\\rohan\\appdata\\local\\programs\\python\\python310\\lib\\site-packages (from pytorch-lightning==2.5.3) (2.6.0+cu126)\n",
      "Requirement already satisfied: tqdm>=4.57.0 in c:\\users\\rohan\\appdata\\local\\programs\\python\\python310\\lib\\site-packages (from pytorch-lightning==2.5.3) (4.67.1)\n",
      "Requirement already satisfied: PyYAML>5.4 in c:\\users\\rohan\\appdata\\local\\programs\\python\\python310\\lib\\site-packages (from pytorch-lightning==2.5.3) (6.0.2)\n",
      "Requirement already satisfied: fsspec>=2022.5.0 in c:\\users\\rohan\\appdata\\local\\programs\\python\\python310\\lib\\site-packages (from fsspec[http]>=2022.5.0->pytorch-lightning==2.5.3) (2025.7.0)\n",
      "Requirement already satisfied: torchmetrics>0.7.0 in c:\\users\\rohan\\appdata\\local\\programs\\python\\python310\\lib\\site-packages (from pytorch-lightning==2.5.3) (1.8.1)\n",
      "Requirement already satisfied: packaging>=20.0 in c:\\users\\rohan\\appdata\\roaming\\python\\python310\\site-packages (from pytorch-lightning==2.5.3) (25.0)\n",
      "Requirement already satisfied: typing-extensions>4.5.0 in c:\\users\\rohan\\appdata\\roaming\\python\\python310\\site-packages (from pytorch-lightning==2.5.3) (4.14.1)\n",
      "Requirement already satisfied: lightning-utilities>=0.10.0 in c:\\users\\rohan\\appdata\\local\\programs\\python\\python310\\lib\\site-packages (from pytorch-lightning==2.5.3) (0.15.2)\n",
      "Requirement already satisfied: lightning<3.0.0,>=2.0.0 in c:\\users\\rohan\\appdata\\local\\programs\\python\\python310\\lib\\site-packages (from pytorch-forecasting==1.4.0) (2.5.3)\n",
      "Requirement already satisfied: scipy<2.0,>=1.8 in c:\\users\\rohan\\appdata\\local\\programs\\python\\python310\\lib\\site-packages (from pytorch-forecasting==1.4.0) (1.15.3)\n",
      "Requirement already satisfied: coreforecast>=0.0.6 in c:\\users\\rohan\\appdata\\local\\programs\\python\\python310\\lib\\site-packages (from neuralforecast==3.0.2) (0.0.16)\n",
      "Requirement already satisfied: ray>=2.2.0 in c:\\users\\rohan\\appdata\\local\\programs\\python\\python310\\lib\\site-packages (from ray[tune]>=2.2.0->neuralforecast==3.0.2) (2.48.0)\n",
      "Requirement already satisfied: utilsforecast>=0.2.3 in c:\\users\\rohan\\appdata\\local\\programs\\python\\python310\\lib\\site-packages (from neuralforecast==3.0.2) (0.2.12)\n",
      "Requirement already satisfied: python-dateutil>=2.8.2 in c:\\users\\rohan\\appdata\\roaming\\python\\python310\\site-packages (from pandas>=2.2) (2.9.0.post0)\n",
      "Requirement already satisfied: pytz>=2020.1 in c:\\users\\rohan\\appdata\\local\\programs\\python\\python310\\lib\\site-packages (from pandas>=2.2) (2025.2)\n",
      "Requirement already satisfied: tzdata>=2022.7 in c:\\users\\rohan\\appdata\\local\\programs\\python\\python310\\lib\\site-packages (from pandas>=2.2) (2025.2)\n",
      "Requirement already satisfied: joblib>=1.2.0 in c:\\users\\rohan\\appdata\\local\\programs\\python\\python310\\lib\\site-packages (from scikit-learn>=1.4) (1.5.1)\n",
      "Requirement already satisfied: threadpoolctl>=3.1.0 in c:\\users\\rohan\\appdata\\local\\programs\\python\\python310\\lib\\site-packages (from scikit-learn>=1.4) (3.6.0)\n",
      "Requirement already satisfied: aiohttp!=4.0.0a0,!=4.0.0a1 in c:\\users\\rohan\\appdata\\local\\programs\\python\\python310\\lib\\site-packages (from fsspec[http]>=2022.5.0->pytorch-lightning==2.5.3) (3.12.15)\n",
      "Requirement already satisfied: setuptools in c:\\users\\rohan\\appdata\\local\\programs\\python\\python310\\lib\\site-packages (from lightning-utilities>=0.10.0->pytorch-lightning==2.5.3) (80.9.0)\n",
      "Requirement already satisfied: filelock in c:\\users\\rohan\\appdata\\local\\programs\\python\\python310\\lib\\site-packages (from torch>=2.1.0->pytorch-lightning==2.5.3) (3.19.1)\n",
      "Requirement already satisfied: networkx in c:\\users\\rohan\\appdata\\local\\programs\\python\\python310\\lib\\site-packages (from torch>=2.1.0->pytorch-lightning==2.5.3) (3.4.2)\n",
      "Requirement already satisfied: jinja2 in c:\\users\\rohan\\appdata\\local\\programs\\python\\python310\\lib\\site-packages (from torch>=2.1.0->pytorch-lightning==2.5.3) (3.1.6)\n",
      "Requirement already satisfied: sympy==1.13.1 in c:\\users\\rohan\\appdata\\local\\programs\\python\\python310\\lib\\site-packages (from torch>=2.1.0->pytorch-lightning==2.5.3) (1.13.1)\n",
      "Requirement already satisfied: mpmath<1.4,>=1.1.0 in c:\\users\\rohan\\appdata\\local\\programs\\python\\python310\\lib\\site-packages (from sympy==1.13.1->torch>=2.1.0->pytorch-lightning==2.5.3) (1.3.0)\n",
      "Requirement already satisfied: colorama in c:\\users\\rohan\\appdata\\roaming\\python\\python310\\site-packages (from tqdm>=4.57.0->pytorch-lightning==2.5.3) (0.4.6)\n",
      "Requirement already satisfied: alembic>=1.5.0 in c:\\users\\rohan\\appdata\\local\\programs\\python\\python310\\lib\\site-packages (from optuna>=3.5) (1.16.4)\n",
      "Requirement already satisfied: colorlog in c:\\users\\rohan\\appdata\\local\\programs\\python\\python310\\lib\\site-packages (from optuna>=3.5) (6.9.0)\n",
      "Requirement already satisfied: sqlalchemy>=1.4.2 in c:\\users\\rohan\\appdata\\local\\programs\\python\\python310\\lib\\site-packages (from optuna>=3.5) (2.0.43)\n",
      "Requirement already satisfied: contourpy>=1.0.1 in c:\\users\\rohan\\appdata\\local\\programs\\python\\python310\\lib\\site-packages (from matplotlib>=3.8) (1.3.2)\n",
      "Requirement already satisfied: cycler>=0.10 in c:\\users\\rohan\\appdata\\local\\programs\\python\\python310\\lib\\site-packages (from matplotlib>=3.8) (0.12.1)\n",
      "Requirement already satisfied: fonttools>=4.22.0 in c:\\users\\rohan\\appdata\\local\\programs\\python\\python310\\lib\\site-packages (from matplotlib>=3.8) (4.59.1)\n",
      "Requirement already satisfied: kiwisolver>=1.3.1 in c:\\users\\rohan\\appdata\\local\\programs\\python\\python310\\lib\\site-packages (from matplotlib>=3.8) (1.4.9)\n",
      "Requirement already satisfied: pillow>=8 in c:\\users\\rohan\\appdata\\local\\programs\\python\\python310\\lib\\site-packages (from matplotlib>=3.8) (11.3.0)\n",
      "Requirement already satisfied: pyparsing>=2.3.1 in c:\\users\\rohan\\appdata\\local\\programs\\python\\python310\\lib\\site-packages (from matplotlib>=3.8) (3.2.3)\n",
      "Requirement already satisfied: aiohappyeyeballs>=2.5.0 in c:\\users\\rohan\\appdata\\local\\programs\\python\\python310\\lib\\site-packages (from aiohttp!=4.0.0a0,!=4.0.0a1->fsspec[http]>=2022.5.0->pytorch-lightning==2.5.3) (2.6.1)\n",
      "Requirement already satisfied: aiosignal>=1.4.0 in c:\\users\\rohan\\appdata\\local\\programs\\python\\python310\\lib\\site-packages (from aiohttp!=4.0.0a0,!=4.0.0a1->fsspec[http]>=2022.5.0->pytorch-lightning==2.5.3) (1.4.0)\n",
      "Requirement already satisfied: async-timeout<6.0,>=4.0 in c:\\users\\rohan\\appdata\\local\\programs\\python\\python310\\lib\\site-packages (from aiohttp!=4.0.0a0,!=4.0.0a1->fsspec[http]>=2022.5.0->pytorch-lightning==2.5.3) (5.0.1)\n",
      "Requirement already satisfied: attrs>=17.3.0 in c:\\users\\rohan\\appdata\\local\\programs\\python\\python310\\lib\\site-packages (from aiohttp!=4.0.0a0,!=4.0.0a1->fsspec[http]>=2022.5.0->pytorch-lightning==2.5.3) (25.3.0)\n",
      "Requirement already satisfied: frozenlist>=1.1.1 in c:\\users\\rohan\\appdata\\local\\programs\\python\\python310\\lib\\site-packages (from aiohttp!=4.0.0a0,!=4.0.0a1->fsspec[http]>=2022.5.0->pytorch-lightning==2.5.3) (1.7.0)\n",
      "Requirement already satisfied: multidict<7.0,>=4.5 in c:\\users\\rohan\\appdata\\local\\programs\\python\\python310\\lib\\site-packages (from aiohttp!=4.0.0a0,!=4.0.0a1->fsspec[http]>=2022.5.0->pytorch-lightning==2.5.3) (6.6.4)\n",
      "Requirement already satisfied: propcache>=0.2.0 in c:\\users\\rohan\\appdata\\local\\programs\\python\\python310\\lib\\site-packages (from aiohttp!=4.0.0a0,!=4.0.0a1->fsspec[http]>=2022.5.0->pytorch-lightning==2.5.3) (0.3.2)\n",
      "Requirement already satisfied: yarl<2.0,>=1.17.0 in c:\\users\\rohan\\appdata\\local\\programs\\python\\python310\\lib\\site-packages (from aiohttp!=4.0.0a0,!=4.0.0a1->fsspec[http]>=2022.5.0->pytorch-lightning==2.5.3) (1.20.1)\n",
      "Requirement already satisfied: idna>=2.0 in c:\\users\\rohan\\appdata\\local\\programs\\python\\python310\\lib\\site-packages (from yarl<2.0,>=1.17.0->aiohttp!=4.0.0a0,!=4.0.0a1->fsspec[http]>=2022.5.0->pytorch-lightning==2.5.3) (3.10)\n",
      "Requirement already satisfied: Mako in c:\\users\\rohan\\appdata\\local\\programs\\python\\python310\\lib\\site-packages (from alembic>=1.5.0->optuna>=3.5) (1.3.10)\n",
      "Requirement already satisfied: tomli in c:\\users\\rohan\\appdata\\local\\programs\\python\\python310\\lib\\site-packages (from alembic>=1.5.0->optuna>=3.5) (2.2.1)\n",
      "Requirement already satisfied: six>=1.5 in c:\\users\\rohan\\appdata\\roaming\\python\\python310\\site-packages (from python-dateutil>=2.8.2->pandas>=2.2) (1.17.0)\n",
      "Requirement already satisfied: click>=7.0 in c:\\users\\rohan\\appdata\\local\\programs\\python\\python310\\lib\\site-packages (from ray>=2.2.0->ray[tune]>=2.2.0->neuralforecast==3.0.2) (8.2.1)\n",
      "Requirement already satisfied: jsonschema in c:\\users\\rohan\\appdata\\local\\programs\\python\\python310\\lib\\site-packages (from ray>=2.2.0->ray[tune]>=2.2.0->neuralforecast==3.0.2) (4.25.1)\n",
      "Requirement already satisfied: msgpack<2.0.0,>=1.0.0 in c:\\users\\rohan\\appdata\\local\\programs\\python\\python310\\lib\\site-packages (from ray>=2.2.0->ray[tune]>=2.2.0->neuralforecast==3.0.2) (1.1.1)\n",
      "Requirement already satisfied: protobuf!=3.19.5,>=3.15.3 in c:\\users\\rohan\\appdata\\local\\programs\\python\\python310\\lib\\site-packages (from ray>=2.2.0->ray[tune]>=2.2.0->neuralforecast==3.0.2) (6.32.0)\n",
      "Requirement already satisfied: requests in c:\\users\\rohan\\appdata\\local\\programs\\python\\python310\\lib\\site-packages (from ray>=2.2.0->ray[tune]>=2.2.0->neuralforecast==3.0.2) (2.32.5)\n",
      "Requirement already satisfied: tensorboardX>=1.9 in c:\\users\\rohan\\appdata\\local\\programs\\python\\python310\\lib\\site-packages (from ray[tune]>=2.2.0->neuralforecast==3.0.2) (2.6.4)\n",
      "Requirement already satisfied: pyarrow>=9.0.0 in c:\\users\\rohan\\appdata\\local\\programs\\python\\python310\\lib\\site-packages (from ray[tune]>=2.2.0->neuralforecast==3.0.2) (21.0.0)\n",
      "Requirement already satisfied: greenlet>=1 in c:\\users\\rohan\\appdata\\local\\programs\\python\\python310\\lib\\site-packages (from sqlalchemy>=1.4.2->optuna>=3.5) (3.2.4)\n",
      "Requirement already satisfied: MarkupSafe>=2.0 in c:\\users\\rohan\\appdata\\local\\programs\\python\\python310\\lib\\site-packages (from jinja2->torch>=2.1.0->pytorch-lightning==2.5.3) (3.0.2)\n",
      "Requirement already satisfied: jsonschema-specifications>=2023.03.6 in c:\\users\\rohan\\appdata\\local\\programs\\python\\python310\\lib\\site-packages (from jsonschema->ray>=2.2.0->ray[tune]>=2.2.0->neuralforecast==3.0.2) (2025.4.1)\n",
      "Requirement already satisfied: referencing>=0.28.4 in c:\\users\\rohan\\appdata\\local\\programs\\python\\python310\\lib\\site-packages (from jsonschema->ray>=2.2.0->ray[tune]>=2.2.0->neuralforecast==3.0.2) (0.36.2)\n",
      "Requirement already satisfied: rpds-py>=0.7.1 in c:\\users\\rohan\\appdata\\local\\programs\\python\\python310\\lib\\site-packages (from jsonschema->ray>=2.2.0->ray[tune]>=2.2.0->neuralforecast==3.0.2) (0.27.0)\n",
      "Requirement already satisfied: charset_normalizer<4,>=2 in c:\\users\\rohan\\appdata\\local\\programs\\python\\python310\\lib\\site-packages (from requests->ray>=2.2.0->ray[tune]>=2.2.0->neuralforecast==3.0.2) (3.4.3)\n",
      "Requirement already satisfied: urllib3<3,>=1.21.1 in c:\\users\\rohan\\appdata\\local\\programs\\python\\python310\\lib\\site-packages (from requests->ray>=2.2.0->ray[tune]>=2.2.0->neuralforecast==3.0.2) (2.5.0)\n",
      "Requirement already satisfied: certifi>=2017.4.17 in c:\\users\\rohan\\appdata\\local\\programs\\python\\python310\\lib\\site-packages (from requests->ray>=2.2.0->ray[tune]>=2.2.0->neuralforecast==3.0.2) (2025.8.3)\n",
      "Note: you may need to restart the kernel to use updated packages.\n"
     ]
    },
    {
     "name": "stderr",
     "output_type": "stream",
     "text": [
      "c:\\Users\\Rohan\\AppData\\Local\\Programs\\Python\\Python310\\lib\\site-packages\\tqdm\\auto.py:21: TqdmWarning: IProgress not found. Please update jupyter and ipywidgets. See https://ipywidgets.readthedocs.io/en/stable/user_install.html\n",
      "  from .autonotebook import tqdm as notebook_tqdm\n",
      "2025-08-22 15:27:51,803\tINFO util.py:154 -- Missing packages: ['ipywidgets']. Run `pip install -U ipywidgets`, then restart the notebook server for rich notebook output.\n",
      "2025-08-22 15:27:52,111\tINFO util.py:154 -- Missing packages: ['ipywidgets']. Run `pip install -U ipywidgets`, then restart the notebook server for rich notebook output.\n"
     ]
    },
    {
     "name": "stdout",
     "output_type": "stream",
     "text": [
      "{'torch': '2.6.0+cu126', 'torch_cuda': '12.6', 'cuda_available': True, 'gpu': 'NVIDIA GeForce RTX 4060 Ti', 'has_LRScheduler': True, 'lightning': '2.5.3', 'neuralforecast': '3.0.2', 'pytorch_forecasting': '1.4.0'}\n"
     ]
    }
   ],
   "source": [
    "# Setup for Windows / RTX 4060 Ti \n",
    "\n",
    "import sys, platform\n",
    "print(\"Kernel interpreter:\", sys.executable)\n",
    "print(\"Python version :\", platform.python_version())\n",
    "\n",
    "%pip install -U pip setuptools wheel\n",
    "\n",
    "# Torch 2.6.0 + CUDA 12.6  (pairs with torchvision 0.21.0)\n",
    "%pip install torch==2.6.0 torchvision==0.21.0 --index-url https://download.pytorch.org/whl/cu126\n",
    "\n",
    "%pip install \"pytorch-lightning==2.5.3\" \"pytorch-forecasting==1.4.0\" \"neuralforecast==3.0.2\" \\\n",
    "             \"optuna>=3.5\" \"pandas>=2.2\" \"numpy>=1.26\" \"scikit-learn>=1.4\" \"matplotlib>=3.8\" \"seaborn>=0.13\"\n",
    "\n",
    "# --- sanity check (catches wrong kernel / CPU torch, etc.) ---\n",
    "import importlib, torch, pytorch_lightning as pl, torch.optim.lr_scheduler as lrs\n",
    "nf = importlib.import_module(\"neuralforecast\")\n",
    "pf = importlib.import_module(\"pytorch_forecasting\")\n",
    "\n",
    "print({\n",
    "    \"torch\": torch.__version__,\n",
    "    \"torch_cuda\": getattr(torch.version, \"cuda\", None),\n",
    "    \"cuda_available\": torch.cuda.is_available(),\n",
    "    \"gpu\": torch.cuda.get_device_name(0) if torch.cuda.is_available() else None,\n",
    "    \"has_LRScheduler\": hasattr(lrs, \"LRScheduler\"),\n",
    "    \"lightning\": pl.__version__,\n",
    "    \"neuralforecast\": nf.__version__,\n",
    "    \"pytorch_forecasting\": pf.__version__,\n",
    "})\n",
    "\n",
    "# If cuda_available=False or versions look wrong:\n",
    "#   Kernel -> Restart, then re-run this cell.\n"
   ]
  },
  {
   "cell_type": "markdown",
   "id": "a1cb921f",
   "metadata": {},
   "source": [
    "## (1) Imports, config, reproducibility"
   ]
  },
  {
   "cell_type": "code",
   "execution_count": null,
   "id": "ef2c1bba",
   "metadata": {},
   "outputs": [
    {
     "name": "stderr",
     "output_type": "stream",
     "text": [
      "Seed set to 42\n"
     ]
    },
    {
     "name": "stdout",
     "output_type": "stream",
     "text": [
      "{'python': 'c:\\\\Users\\\\Rohan\\\\AppData\\\\Local\\\\Programs\\\\Python\\\\Python310\\\\python.exe', 'device': 'cuda', 'torch': '2.6.0+cu126', 'lightning': '2.5.3', 'neuralforecast': '3.0.2', 'pytorch_forecasting': '1.4.0'}\n"
     ]
    }
   ],
   "source": [
    "# (1) Imports, config, reproducibility — Torch 2.x / Lightning 2.x / NF 3.x\n",
    "\n",
    "import os, json, math, time, warnings, random, sys\n",
    "from pathlib import Path\n",
    "from dataclasses import dataclass\n",
    "from typing import List, Dict, Tuple\n",
    "\n",
    "import numpy as np\n",
    "import pandas as pd\n",
    "import matplotlib.pyplot as plt\n",
    "import seaborn as sns\n",
    "\n",
    "import torch\n",
    "import pytorch_lightning as pl\n",
    "from sklearn.metrics import mean_squared_error, mean_absolute_error, r2_score\n",
    "\n",
    "# NeuralForecast (Informer)\n",
    "from neuralforecast import NeuralForecast\n",
    "from neuralforecast.models import Informer as NFInformer\n",
    "from neuralforecast.losses.pytorch import MSE\n",
    "\n",
    "# PyTorch-Forecasting (TFT baseline)\n",
    "from pytorch_forecasting import TimeSeriesDataSet, TemporalFusionTransformer\n",
    "from pytorch_forecasting.metrics import QuantileLoss\n",
    "\n",
    "# --- Reproducibility & device setup ---\n",
    "warnings.filterwarnings(\"ignore\")\n",
    "pl.seed_everything(42, workers=True)\n",
    "\n",
    "# Apple silicon / modern GPUs benefit from this in PyTorch 2.x\n",
    "torch.set_float32_matmul_precision(\"high\")\n",
    "\n",
    "DEVICE = (\n",
    "    \"cuda\" if torch.cuda.is_available()\n",
    "    else \"mps\" if torch.backends.mps.is_available()\n",
    "    else \"cpu\"\n",
    ")\n",
    "\n",
    "RESULTS_DIR = Path(\"results\"); RESULTS_DIR.mkdir(exist_ok=True)\n",
    "\n",
    "@dataclass\n",
    "class CFG:\n",
    "    RAW_FILE: str = \"pollution_2000_2023.csv\" \n",
    "    INPUT_WINDOW: int = 60\n",
    "    PRED_WINDOW: int = 3\n",
    "    TRAIN_END: str = \"2016-12-31\"\n",
    "    VAL_END: str   = \"2020-12-31\"\n",
    "    # Informer hyperparams\n",
    "    HIDDEN_SIZE: int = 128\n",
    "    N_HEAD: int = 4\n",
    "    FACTOR: int = 10\n",
    "    DROPOUT: float = 0.1\n",
    "    LR: float = 1e-3\n",
    "    MAX_STEPS: int = 5000\n",
    "    BATCH_SIZE: int = 64\n",
    "    # Rolling evaluation\n",
    "    ROLL_STEP_DAYS: int = 7\n",
    "\n",
    "CFG = CFG()\n",
    "\n",
    "# --- quick sanity print to  catch kernel/env mixups ---\n",
    "print({\n",
    "    \"python\": sys.executable,\n",
    "    \"device\": DEVICE,\n",
    "    \"torch\": torch.__version__,\n",
    "    \"lightning\": pl.__version__,\n",
    "    \"neuralforecast\": __import__(\"neuralforecast\").__version__,\n",
    "    \"pytorch_forecasting\": __import__(\"pytorch_forecasting\").__version__,\n",
    "})\n"
   ]
  },
  {
   "cell_type": "markdown",
   "id": "69d758a2",
   "metadata": {},
   "source": [
    "## (2) Utility helpers"
   ]
  },
  {
   "cell_type": "code",
   "execution_count": null,
   "id": "65bc1a87",
   "metadata": {},
   "outputs": [
    {
     "name": "stdout",
     "output_type": "stream",
     "text": [
      "2.6.0+cu126 CUDA: 12.6 GPU OK: True\n"
     ]
    }
   ],
   "source": [
    "# Utility helpers (metrics, plotting setup, dirs)\n",
    "print(torch.__version__, \"CUDA:\", torch.version.cuda, \"GPU OK:\", torch.cuda.is_available())\n",
    "\n",
    "def ensure_dirs():\n",
    "    (RESULTS_DIR / \"figs\").mkdir(exist_ok=True, parents=True)\n",
    "    (RESULTS_DIR / \"logs\" / \"informer\").mkdir(exist_ok=True, parents=True)\n",
    "ensure_dirs()\n",
    "\n",
    "def rmse(y_true, y_pred):\n",
    "    return float(math.sqrt(mean_squared_error(y_true, y_pred)))\n",
    "\n",
    "def smape(y_true, y_pred, eps=1e-8):\n",
    "    y_true = np.asarray(y_true)\n",
    "    y_pred = np.asarray(y_pred)\n",
    "    denom = np.abs(y_true) + np.abs(y_pred) + eps\n",
    "    return float(100.0 * np.mean(np.abs(y_pred - y_true) / denom))\n",
    "\n",
    "def summarize_dict(d: Dict) -> str:\n",
    "    return json.dumps(d, indent=2)\n",
    "\n",
    "# Harmonizing units for reporting (convert ppm->ppb except NO2 already in ppb)\n",
    "PPB_SCALE = {\"O3\": 1000.0, \"CO\": 1000.0, \"SO2\": 1000.0, \"NO2\": 1.0}\n",
    "def to_ppb(arr, pollutant):\n",
    "    return np.asarray(arr) * PPB_SCALE[pollutant]\n",
    "\n",
    "plt.rcParams[\"figure.figsize\"] = (9.5, 4)\n",
    "plt.rcParams[\"axes.grid\"] = True\n",
    "sns.set_context(\"talk\")\n"
   ]
  },
  {
   "cell_type": "markdown",
   "id": "1ce2356c",
   "metadata": {},
   "source": [
    "## (3) Load raw CSV and standardize columns/units"
   ]
  },
  {
   "cell_type": "code",
   "execution_count": null,
   "id": "cae681ba",
   "metadata": {},
   "outputs": [
    {
     "name": "stdout",
     "output_type": "stream",
     "text": [
      "Loaded: pollution_2000_2023.csv | rows=665,414\n"
     ]
    },
    {
     "data": {
      "text/html": [
       "<div>\n",
       "<style scoped>\n",
       "    .dataframe tbody tr th:only-of-type {\n",
       "        vertical-align: middle;\n",
       "    }\n",
       "\n",
       "    .dataframe tbody tr th {\n",
       "        vertical-align: top;\n",
       "    }\n",
       "\n",
       "    .dataframe thead th {\n",
       "        text-align: right;\n",
       "    }\n",
       "</style>\n",
       "<table border=\"1\" class=\"dataframe\">\n",
       "  <thead>\n",
       "    <tr style=\"text-align: right;\">\n",
       "      <th></th>\n",
       "      <th>date</th>\n",
       "      <th>city</th>\n",
       "      <th>state</th>\n",
       "      <th>o3</th>\n",
       "      <th>no2</th>\n",
       "      <th>so2</th>\n",
       "      <th>co</th>\n",
       "    </tr>\n",
       "  </thead>\n",
       "  <tbody>\n",
       "    <tr>\n",
       "      <th>0</th>\n",
       "      <td>2000-01-01</td>\n",
       "      <td>Phoenix</td>\n",
       "      <td>Arizona</td>\n",
       "      <td>0.019765</td>\n",
       "      <td>19.041667</td>\n",
       "      <td>3.000000</td>\n",
       "      <td>0.878947</td>\n",
       "    </tr>\n",
       "    <tr>\n",
       "      <th>1</th>\n",
       "      <td>2000-01-02</td>\n",
       "      <td>Phoenix</td>\n",
       "      <td>Arizona</td>\n",
       "      <td>0.015882</td>\n",
       "      <td>22.958333</td>\n",
       "      <td>1.958333</td>\n",
       "      <td>1.066667</td>\n",
       "    </tr>\n",
       "    <tr>\n",
       "      <th>2</th>\n",
       "      <td>2000-01-03</td>\n",
       "      <td>Phoenix</td>\n",
       "      <td>Arizona</td>\n",
       "      <td>0.009353</td>\n",
       "      <td>38.125000</td>\n",
       "      <td>5.250000</td>\n",
       "      <td>1.762500</td>\n",
       "    </tr>\n",
       "    <tr>\n",
       "      <th>3</th>\n",
       "      <td>2000-01-04</td>\n",
       "      <td>Phoenix</td>\n",
       "      <td>Arizona</td>\n",
       "      <td>0.015882</td>\n",
       "      <td>40.260870</td>\n",
       "      <td>7.083333</td>\n",
       "      <td>1.829167</td>\n",
       "    </tr>\n",
       "    <tr>\n",
       "      <th>4</th>\n",
       "      <td>2000-01-05</td>\n",
       "      <td>Phoenix</td>\n",
       "      <td>Arizona</td>\n",
       "      <td>0.007353</td>\n",
       "      <td>48.450000</td>\n",
       "      <td>8.708333</td>\n",
       "      <td>2.700000</td>\n",
       "    </tr>\n",
       "  </tbody>\n",
       "</table>\n",
       "</div>"
      ],
      "text/plain": [
       "        date     city    state        o3        no2       so2        co\n",
       "0 2000-01-01  Phoenix  Arizona  0.019765  19.041667  3.000000  0.878947\n",
       "1 2000-01-02  Phoenix  Arizona  0.015882  22.958333  1.958333  1.066667\n",
       "2 2000-01-03  Phoenix  Arizona  0.009353  38.125000  5.250000  1.762500\n",
       "3 2000-01-04  Phoenix  Arizona  0.015882  40.260870  7.083333  1.829167\n",
       "4 2000-01-05  Phoenix  Arizona  0.007353  48.450000  8.708333  2.700000"
      ]
     },
     "metadata": {},
     "output_type": "display_data"
    }
   ],
   "source": [
    "# Load raw CSV and standardize columns/units\n",
    "def load_csv(path: str) -> pd.DataFrame:\n",
    "    df = pd.read_csv(path, low_memory=False)\n",
    "\n",
    "    # Normalize column names\n",
    "    df.columns = (\n",
    "        pd.Series(df.columns)\n",
    "        .str.strip().str.lower().str.replace(r\"[^a-z0-9]+\", \"_\", regex=True)\n",
    "        .str.replace(r\"_+\", \"_\", regex=True).str.strip(\"_\")\n",
    "        .to_list()\n",
    "    )\n",
    "\n",
    "    # Date column\n",
    "    date_col = \"date\" if \"date\" in df.columns else None\n",
    "    if date_col is None:\n",
    "        for c in [\"ds\", \"timestamp\", \"date_local\"]:\n",
    "            if c in df.columns:\n",
    "                date_col = c; break\n",
    "    if date_col is None:\n",
    "        raise ValueError(\"Could not find a date column.\")\n",
    "    df[\"date\"] = pd.to_datetime(df[date_col])\n",
    "\n",
    "    # City/State\n",
    "    rename_map = {}\n",
    "    if \"city\" not in df.columns:\n",
    "        for c in [\"local_site_name\", \"site_name\"]:\n",
    "            if c in df.columns: rename_map[c] = \"city\"\n",
    "    if \"state\" not in df.columns:\n",
    "        for c in [\"state_name\", \"statecode\", \"state_code\"]:\n",
    "            if c in df.columns: rename_map[c] = \"state\"\n",
    "    df = df.rename(columns=rename_map)\n",
    "\n",
    "    # Pollutants (accept a few variants)\n",
    "    def find_any(names):\n",
    "        for n in names:\n",
    "            if n in df.columns: return n\n",
    "        return None\n",
    "    o3_col  = find_any([\"o3_mean\", \"o3\", \"o3_1st_max_value\", \"ozone\"])\n",
    "    no2_col = find_any([\"no2_mean\", \"no2\"])\n",
    "    so2_col = find_any([\"so2_mean\", \"so2\"])\n",
    "    co_col  = find_any([\"co_mean\",  \"co\"])\n",
    "    keep_cols = [\"date\", \"city\", \"state\"]\n",
    "    pol_map = {}\n",
    "    if o3_col:  pol_map[o3_col]  = \"o3\"\n",
    "    if no2_col: pol_map[no2_col] = \"no2\"\n",
    "    if so2_col: pol_map[so2_col] = \"so2\"\n",
    "    if co_col:  pol_map[co_col]  = \"co\"\n",
    "    if not pol_map:\n",
    "        raise ValueError(\"Expected pollutant mean columns (o3/no2/so2/co).\")\n",
    "\n",
    "    df_small = df[keep_cols + list(pol_map.keys())].copy()\n",
    "    for src, tgt in pol_map.items():\n",
    "        df_small = df_small.rename(columns={src: tgt})\n",
    "\n",
    "    # numeric cast and drop NaNs\n",
    "    for c in [\"o3\",\"no2\",\"so2\",\"co\"]:\n",
    "        if c in df_small.columns:\n",
    "            df_small[c] = pd.to_numeric(df_small[c], errors=\"coerce\")\n",
    "    df_small = df_small.dropna(subset=[c for c in [\"o3\",\"no2\",\"so2\",\"co\"] if c in df_small.columns])\n",
    "\n",
    "    return df_small\n",
    "\n",
    "RAW_FILE = CFG.RAW_FILE if Path(CFG.RAW_FILE).exists() else \"cleaned_pollution_data.csv\"\n",
    "df_raw = load_csv(RAW_FILE)\n",
    "print(f\"Loaded: {RAW_FILE} | rows={len(df_raw):,}\")\n",
    "display(df_raw.head())\n"
   ]
  },
  {
   "cell_type": "markdown",
   "id": "35afb8b6",
   "metadata": {},
   "source": [
    "## (4) Feature engineering (calendar + lags)"
   ]
  },
  {
   "cell_type": "code",
   "execution_count": 5,
   "id": "f24db482",
   "metadata": {},
   "outputs": [
    {
     "name": "stdout",
     "output_type": "stream",
     "text": [
      "Feature columns added. Preview:\n"
     ]
    },
    {
     "data": {
      "text/html": [
       "<div>\n",
       "<style scoped>\n",
       "    .dataframe tbody tr th:only-of-type {\n",
       "        vertical-align: middle;\n",
       "    }\n",
       "\n",
       "    .dataframe tbody tr th {\n",
       "        vertical-align: top;\n",
       "    }\n",
       "\n",
       "    .dataframe thead th {\n",
       "        text-align: right;\n",
       "    }\n",
       "</style>\n",
       "<table border=\"1\" class=\"dataframe\">\n",
       "  <thead>\n",
       "    <tr style=\"text-align: right;\">\n",
       "      <th></th>\n",
       "      <th>date</th>\n",
       "      <th>city</th>\n",
       "      <th>state</th>\n",
       "      <th>o3</th>\n",
       "      <th>no2</th>\n",
       "      <th>so2</th>\n",
       "      <th>co</th>\n",
       "      <th>month</th>\n",
       "      <th>dayofweek</th>\n",
       "      <th>isweekend</th>\n",
       "      <th>iswedthur</th>\n",
       "      <th>o3_lag1</th>\n",
       "      <th>no2_lag1</th>\n",
       "      <th>so2_lag1</th>\n",
       "      <th>co_lag1</th>\n",
       "      <th>pollution_avg</th>\n",
       "    </tr>\n",
       "  </thead>\n",
       "  <tbody>\n",
       "    <tr>\n",
       "      <th>0</th>\n",
       "      <td>2011-01-02</td>\n",
       "      <td>Albuquerque</td>\n",
       "      <td>New Mexico</td>\n",
       "      <td>0.018824</td>\n",
       "      <td>11.504762</td>\n",
       "      <td>0.162500</td>\n",
       "      <td>0.275000</td>\n",
       "      <td>1</td>\n",
       "      <td>6</td>\n",
       "      <td>1</td>\n",
       "      <td>0</td>\n",
       "      <td>0.032471</td>\n",
       "      <td>9.180952</td>\n",
       "      <td>0.054167</td>\n",
       "      <td>0.200000</td>\n",
       "      <td>2.990271</td>\n",
       "    </tr>\n",
       "    <tr>\n",
       "      <th>1</th>\n",
       "      <td>2011-01-03</td>\n",
       "      <td>Albuquerque</td>\n",
       "      <td>New Mexico</td>\n",
       "      <td>0.008412</td>\n",
       "      <td>23.342857</td>\n",
       "      <td>0.720833</td>\n",
       "      <td>0.479167</td>\n",
       "      <td>1</td>\n",
       "      <td>0</td>\n",
       "      <td>0</td>\n",
       "      <td>0</td>\n",
       "      <td>0.018824</td>\n",
       "      <td>11.504762</td>\n",
       "      <td>0.162500</td>\n",
       "      <td>0.275000</td>\n",
       "      <td>6.137817</td>\n",
       "    </tr>\n",
       "    <tr>\n",
       "      <th>2</th>\n",
       "      <td>2011-01-04</td>\n",
       "      <td>Albuquerque</td>\n",
       "      <td>New Mexico</td>\n",
       "      <td>0.027471</td>\n",
       "      <td>23.245455</td>\n",
       "      <td>0.887500</td>\n",
       "      <td>0.604167</td>\n",
       "      <td>1</td>\n",
       "      <td>1</td>\n",
       "      <td>0</td>\n",
       "      <td>0</td>\n",
       "      <td>0.008412</td>\n",
       "      <td>23.342857</td>\n",
       "      <td>0.720833</td>\n",
       "      <td>0.479167</td>\n",
       "      <td>6.191148</td>\n",
       "    </tr>\n",
       "    <tr>\n",
       "      <th>3</th>\n",
       "      <td>2011-01-05</td>\n",
       "      <td>Albuquerque</td>\n",
       "      <td>New Mexico</td>\n",
       "      <td>0.033294</td>\n",
       "      <td>12.637500</td>\n",
       "      <td>0.445833</td>\n",
       "      <td>0.204167</td>\n",
       "      <td>1</td>\n",
       "      <td>2</td>\n",
       "      <td>0</td>\n",
       "      <td>1</td>\n",
       "      <td>0.027471</td>\n",
       "      <td>23.245455</td>\n",
       "      <td>0.887500</td>\n",
       "      <td>0.604167</td>\n",
       "      <td>3.330198</td>\n",
       "    </tr>\n",
       "    <tr>\n",
       "      <th>4</th>\n",
       "      <td>2011-01-06</td>\n",
       "      <td>Albuquerque</td>\n",
       "      <td>New Mexico</td>\n",
       "      <td>0.030500</td>\n",
       "      <td>11.800000</td>\n",
       "      <td>0.285714</td>\n",
       "      <td>0.200000</td>\n",
       "      <td>1</td>\n",
       "      <td>3</td>\n",
       "      <td>0</td>\n",
       "      <td>1</td>\n",
       "      <td>0.033294</td>\n",
       "      <td>12.637500</td>\n",
       "      <td>0.445833</td>\n",
       "      <td>0.204167</td>\n",
       "      <td>3.079054</td>\n",
       "    </tr>\n",
       "    <tr>\n",
       "      <th>5</th>\n",
       "      <td>2011-01-07</td>\n",
       "      <td>Albuquerque</td>\n",
       "      <td>New Mexico</td>\n",
       "      <td>0.026353</td>\n",
       "      <td>18.716667</td>\n",
       "      <td>0.325000</td>\n",
       "      <td>0.261905</td>\n",
       "      <td>1</td>\n",
       "      <td>4</td>\n",
       "      <td>0</td>\n",
       "      <td>0</td>\n",
       "      <td>0.030500</td>\n",
       "      <td>11.800000</td>\n",
       "      <td>0.285714</td>\n",
       "      <td>0.200000</td>\n",
       "      <td>4.832481</td>\n",
       "    </tr>\n",
       "    <tr>\n",
       "      <th>6</th>\n",
       "      <td>2011-01-08</td>\n",
       "      <td>Albuquerque</td>\n",
       "      <td>New Mexico</td>\n",
       "      <td>0.019235</td>\n",
       "      <td>21.662500</td>\n",
       "      <td>0.575000</td>\n",
       "      <td>0.391667</td>\n",
       "      <td>1</td>\n",
       "      <td>5</td>\n",
       "      <td>1</td>\n",
       "      <td>0</td>\n",
       "      <td>0.026353</td>\n",
       "      <td>18.716667</td>\n",
       "      <td>0.325000</td>\n",
       "      <td>0.261905</td>\n",
       "      <td>5.662100</td>\n",
       "    </tr>\n",
       "    <tr>\n",
       "      <th>7</th>\n",
       "      <td>2011-01-09</td>\n",
       "      <td>Albuquerque</td>\n",
       "      <td>New Mexico</td>\n",
       "      <td>0.028000</td>\n",
       "      <td>22.312500</td>\n",
       "      <td>0.479167</td>\n",
       "      <td>0.370833</td>\n",
       "      <td>1</td>\n",
       "      <td>6</td>\n",
       "      <td>1</td>\n",
       "      <td>0</td>\n",
       "      <td>0.019235</td>\n",
       "      <td>21.662500</td>\n",
       "      <td>0.575000</td>\n",
       "      <td>0.391667</td>\n",
       "      <td>5.797625</td>\n",
       "    </tr>\n",
       "    <tr>\n",
       "      <th>8</th>\n",
       "      <td>2011-01-10</td>\n",
       "      <td>Albuquerque</td>\n",
       "      <td>New Mexico</td>\n",
       "      <td>0.034941</td>\n",
       "      <td>9.958333</td>\n",
       "      <td>0.120833</td>\n",
       "      <td>0.208333</td>\n",
       "      <td>1</td>\n",
       "      <td>0</td>\n",
       "      <td>0</td>\n",
       "      <td>0</td>\n",
       "      <td>0.028000</td>\n",
       "      <td>22.312500</td>\n",
       "      <td>0.479167</td>\n",
       "      <td>0.370833</td>\n",
       "      <td>2.580610</td>\n",
       "    </tr>\n",
       "    <tr>\n",
       "      <th>9</th>\n",
       "      <td>2011-01-11</td>\n",
       "      <td>Albuquerque</td>\n",
       "      <td>New Mexico</td>\n",
       "      <td>0.016353</td>\n",
       "      <td>19.241667</td>\n",
       "      <td>0.325000</td>\n",
       "      <td>0.275000</td>\n",
       "      <td>1</td>\n",
       "      <td>1</td>\n",
       "      <td>0</td>\n",
       "      <td>0</td>\n",
       "      <td>0.034941</td>\n",
       "      <td>9.958333</td>\n",
       "      <td>0.120833</td>\n",
       "      <td>0.208333</td>\n",
       "      <td>4.964505</td>\n",
       "    </tr>\n",
       "  </tbody>\n",
       "</table>\n",
       "</div>"
      ],
      "text/plain": [
       "        date         city       state        o3        no2       so2  \\\n",
       "0 2011-01-02  Albuquerque  New Mexico  0.018824  11.504762  0.162500   \n",
       "1 2011-01-03  Albuquerque  New Mexico  0.008412  23.342857  0.720833   \n",
       "2 2011-01-04  Albuquerque  New Mexico  0.027471  23.245455  0.887500   \n",
       "3 2011-01-05  Albuquerque  New Mexico  0.033294  12.637500  0.445833   \n",
       "4 2011-01-06  Albuquerque  New Mexico  0.030500  11.800000  0.285714   \n",
       "5 2011-01-07  Albuquerque  New Mexico  0.026353  18.716667  0.325000   \n",
       "6 2011-01-08  Albuquerque  New Mexico  0.019235  21.662500  0.575000   \n",
       "7 2011-01-09  Albuquerque  New Mexico  0.028000  22.312500  0.479167   \n",
       "8 2011-01-10  Albuquerque  New Mexico  0.034941   9.958333  0.120833   \n",
       "9 2011-01-11  Albuquerque  New Mexico  0.016353  19.241667  0.325000   \n",
       "\n",
       "         co  month  dayofweek  isweekend  iswedthur   o3_lag1   no2_lag1  \\\n",
       "0  0.275000      1          6          1          0  0.032471   9.180952   \n",
       "1  0.479167      1          0          0          0  0.018824  11.504762   \n",
       "2  0.604167      1          1          0          0  0.008412  23.342857   \n",
       "3  0.204167      1          2          0          1  0.027471  23.245455   \n",
       "4  0.200000      1          3          0          1  0.033294  12.637500   \n",
       "5  0.261905      1          4          0          0  0.030500  11.800000   \n",
       "6  0.391667      1          5          1          0  0.026353  18.716667   \n",
       "7  0.370833      1          6          1          0  0.019235  21.662500   \n",
       "8  0.208333      1          0          0          0  0.028000  22.312500   \n",
       "9  0.275000      1          1          0          0  0.034941   9.958333   \n",
       "\n",
       "   so2_lag1   co_lag1  pollution_avg  \n",
       "0  0.054167  0.200000       2.990271  \n",
       "1  0.162500  0.275000       6.137817  \n",
       "2  0.720833  0.479167       6.191148  \n",
       "3  0.887500  0.604167       3.330198  \n",
       "4  0.445833  0.204167       3.079054  \n",
       "5  0.285714  0.200000       4.832481  \n",
       "6  0.325000  0.261905       5.662100  \n",
       "7  0.575000  0.391667       5.797625  \n",
       "8  0.479167  0.370833       2.580610  \n",
       "9  0.120833  0.208333       4.964505  "
      ]
     },
     "metadata": {},
     "output_type": "display_data"
    }
   ],
   "source": [
    "# (4) Feature engineering (calendar + lags)\n",
    "def add_calendar_and_lags(df: pd.DataFrame) -> pd.DataFrame:\n",
    "    out = df.copy()\n",
    "    out[\"month\"] = out[\"date\"].dt.month.astype(int)\n",
    "    out[\"dayofweek\"] = out[\"date\"].dt.dayofweek.astype(int)\n",
    "    out[\"isweekend\"] = out[\"dayofweek\"].isin([5,6]).astype(int)\n",
    "    out[\"iswedthur\"] = out[\"dayofweek\"].isin([2,3]).astype(int)\n",
    "    # Lags per city (helps short-term autocorrelation)\n",
    "    out = out.sort_values([\"city\", \"date\"]).copy()\n",
    "    for pol in [c for c in [\"o3\",\"no2\",\"so2\",\"co\"] if c in out.columns]:\n",
    "        out[f\"{pol}_lag1\"] = out.groupby([\"city\"])[pol].shift(1)\n",
    "    pol_cols = [c for c in [\"o3\",\"no2\",\"so2\",\"co\"] if c in out.columns]\n",
    "    out[\"pollution_avg\"] = out[pol_cols].mean(axis=1)\n",
    "    out = out.dropna().reset_index(drop=True)\n",
    "    return out\n",
    "\n",
    "df_feat = add_calendar_and_lags(df_raw)\n",
    "print(\"Feature columns added. Preview:\")\n",
    "display(df_feat.head(10))"
   ]
  },
  {
   "cell_type": "markdown",
   "id": "1ad8edb3",
   "metadata": {},
   "source": [
    "## (5) Long format for Informer – `unique_id, ds, y`"
   ]
  },
  {
   "cell_type": "code",
   "execution_count": null,
   "id": "d5dc7b15",
   "metadata": {},
   "outputs": [
    {
     "name": "stdout",
     "output_type": "stream",
     "text": [
      "Long rows: 2,661,056 | series=680\n"
     ]
    },
    {
     "data": {
      "text/html": [
       "<div>\n",
       "<style scoped>\n",
       "    .dataframe tbody tr th:only-of-type {\n",
       "        vertical-align: middle;\n",
       "    }\n",
       "\n",
       "    .dataframe tbody tr th {\n",
       "        vertical-align: top;\n",
       "    }\n",
       "\n",
       "    .dataframe thead th {\n",
       "        text-align: right;\n",
       "    }\n",
       "</style>\n",
       "<table border=\"1\" class=\"dataframe\">\n",
       "  <thead>\n",
       "    <tr style=\"text-align: right;\">\n",
       "      <th></th>\n",
       "      <th>unique_id</th>\n",
       "      <th>ds</th>\n",
       "      <th>y</th>\n",
       "    </tr>\n",
       "  </thead>\n",
       "  <tbody>\n",
       "    <tr>\n",
       "      <th>1995792</th>\n",
       "      <td>albuquerque_newmexico_co</td>\n",
       "      <td>2011-01-02</td>\n",
       "      <td>0.275000</td>\n",
       "    </tr>\n",
       "    <tr>\n",
       "      <th>1995793</th>\n",
       "      <td>albuquerque_newmexico_co</td>\n",
       "      <td>2011-01-03</td>\n",
       "      <td>0.479167</td>\n",
       "    </tr>\n",
       "    <tr>\n",
       "      <th>1995794</th>\n",
       "      <td>albuquerque_newmexico_co</td>\n",
       "      <td>2011-01-04</td>\n",
       "      <td>0.604167</td>\n",
       "    </tr>\n",
       "    <tr>\n",
       "      <th>1995795</th>\n",
       "      <td>albuquerque_newmexico_co</td>\n",
       "      <td>2011-01-05</td>\n",
       "      <td>0.204167</td>\n",
       "    </tr>\n",
       "    <tr>\n",
       "      <th>1995796</th>\n",
       "      <td>albuquerque_newmexico_co</td>\n",
       "      <td>2011-01-06</td>\n",
       "      <td>0.200000</td>\n",
       "    </tr>\n",
       "  </tbody>\n",
       "</table>\n",
       "</div>"
      ],
      "text/plain": [
       "                        unique_id         ds         y\n",
       "1995792  albuquerque_newmexico_co 2011-01-02  0.275000\n",
       "1995793  albuquerque_newmexico_co 2011-01-03  0.479167\n",
       "1995794  albuquerque_newmexico_co 2011-01-04  0.604167\n",
       "1995795  albuquerque_newmexico_co 2011-01-05  0.204167\n",
       "1995796  albuquerque_newmexico_co 2011-01-06  0.200000"
      ]
     },
     "metadata": {},
     "output_type": "display_data"
    }
   ],
   "source": [
    "# Long format for Informer – unique_id, ds, y\n",
    "def to_long_for_nf(df: pd.DataFrame) -> pd.DataFrame:\n",
    "    pol_cols = [c for c in [\"o3\",\"no2\",\"so2\",\"co\"] if c in df.columns]\n",
    "    id_cols = [\"date\",\"city\",\"state\"]\n",
    "    long_df = df[id_cols + pol_cols].melt(\n",
    "        id_vars=id_cols, value_vars=pol_cols, var_name=\"pollutant\", value_name=\"y\"\n",
    "    ).dropna()\n",
    "    long_df[\"unique_id\"] = (\n",
    "        long_df[\"city\"].str.replace(r\"[^A-Za-z0-9]+\", \"\", regex=True)\n",
    "        + \"_\" + long_df[\"state\"].str.replace(r\"[^A-Za-z0-9]+\", \"\", regex=True)\n",
    "        + \"_\" + long_df[\"pollutant\"]\n",
    "    ).str.lower()\n",
    "    long_df = long_df.rename(columns={\"date\":\"ds\"})[[\"unique_id\",\"ds\",\"y\"]].sort_values([\"unique_id\",\"ds\"])\n",
    "    return long_df\n",
    "\n",
    "df_nf = to_long_for_nf(df_feat)\n",
    "print(f\"Long rows: {len(df_nf):,} | series={df_nf['unique_id'].nunique():,}\")\n",
    "display(df_nf.head())\n"
   ]
  },
  {
   "cell_type": "markdown",
   "id": "f1d515de",
   "metadata": {},
   "source": [
    "## (6) Chronological train/val/test split + coverage tables"
   ]
  },
  {
   "cell_type": "code",
   "execution_count": null,
   "id": "84c9ffee",
   "metadata": {},
   "outputs": [
    {
     "name": "stdout",
     "output_type": "stream",
     "text": [
      "=== Split row counts ===\n"
     ]
    },
    {
     "data": {
      "text/html": [
       "<div>\n",
       "<style scoped>\n",
       "    .dataframe tbody tr th:only-of-type {\n",
       "        vertical-align: middle;\n",
       "    }\n",
       "\n",
       "    .dataframe tbody tr th {\n",
       "        vertical-align: top;\n",
       "    }\n",
       "\n",
       "    .dataframe thead th {\n",
       "        text-align: right;\n",
       "    }\n",
       "</style>\n",
       "<table border=\"1\" class=\"dataframe\">\n",
       "  <thead>\n",
       "    <tr style=\"text-align: right;\">\n",
       "      <th></th>\n",
       "      <th>count</th>\n",
       "    </tr>\n",
       "  </thead>\n",
       "  <tbody>\n",
       "    <tr>\n",
       "      <th>raw_rows</th>\n",
       "      <td>665414</td>\n",
       "    </tr>\n",
       "    <tr>\n",
       "      <th>feat_rows</th>\n",
       "      <td>665264</td>\n",
       "    </tr>\n",
       "    <tr>\n",
       "      <th>long_rows</th>\n",
       "      <td>2661056</td>\n",
       "    </tr>\n",
       "    <tr>\n",
       "      <th>train_rows</th>\n",
       "      <td>1858752</td>\n",
       "    </tr>\n",
       "    <tr>\n",
       "      <th>val_rows</th>\n",
       "      <td>497660</td>\n",
       "    </tr>\n",
       "    <tr>\n",
       "      <th>test_rows</th>\n",
       "      <td>304644</td>\n",
       "    </tr>\n",
       "  </tbody>\n",
       "</table>\n",
       "</div>"
      ],
      "text/plain": [
       "              count\n",
       "raw_rows     665414\n",
       "feat_rows    665264\n",
       "long_rows   2661056\n",
       "train_rows  1858752\n",
       "val_rows     497660\n",
       "test_rows    304644"
      ]
     },
     "metadata": {},
     "output_type": "display_data"
    },
    {
     "name": "stdout",
     "output_type": "stream",
     "text": [
      "=== Unique series per split ===\n"
     ]
    },
    {
     "data": {
      "text/html": [
       "<div>\n",
       "<style scoped>\n",
       "    .dataframe tbody tr th:only-of-type {\n",
       "        vertical-align: middle;\n",
       "    }\n",
       "\n",
       "    .dataframe tbody tr th {\n",
       "        vertical-align: top;\n",
       "    }\n",
       "\n",
       "    .dataframe thead th {\n",
       "        text-align: right;\n",
       "    }\n",
       "</style>\n",
       "<table border=\"1\" class=\"dataframe\">\n",
       "  <thead>\n",
       "    <tr style=\"text-align: right;\">\n",
       "      <th></th>\n",
       "      <th>n_series</th>\n",
       "    </tr>\n",
       "  </thead>\n",
       "  <tbody>\n",
       "    <tr>\n",
       "      <th>train_unique_series</th>\n",
       "      <td>660</td>\n",
       "    </tr>\n",
       "    <tr>\n",
       "      <th>val_unique_series</th>\n",
       "      <td>352</td>\n",
       "    </tr>\n",
       "    <tr>\n",
       "      <th>test_unique_series</th>\n",
       "      <td>328</td>\n",
       "    </tr>\n",
       "  </tbody>\n",
       "</table>\n",
       "</div>"
      ],
      "text/plain": [
       "                     n_series\n",
       "train_unique_series       660\n",
       "val_unique_series         352\n",
       "test_unique_series        328"
      ]
     },
     "metadata": {},
     "output_type": "display_data"
    },
    {
     "name": "stdout",
     "output_type": "stream",
     "text": [
      "Date ranges: 2000-01-01 → 2016-12-31 (train) | 2017-01-01 → 2020-12-31 (val) | 2021-01-01 → 2023-09-30 (test)\n"
     ]
    }
   ],
   "source": [
    "# Chronological train/val/test split + coverage\n",
    "TRAIN_END = pd.Timestamp(CFG.TRAIN_END)\n",
    "VAL_END   = pd.Timestamp(CFG.VAL_END)\n",
    "\n",
    "train_mask = df_nf[\"ds\"] <= TRAIN_END\n",
    "val_mask   = (df_nf[\"ds\"] > TRAIN_END) & (df_nf[\"ds\"] <= VAL_END)\n",
    "test_mask  = df_nf[\"ds\"] > VAL_END\n",
    "\n",
    "train_df = df_nf[train_mask].copy()\n",
    "val_df   = df_nf[val_mask].copy()\n",
    "test_df  = df_nf[test_mask].copy()\n",
    "\n",
    "def counts_table():\n",
    "    split_counts = pd.Series({\n",
    "        \"raw_rows\": len(df_raw),\n",
    "        \"feat_rows\": len(df_feat),\n",
    "        \"long_rows\": len(df_nf),\n",
    "        \"train_rows\": len(train_df),\n",
    "        \"val_rows\": len(val_df),\n",
    "        \"test_rows\": len(test_df),\n",
    "    }).to_frame(\"count\")\n",
    "    series_counts = pd.Series({\n",
    "        \"train_unique_series\": train_df[\"unique_id\"].nunique(),\n",
    "        \"val_unique_series\":   val_df[\"unique_id\"].nunique(),\n",
    "        \"test_unique_series\":  test_df[\"unique_id\"].nunique(),\n",
    "    }).to_frame(\"n_series\")\n",
    "    return split_counts, series_counts\n",
    "\n",
    "split_counts, series_counts = counts_table()\n",
    "print(\"=== Split row counts ===\"); display(split_counts)\n",
    "print(\"=== Unique series per split ===\"); display(series_counts)\n",
    "print(\"Date ranges:\",\n",
    "      train_df[\"ds\"].min().date(), \"→\", train_df[\"ds\"].max().date(), \"(train) |\",\n",
    "      val_df[\"ds\"].min().date() if len(val_df) else None, \"→\", val_df[\"ds\"].max().date() if len(val_df) else None, \"(val) |\",\n",
    "      test_df[\"ds\"].min().date() if len(test_df) else None, \"→\", test_df[\"ds\"].max().date() if len(test_df) else None, \"(test)\")\n"
   ]
  },
  {
   "cell_type": "markdown",
   "id": "a1c444b8",
   "metadata": {},
   "source": [
    "## (7) Train Informer (final tuned transformer)"
   ]
  },
  {
   "cell_type": "code",
   "execution_count": null,
   "id": "334d99a5",
   "metadata": {},
   "outputs": [
    {
     "name": "stderr",
     "output_type": "stream",
     "text": [
      "Seed set to 1\n",
      "💡 Tip: For seamless cloud uploads and versioning, try installing [litmodels](https://pypi.org/project/litmodels/) to enable LitModelCheckpoint, which syncs automatically with the Lightning model registry.\n",
      "GPU available: True (cuda), used: True\n",
      "TPU available: False, using: 0 TPU cores\n",
      "HPU available: False, using: 0 HPUs\n",
      "LOCAL_RANK: 0 - CUDA_VISIBLE_DEVICES: [0]\n",
      "\n",
      "  | Name          | Type          | Params | Mode \n",
      "--------------------------------------------------------\n",
      "0 | loss          | MSE           | 0      | train\n",
      "1 | padder_train  | ConstantPad1d | 0      | train\n",
      "2 | scaler        | TemporalNorm  | 0      | train\n",
      "3 | enc_embedding | DataEmbedding | 384    | train\n",
      "4 | dec_embedding | DataEmbedding | 384    | train\n",
      "5 | encoder       | TransEncoder  | 199 K  | train\n",
      "6 | decoder       | TransDecoder  | 141 K  | train\n",
      "--------------------------------------------------------\n",
      "341 K     Trainable params\n",
      "0         Non-trainable params\n",
      "341 K     Total params\n",
      "1.368     Total estimated model params size (MB)\n",
      "73        Modules in train mode\n",
      "0         Modules in eval mode\n"
     ]
    },
    {
     "name": "stdout",
     "output_type": "stream",
     "text": [
      "Epoch 999: 100%|██████████| 11/11 [00:15<00:00,  0.69it/s, v_num=0, train_loss_step=1.740, train_loss_epoch=1.150, valid_loss=5.580]    "
     ]
    },
    {
     "name": "stderr",
     "output_type": "stream",
     "text": [
      "`Trainer.fit` stopped: `max_epochs=1000` reached.\n"
     ]
    },
    {
     "name": "stdout",
     "output_type": "stream",
     "text": [
      "Epoch 999: 100%|██████████| 11/11 [00:15<00:00,  0.69it/s, v_num=0, train_loss_step=1.740, train_loss_epoch=1.150, valid_loss=5.580]\n",
      "✅ Informer trained in 3236.85 s\n"
     ]
    }
   ],
   "source": [
    "# Train Informer\n",
    "from pytorch_lightning.loggers import CSVLogger\n",
    "\n",
    "# Rebuild the splits after a reset\n",
    "if \"df_nf\" not in globals():\n",
    "    raise RuntimeError(\"df_nf missing. Run cells (3)–(6) first.\")\n",
    "\n",
    "df_train_val = pd.concat([train_df, val_df], ignore_index=True)\n",
    "\n",
    "csv_logger = CSVLogger(save_dir=str(RESULTS_DIR / \"logs\"), name=\"informer\")\n",
    "\n",
    "informer = NFInformer(\n",
    "    h = CFG.PRED_WINDOW,\n",
    "    input_size = CFG.INPUT_WINDOW,\n",
    "    hidden_size = CFG.HIDDEN_SIZE,\n",
    "    n_head = CFG.N_HEAD,\n",
    "    factor = CFG.FACTOR,\n",
    "    dropout = CFG.DROPOUT,\n",
    "    learning_rate = CFG.LR,\n",
    "    loss = MSE(),\n",
    "    scaler_type = \"standard\",\n",
    "    batch_size = CFG.BATCH_SIZE,\n",
    "    max_steps = CFG.MAX_STEPS,\n",
    "    val_check_steps = 100,\n",
    "    # everything below is forwarded to pl.Trainer via BaseModel\n",
    "    trainer_kwargs = dict(\n",
    "        logger=csv_logger,\n",
    "        enable_progress_bar=True,\n",
    "        accelerator=\"auto\",\n",
    "        devices=1,\n",
    "        gradient_clip_val=0.5,\n",
    "        log_every_n_steps=50,\n",
    "        # num_sanity_val_steps=0,   # uncomment if you want to skip sanity check\n",
    "    ),\n",
    ")\n",
    "\n",
    "# patch for NF builds \n",
    "if hasattr(informer, \"trainer_kwargs\"):\n",
    "    tk = informer.trainer_kwargs\n",
    "    if isinstance(tk, dict) and \"trainer_kwargs\" in tk and isinstance(tk[\"trainer_kwargs\"], dict):\n",
    "        informer.trainer_kwargs = tk[\"trainer_kwargs\"]\n",
    "    if isinstance(informer.trainer_kwargs, dict) and \"trainer_kwargs\" in informer.trainer_kwargs:\n",
    "        informer.trainer_kwargs.pop(\"trainer_kwargs\", None)\n",
    "\n",
    "nf = NeuralForecast(models=[informer], freq=\"D\")\n",
    "\n",
    "t0 = time.perf_counter()\n",
    "nf.fit(df=df_train_val, val_size=365)  # 1-year rolling validation inside training\n",
    "train_secs = time.perf_counter() - t0\n",
    "print(f\"Informer trained in {train_secs:.2f} s\")\n",
    "\n",
    "MODEL_NAME = \"Informer\"\n",
    "ART_DIR = RESULTS_DIR  \n"
   ]
  },
  {
   "cell_type": "markdown",
   "id": "ebef8606",
   "metadata": {},
   "source": [
    "## (8) "
   ]
  },
  {
   "cell_type": "code",
   "execution_count": null,
   "id": "05c6865f",
   "metadata": {},
   "outputs": [
    {
     "data": {
      "image/png": "[encoded data removed]",
      "text/plain": [
       "<Figure size 950x400 with 1 Axes>"
      ]
     },
     "metadata": {},
     "output_type": "display_data"
    }
   ],
   "source": [
    "# Plot training/validation loss from CSV logger\n",
    "def _latest_metrics_csv(log_root: Path) -> Path | None:\n",
    "    root = log_root / \"informer\"\n",
    "    if not root.exists():\n",
    "        return None\n",
    "    versions = sorted(root.glob(\"version_*\"), key=lambda p: p.stat().st_mtime, reverse=True)\n",
    "    if not versions:\n",
    "        return None\n",
    "    path = versions[0] / \"metrics.csv\"\n",
    "    return path if path.exists() else None\n",
    "\n",
    "metrics_path = _latest_metrics_csv(RESULTS_DIR / \"logs\")\n",
    "if metrics_path is None:\n",
    "    print(\"No metrics.csv found\")\n",
    "else:\n",
    "    metrics = pd.read_csv(metrics_path)\n",
    "    cand_train = [c for c in metrics.columns if \"train\" in c and \"loss\" in c]\n",
    "    cand_val = [c for c in metrics.columns if (\"val\" in c or \"valid\" in c) and \"loss\" in c]\n",
    "    step_col = \"step\" if \"step\" in metrics.columns else None\n",
    "\n",
    "    plt.figure(figsize=(9.5,4))\n",
    "    if cand_train:\n",
    "        m = metrics.dropna(subset=[cand_train[0]])\n",
    "        plt.plot(m[step_col] if step_col else np.arange(len(m)), m[cand_train[0]], label=cand_train[0])\n",
    "    if cand_val:\n",
    "        m = metrics.dropna(subset=[cand_val[0]])\n",
    "        plt.plot(m[step_col] if step_col else np.arange(len(m)), m[cand_val[0]], label=cand_val[0])\n",
    "    plt.title(\"Training/Validation loss (Informer)\")\n",
    "    plt.xlabel(\"step\" if step_col else \"index\")\n",
    "    plt.ylabel(\"loss (MSE)\")\n",
    "    plt.legend()\n",
    "    plt.tight_layout()\n",
    "    plt.show()\n"
   ]
  },
  {
   "cell_type": "markdown",
   "id": "a5cad454",
   "metadata": {},
   "source": [
    "## (9) Rolling evaluation across the full test horizon (weekly anchors)"
   ]
  },
  {
   "cell_type": "code",
   "execution_count": null,
   "id": "d8a5e017",
   "metadata": {},
   "outputs": [
    {
     "name": "stderr",
     "output_type": "stream",
     "text": [
      "💡 Tip: For seamless cloud uploads and versioning, try installing [litmodels](https://pypi.org/project/litmodels/) to enable LitModelCheckpoint, which syncs automatically with the Lightning model registry.\n",
      "GPU available: True (cuda), used: True\n",
      "TPU available: False, using: 0 TPU cores\n",
      "HPU available: False, using: 0 HPUs\n",
      "LOCAL_RANK: 0 - CUDA_VISIBLE_DEVICES: [0]\n"
     ]
    },
    {
     "name": "stdout",
     "output_type": "stream",
     "text": [
      "Predicting DataLoader 0: 100%|██████████| 11/11 [00:00<00:00, 43.31it/s]\n",
      "📊 Immediate-horizon metrics (Informer):\n"
     ]
    },
    {
     "data": {
      "text/html": [
       "<div>\n",
       "<style scoped>\n",
       "    .dataframe tbody tr th:only-of-type {\n",
       "        vertical-align: middle;\n",
       "    }\n",
       "\n",
       "    .dataframe tbody tr th {\n",
       "        vertical-align: top;\n",
       "    }\n",
       "\n",
       "    .dataframe thead th {\n",
       "        text-align: right;\n",
       "    }\n",
       "</style>\n",
       "<table border=\"1\" class=\"dataframe\">\n",
       "  <thead>\n",
       "    <tr style=\"text-align: right;\">\n",
       "      <th></th>\n",
       "      <th>model</th>\n",
       "      <th>pollutant</th>\n",
       "      <th>RMSE_ppm</th>\n",
       "      <th>MAE_ppm</th>\n",
       "      <th>R2</th>\n",
       "      <th>SMAPE_%</th>\n",
       "      <th>MSE_ppb2</th>\n",
       "      <th>N</th>\n",
       "    </tr>\n",
       "  </thead>\n",
       "  <tbody>\n",
       "    <tr>\n",
       "      <th>0</th>\n",
       "      <td>Informer</td>\n",
       "      <td>CO</td>\n",
       "      <td>0.107</td>\n",
       "      <td>0.069</td>\n",
       "      <td>0.518</td>\n",
       "      <td>11.659</td>\n",
       "      <td>11406.785</td>\n",
       "      <td>254</td>\n",
       "    </tr>\n",
       "    <tr>\n",
       "      <th>1</th>\n",
       "      <td>Informer</td>\n",
       "      <td>NO2</td>\n",
       "      <td>4.194</td>\n",
       "      <td>3.249</td>\n",
       "      <td>0.579</td>\n",
       "      <td>17.959</td>\n",
       "      <td>17.593</td>\n",
       "      <td>254</td>\n",
       "    </tr>\n",
       "    <tr>\n",
       "      <th>2</th>\n",
       "      <td>Informer</td>\n",
       "      <td>O3</td>\n",
       "      <td>0.007</td>\n",
       "      <td>0.005</td>\n",
       "      <td>0.137</td>\n",
       "      <td>13.979</td>\n",
       "      <td>43.710</td>\n",
       "      <td>254</td>\n",
       "    </tr>\n",
       "    <tr>\n",
       "      <th>3</th>\n",
       "      <td>Informer</td>\n",
       "      <td>SO2</td>\n",
       "      <td>0.240</td>\n",
       "      <td>0.179</td>\n",
       "      <td>0.653</td>\n",
       "      <td>35.432</td>\n",
       "      <td>57534.193</td>\n",
       "      <td>254</td>\n",
       "    </tr>\n",
       "  </tbody>\n",
       "</table>\n",
       "</div>"
      ],
      "text/plain": [
       "      model pollutant  RMSE_ppm  MAE_ppm     R2  SMAPE_%   MSE_ppb2    N\n",
       "0  Informer        CO     0.107    0.069  0.518   11.659  11406.785  254\n",
       "1  Informer       NO2     4.194    3.249  0.579   17.959     17.593  254\n",
       "2  Informer        O3     0.007    0.005  0.137   13.979     43.710  254\n",
       "3  Informer       SO2     0.240    0.179  0.653   35.432  57534.193  254"
      ]
     },
     "metadata": {},
     "output_type": "display_data"
    },
    {
     "data": {
      "image/png": "[encoded data removed]",
      "text/plain": [
       "<Figure size 1200x400 with 2 Axes>"
      ]
     },
     "metadata": {},
     "output_type": "display_data"
    }
   ],
   "source": [
    "# Immediate-horizon evaluation (first test window: 2021-01-01..2021-01-03)\n",
    "MODEL_NAME = \"Informer\"\n",
    "OUT_DIR = RESULTS_DIR  # keep artifact paths the same\n",
    "\n",
    "# Forecast next H steps (NeuralForecast returns wide: ['unique_id','ds','<model-name>'])\n",
    "fcst = nf.predict()\n",
    "pred_col = [c for c in fcst.columns if c not in (\"unique_id\", \"ds\")][0]\n",
    "\n",
    "# Truth slice that exactly matches the forecast horizon\n",
    "h_start, h_end = fcst[\"ds\"].min(), fcst[\"ds\"].max()\n",
    "truth_slice = test_df[(test_df[\"ds\"] >= h_start) & (test_df[\"ds\"] <= h_end)].copy()\n",
    "\n",
    "# Align truth / preds\n",
    "eval_df = (\n",
    "    truth_slice.merge(fcst, on=[\"unique_id\", \"ds\"], how=\"left\")\n",
    "               .rename(columns={pred_col: \"y_pred\"})\n",
    ")\n",
    "# Recover pollutant tag from unique_id\n",
    "eval_df[\"pollutant\"] = (\n",
    "    eval_df[\"unique_id\"].str.extract(r\"_(o3|no2|so2|co)$\")[0].str.upper()\n",
    ")\n",
    "\n",
    "# Compute metrics per pollutant (R^2 on native units, SMAPE/MSE in ppb)\n",
    "rows = []\n",
    "metrics_immediate = {}\n",
    "for pol, grp in eval_df.groupby(\"pollutant\"):\n",
    "    y = grp[\"y\"].to_numpy()\n",
    "    yhat = grp[\"y_pred\"].to_numpy()\n",
    "    scale = PPB_SCALE[pol]\n",
    "    y_ppb, yhat_ppb = y * scale, yhat * scale\n",
    "\n",
    "    row = {\n",
    "        \"RMSE_ppm\": rmse(y, yhat),\n",
    "        \"MAE_ppm\": mean_absolute_error(y, yhat),\n",
    "        \"R2\": r2_score(y, yhat), # unit-invariant\n",
    "        \"SMAPE_%\": smape(y_ppb, yhat_ppb), # report in %\n",
    "        \"MSE_ppb2\": float(np.mean((y_ppb - yhat_ppb) ** 2)),\n",
    "        \"N\": int(len(grp)),\n",
    "    }\n",
    "    metrics_immediate[pol] = row\n",
    "    rows.append({\"model\": MODEL_NAME, \"pollutant\": pol, **row})\n",
    "\n",
    "immediate_tbl = pd.DataFrame(rows).sort_values(\"pollutant\").reset_index(drop=True)\n",
    "\n",
    "print(\"Immediate-horizon metrics (Informer):\")\n",
    "display(immediate_tbl.round(3))\n",
    "#persisting artifcacts\n",
    "(OUT_DIR / \"metrics_immediate_informer.json\").write_text(json.dumps(metrics_immediate, indent=2))\n",
    "immediate_tbl.to_csv(OUT_DIR / \"metrics_immediate_informer.csv\", index=False)\n",
    "\n",
    "# bars\n",
    "fig, ax = plt.subplots(1, 2, figsize=(12, 4))\n",
    "ax[0].bar(immediate_tbl[\"pollutant\"], immediate_tbl[\"R2\"])\n",
    "ax[0].set_title(\"Informer R^2 by pollutant (first horizon)\")\n",
    "ax[0].set_ylim(-0.5, 1.0)\n",
    "ax[0].set_ylabel(\"R^2\")\n",
    "ax[0].axhline(0.0, color=\"k\", linestyle=\"--\", linewidth=1)\n",
    "\n",
    "ax[1].bar(immediate_tbl[\"pollutant\"], immediate_tbl[\"SMAPE_%\"])\n",
    "ax[1].set_title(\"Informer SMAPE by pollutant (first horizon)\")\n",
    "ax[1].set_ylabel(\"SMAPE (%)\")\n",
    "\n",
    "plt.tight_layout()\n",
    "plt.show()\n"
   ]
  },
  {
   "cell_type": "markdown",
   "id": "c8408d2a",
   "metadata": {},
   "source": [
    "## (10) Inference timing (per‑series, 3‑step horizon)"
   ]
  },
  {
   "cell_type": "code",
   "execution_count": null,
   "id": "4e809ef0",
   "metadata": {},
   "outputs": [
    {
     "name": "stderr",
     "output_type": "stream",
     "text": [
      "💡 Tip: For seamless cloud uploads and versioning, try installing [litmodels](https://pypi.org/project/litmodels/) to enable LitModelCheckpoint, which syncs automatically with the Lightning model registry.\n",
      "GPU available: True (cuda), used: True\n",
      "TPU available: False, using: 0 TPU cores\n",
      "HPU available: False, using: 0 HPUs\n",
      "LOCAL_RANK: 0 - CUDA_VISIBLE_DEVICES: [0]\n"
     ]
    },
    {
     "name": "stdout",
     "output_type": "stream",
     "text": [
      "Predicting DataLoader 0: 100%|██████████| 11/11 [00:00<00:00, 46.75it/s]\n"
     ]
    },
    {
     "name": "stderr",
     "output_type": "stream",
     "text": [
      "💡 Tip: For seamless cloud uploads and versioning, try installing [litmodels](https://pypi.org/project/litmodels/) to enable LitModelCheckpoint, which syncs automatically with the Lightning model registry.\n",
      "GPU available: True (cuda), used: True\n",
      "TPU available: False, using: 0 TPU cores\n",
      "HPU available: False, using: 0 HPUs\n",
      "LOCAL_RANK: 0 - CUDA_VISIBLE_DEVICES: [0]\n"
     ]
    },
    {
     "name": "stdout",
     "output_type": "stream",
     "text": [
      "Predicting DataLoader 0: 100%|██████████| 11/11 [00:00<00:00, 49.39it/s]\n"
     ]
    },
    {
     "name": "stderr",
     "output_type": "stream",
     "text": [
      "💡 Tip: For seamless cloud uploads and versioning, try installing [litmodels](https://pypi.org/project/litmodels/) to enable LitModelCheckpoint, which syncs automatically with the Lightning model registry.\n",
      "GPU available: True (cuda), used: True\n",
      "TPU available: False, using: 0 TPU cores\n",
      "HPU available: False, using: 0 HPUs\n",
      "LOCAL_RANK: 0 - CUDA_VISIBLE_DEVICES: [0]\n"
     ]
    },
    {
     "name": "stdout",
     "output_type": "stream",
     "text": [
      "Predicting DataLoader 0: 100%|██████████| 11/11 [00:00<00:00, 47.95it/s]\n"
     ]
    },
    {
     "name": "stderr",
     "output_type": "stream",
     "text": [
      "💡 Tip: For seamless cloud uploads and versioning, try installing [litmodels](https://pypi.org/project/litmodels/) to enable LitModelCheckpoint, which syncs automatically with the Lightning model registry.\n",
      "GPU available: True (cuda), used: True\n",
      "TPU available: False, using: 0 TPU cores\n",
      "HPU available: False, using: 0 HPUs\n",
      "LOCAL_RANK: 0 - CUDA_VISIBLE_DEVICES: [0]\n"
     ]
    },
    {
     "name": "stdout",
     "output_type": "stream",
     "text": [
      "Predicting DataLoader 0: 100%|██████████| 11/11 [00:00<00:00, 41.97it/s]\n"
     ]
    },
    {
     "name": "stderr",
     "output_type": "stream",
     "text": [
      "💡 Tip: For seamless cloud uploads and versioning, try installing [litmodels](https://pypi.org/project/litmodels/) to enable LitModelCheckpoint, which syncs automatically with the Lightning model registry.\n",
      "GPU available: True (cuda), used: True\n",
      "TPU available: False, using: 0 TPU cores\n",
      "HPU available: False, using: 0 HPUs\n",
      "LOCAL_RANK: 0 - CUDA_VISIBLE_DEVICES: [0]\n"
     ]
    },
    {
     "name": "stdout",
     "output_type": "stream",
     "text": [
      "Predicting DataLoader 0: 100%|██████████| 11/11 [00:00<00:00, 39.85it/s]\n"
     ]
    },
    {
     "name": "stderr",
     "output_type": "stream",
     "text": [
      "💡 Tip: For seamless cloud uploads and versioning, try installing [litmodels](https://pypi.org/project/litmodels/) to enable LitModelCheckpoint, which syncs automatically with the Lightning model registry.\n",
      "GPU available: True (cuda), used: True\n",
      "TPU available: False, using: 0 TPU cores\n",
      "HPU available: False, using: 0 HPUs\n",
      "LOCAL_RANK: 0 - CUDA_VISIBLE_DEVICES: [0]\n"
     ]
    },
    {
     "name": "stdout",
     "output_type": "stream",
     "text": [
      "Predicting DataLoader 0: 100%|██████████| 11/11 [00:00<00:00, 43.15it/s]\n"
     ]
    },
    {
     "name": "stderr",
     "output_type": "stream",
     "text": [
      "💡 Tip: For seamless cloud uploads and versioning, try installing [litmodels](https://pypi.org/project/litmodels/) to enable LitModelCheckpoint, which syncs automatically with the Lightning model registry.\n",
      "GPU available: True (cuda), used: True\n",
      "TPU available: False, using: 0 TPU cores\n",
      "HPU available: False, using: 0 HPUs\n",
      "LOCAL_RANK: 0 - CUDA_VISIBLE_DEVICES: [0]\n"
     ]
    },
    {
     "name": "stdout",
     "output_type": "stream",
     "text": [
      "Predicting DataLoader 0: 100%|██████████| 11/11 [00:00<00:00, 42.07it/s]\n"
     ]
    },
    {
     "name": "stderr",
     "output_type": "stream",
     "text": [
      "💡 Tip: For seamless cloud uploads and versioning, try installing [litmodels](https://pypi.org/project/litmodels/) to enable LitModelCheckpoint, which syncs automatically with the Lightning model registry.\n",
      "GPU available: True (cuda), used: True\n",
      "TPU available: False, using: 0 TPU cores\n",
      "HPU available: False, using: 0 HPUs\n",
      "LOCAL_RANK: 0 - CUDA_VISIBLE_DEVICES: [0]\n"
     ]
    },
    {
     "name": "stdout",
     "output_type": "stream",
     "text": [
      "Predicting DataLoader 0: 100%|██████████| 11/11 [00:00<00:00, 41.82it/s]\n"
     ]
    },
    {
     "name": "stderr",
     "output_type": "stream",
     "text": [
      "💡 Tip: For seamless cloud uploads and versioning, try installing [litmodels](https://pypi.org/project/litmodels/) to enable LitModelCheckpoint, which syncs automatically with the Lightning model registry.\n",
      "GPU available: True (cuda), used: True\n",
      "TPU available: False, using: 0 TPU cores\n",
      "HPU available: False, using: 0 HPUs\n",
      "LOCAL_RANK: 0 - CUDA_VISIBLE_DEVICES: [0]\n"
     ]
    },
    {
     "name": "stdout",
     "output_type": "stream",
     "text": [
      "Predicting DataLoader 0: 100%|██████████| 11/11 [00:00<00:00, 39.93it/s]\n"
     ]
    },
    {
     "name": "stderr",
     "output_type": "stream",
     "text": [
      "💡 Tip: For seamless cloud uploads and versioning, try installing [litmodels](https://pypi.org/project/litmodels/) to enable LitModelCheckpoint, which syncs automatically with the Lightning model registry.\n",
      "GPU available: True (cuda), used: True\n",
      "TPU available: False, using: 0 TPU cores\n",
      "HPU available: False, using: 0 HPUs\n",
      "LOCAL_RANK: 0 - CUDA_VISIBLE_DEVICES: [0]\n"
     ]
    },
    {
     "name": "stdout",
     "output_type": "stream",
     "text": [
      "Predicting DataLoader 0: 100%|██████████| 11/11 [00:00<00:00, 41.90it/s]\n"
     ]
    },
    {
     "name": "stderr",
     "output_type": "stream",
     "text": [
      "💡 Tip: For seamless cloud uploads and versioning, try installing [litmodels](https://pypi.org/project/litmodels/) to enable LitModelCheckpoint, which syncs automatically with the Lightning model registry.\n",
      "GPU available: True (cuda), used: True\n",
      "TPU available: False, using: 0 TPU cores\n",
      "HPU available: False, using: 0 HPUs\n",
      "LOCAL_RANK: 0 - CUDA_VISIBLE_DEVICES: [0]\n"
     ]
    },
    {
     "name": "stdout",
     "output_type": "stream",
     "text": [
      "Predicting DataLoader 0: 100%|██████████| 11/11 [00:00<00:00, 43.30it/s]\n"
     ]
    },
    {
     "name": "stderr",
     "output_type": "stream",
     "text": [
      "💡 Tip: For seamless cloud uploads and versioning, try installing [litmodels](https://pypi.org/project/litmodels/) to enable LitModelCheckpoint, which syncs automatically with the Lightning model registry.\n",
      "GPU available: True (cuda), used: True\n",
      "TPU available: False, using: 0 TPU cores\n",
      "HPU available: False, using: 0 HPUs\n",
      "LOCAL_RANK: 0 - CUDA_VISIBLE_DEVICES: [0]\n"
     ]
    },
    {
     "name": "stdout",
     "output_type": "stream",
     "text": [
      "Predicting DataLoader 0: 100%|██████████| 11/11 [00:00<00:00, 45.10it/s]\n"
     ]
    },
    {
     "name": "stderr",
     "output_type": "stream",
     "text": [
      "💡 Tip: For seamless cloud uploads and versioning, try installing [litmodels](https://pypi.org/project/litmodels/) to enable LitModelCheckpoint, which syncs automatically with the Lightning model registry.\n",
      "GPU available: True (cuda), used: True\n",
      "TPU available: False, using: 0 TPU cores\n",
      "HPU available: False, using: 0 HPUs\n",
      "LOCAL_RANK: 0 - CUDA_VISIBLE_DEVICES: [0]\n"
     ]
    },
    {
     "name": "stdout",
     "output_type": "stream",
     "text": [
      "Predicting DataLoader 0: 100%|██████████| 11/11 [00:00<00:00, 43.61it/s]\n"
     ]
    },
    {
     "name": "stderr",
     "output_type": "stream",
     "text": [
      "💡 Tip: For seamless cloud uploads and versioning, try installing [litmodels](https://pypi.org/project/litmodels/) to enable LitModelCheckpoint, which syncs automatically with the Lightning model registry.\n",
      "GPU available: True (cuda), used: True\n",
      "TPU available: False, using: 0 TPU cores\n",
      "HPU available: False, using: 0 HPUs\n",
      "LOCAL_RANK: 0 - CUDA_VISIBLE_DEVICES: [0]\n"
     ]
    },
    {
     "name": "stdout",
     "output_type": "stream",
     "text": [
      "Predicting DataLoader 0: 100%|██████████| 11/11 [00:00<00:00, 41.02it/s]\n"
     ]
    },
    {
     "name": "stderr",
     "output_type": "stream",
     "text": [
      "💡 Tip: For seamless cloud uploads and versioning, try installing [litmodels](https://pypi.org/project/litmodels/) to enable LitModelCheckpoint, which syncs automatically with the Lightning model registry.\n",
      "GPU available: True (cuda), used: True\n",
      "TPU available: False, using: 0 TPU cores\n",
      "HPU available: False, using: 0 HPUs\n",
      "LOCAL_RANK: 0 - CUDA_VISIBLE_DEVICES: [0]\n"
     ]
    },
    {
     "name": "stdout",
     "output_type": "stream",
     "text": [
      "Predicting DataLoader 0: 100%|██████████| 11/11 [00:00<00:00, 43.81it/s]\n"
     ]
    },
    {
     "name": "stderr",
     "output_type": "stream",
     "text": [
      "💡 Tip: For seamless cloud uploads and versioning, try installing [litmodels](https://pypi.org/project/litmodels/) to enable LitModelCheckpoint, which syncs automatically with the Lightning model registry.\n",
      "GPU available: True (cuda), used: True\n",
      "TPU available: False, using: 0 TPU cores\n",
      "HPU available: False, using: 0 HPUs\n",
      "LOCAL_RANK: 0 - CUDA_VISIBLE_DEVICES: [0]\n"
     ]
    },
    {
     "name": "stdout",
     "output_type": "stream",
     "text": [
      "Predicting DataLoader 0: 100%|██████████| 11/11 [00:00<00:00, 41.65it/s]\n"
     ]
    },
    {
     "name": "stderr",
     "output_type": "stream",
     "text": [
      "💡 Tip: For seamless cloud uploads and versioning, try installing [litmodels](https://pypi.org/project/litmodels/) to enable LitModelCheckpoint, which syncs automatically with the Lightning model registry.\n",
      "GPU available: True (cuda), used: True\n",
      "TPU available: False, using: 0 TPU cores\n",
      "HPU available: False, using: 0 HPUs\n",
      "LOCAL_RANK: 0 - CUDA_VISIBLE_DEVICES: [0]\n"
     ]
    },
    {
     "name": "stdout",
     "output_type": "stream",
     "text": [
      "Predicting DataLoader 0: 100%|██████████| 11/11 [00:00<00:00, 43.05it/s]\n"
     ]
    },
    {
     "name": "stderr",
     "output_type": "stream",
     "text": [
      "💡 Tip: For seamless cloud uploads and versioning, try installing [litmodels](https://pypi.org/project/litmodels/) to enable LitModelCheckpoint, which syncs automatically with the Lightning model registry.\n",
      "GPU available: True (cuda), used: True\n",
      "TPU available: False, using: 0 TPU cores\n",
      "HPU available: False, using: 0 HPUs\n",
      "LOCAL_RANK: 0 - CUDA_VISIBLE_DEVICES: [0]\n"
     ]
    },
    {
     "name": "stdout",
     "output_type": "stream",
     "text": [
      "Predicting DataLoader 0: 100%|██████████| 11/11 [00:00<00:00, 51.97it/s]\n"
     ]
    },
    {
     "name": "stderr",
     "output_type": "stream",
     "text": [
      "💡 Tip: For seamless cloud uploads and versioning, try installing [litmodels](https://pypi.org/project/litmodels/) to enable LitModelCheckpoint, which syncs automatically with the Lightning model registry.\n",
      "GPU available: True (cuda), used: True\n",
      "TPU available: False, using: 0 TPU cores\n",
      "HPU available: False, using: 0 HPUs\n",
      "LOCAL_RANK: 0 - CUDA_VISIBLE_DEVICES: [0]\n"
     ]
    },
    {
     "name": "stdout",
     "output_type": "stream",
     "text": [
      "Predicting DataLoader 0: 100%|██████████| 11/11 [00:00<00:00, 49.99it/s]\n"
     ]
    },
    {
     "name": "stderr",
     "output_type": "stream",
     "text": [
      "💡 Tip: For seamless cloud uploads and versioning, try installing [litmodels](https://pypi.org/project/litmodels/) to enable LitModelCheckpoint, which syncs automatically with the Lightning model registry.\n",
      "GPU available: True (cuda), used: True\n",
      "TPU available: False, using: 0 TPU cores\n",
      "HPU available: False, using: 0 HPUs\n",
      "LOCAL_RANK: 0 - CUDA_VISIBLE_DEVICES: [0]\n"
     ]
    },
    {
     "name": "stdout",
     "output_type": "stream",
     "text": [
      "Predicting DataLoader 0: 100%|██████████| 11/11 [00:00<00:00, 49.51it/s]\n"
     ]
    },
    {
     "name": "stderr",
     "output_type": "stream",
     "text": [
      "💡 Tip: For seamless cloud uploads and versioning, try installing [litmodels](https://pypi.org/project/litmodels/) to enable LitModelCheckpoint, which syncs automatically with the Lightning model registry.\n",
      "GPU available: True (cuda), used: True\n",
      "TPU available: False, using: 0 TPU cores\n",
      "HPU available: False, using: 0 HPUs\n",
      "LOCAL_RANK: 0 - CUDA_VISIBLE_DEVICES: [0]\n"
     ]
    },
    {
     "name": "stdout",
     "output_type": "stream",
     "text": [
      "Predicting DataLoader 0: 100%|██████████| 11/11 [00:00<00:00, 49.47it/s]\n"
     ]
    },
    {
     "name": "stderr",
     "output_type": "stream",
     "text": [
      "💡 Tip: For seamless cloud uploads and versioning, try installing [litmodels](https://pypi.org/project/litmodels/) to enable LitModelCheckpoint, which syncs automatically with the Lightning model registry.\n",
      "GPU available: True (cuda), used: True\n",
      "TPU available: False, using: 0 TPU cores\n",
      "HPU available: False, using: 0 HPUs\n",
      "LOCAL_RANK: 0 - CUDA_VISIBLE_DEVICES: [0]\n"
     ]
    },
    {
     "name": "stdout",
     "output_type": "stream",
     "text": [
      "Predicting DataLoader 0: 100%|██████████| 11/11 [00:00<00:00, 52.67it/s]\n"
     ]
    },
    {
     "name": "stderr",
     "output_type": "stream",
     "text": [
      "💡 Tip: For seamless cloud uploads and versioning, try installing [litmodels](https://pypi.org/project/litmodels/) to enable LitModelCheckpoint, which syncs automatically with the Lightning model registry.\n",
      "GPU available: True (cuda), used: True\n",
      "TPU available: False, using: 0 TPU cores\n",
      "HPU available: False, using: 0 HPUs\n",
      "LOCAL_RANK: 0 - CUDA_VISIBLE_DEVICES: [0]\n"
     ]
    },
    {
     "name": "stdout",
     "output_type": "stream",
     "text": [
      "Predicting DataLoader 0: 100%|██████████| 11/11 [00:00<00:00, 47.27it/s]\n"
     ]
    },
    {
     "name": "stderr",
     "output_type": "stream",
     "text": [
      "💡 Tip: For seamless cloud uploads and versioning, try installing [litmodels](https://pypi.org/project/litmodels/) to enable LitModelCheckpoint, which syncs automatically with the Lightning model registry.\n",
      "GPU available: True (cuda), used: True\n",
      "TPU available: False, using: 0 TPU cores\n",
      "HPU available: False, using: 0 HPUs\n",
      "LOCAL_RANK: 0 - CUDA_VISIBLE_DEVICES: [0]\n"
     ]
    },
    {
     "name": "stdout",
     "output_type": "stream",
     "text": [
      "Predicting DataLoader 0: 100%|██████████| 11/11 [00:00<00:00, 52.23it/s]\n"
     ]
    },
    {
     "name": "stderr",
     "output_type": "stream",
     "text": [
      "💡 Tip: For seamless cloud uploads and versioning, try installing [litmodels](https://pypi.org/project/litmodels/) to enable LitModelCheckpoint, which syncs automatically with the Lightning model registry.\n",
      "GPU available: True (cuda), used: True\n",
      "TPU available: False, using: 0 TPU cores\n",
      "HPU available: False, using: 0 HPUs\n",
      "LOCAL_RANK: 0 - CUDA_VISIBLE_DEVICES: [0]\n"
     ]
    },
    {
     "name": "stdout",
     "output_type": "stream",
     "text": [
      "Predicting DataLoader 0: 100%|██████████| 11/11 [00:00<00:00, 50.90it/s]\n"
     ]
    },
    {
     "name": "stderr",
     "output_type": "stream",
     "text": [
      "💡 Tip: For seamless cloud uploads and versioning, try installing [litmodels](https://pypi.org/project/litmodels/) to enable LitModelCheckpoint, which syncs automatically with the Lightning model registry.\n",
      "GPU available: True (cuda), used: True\n",
      "TPU available: False, using: 0 TPU cores\n",
      "HPU available: False, using: 0 HPUs\n",
      "LOCAL_RANK: 0 - CUDA_VISIBLE_DEVICES: [0]\n"
     ]
    },
    {
     "name": "stdout",
     "output_type": "stream",
     "text": [
      "Predicting DataLoader 0: 100%|██████████| 11/11 [00:00<00:00, 48.75it/s]\n"
     ]
    },
    {
     "name": "stderr",
     "output_type": "stream",
     "text": [
      "💡 Tip: For seamless cloud uploads and versioning, try installing [litmodels](https://pypi.org/project/litmodels/) to enable LitModelCheckpoint, which syncs automatically with the Lightning model registry.\n",
      "GPU available: True (cuda), used: True\n",
      "TPU available: False, using: 0 TPU cores\n",
      "HPU available: False, using: 0 HPUs\n",
      "LOCAL_RANK: 0 - CUDA_VISIBLE_DEVICES: [0]\n"
     ]
    },
    {
     "name": "stdout",
     "output_type": "stream",
     "text": [
      "Predicting DataLoader 0: 100%|██████████| 11/11 [00:00<00:00, 46.60it/s]\n"
     ]
    },
    {
     "name": "stderr",
     "output_type": "stream",
     "text": [
      "💡 Tip: For seamless cloud uploads and versioning, try installing [litmodels](https://pypi.org/project/litmodels/) to enable LitModelCheckpoint, which syncs automatically with the Lightning model registry.\n",
      "GPU available: True (cuda), used: True\n",
      "TPU available: False, using: 0 TPU cores\n",
      "HPU available: False, using: 0 HPUs\n",
      "LOCAL_RANK: 0 - CUDA_VISIBLE_DEVICES: [0]\n"
     ]
    },
    {
     "name": "stdout",
     "output_type": "stream",
     "text": [
      "Predicting DataLoader 0: 100%|██████████| 11/11 [00:00<00:00, 47.81it/s]\n"
     ]
    },
    {
     "name": "stderr",
     "output_type": "stream",
     "text": [
      "💡 Tip: For seamless cloud uploads and versioning, try installing [litmodels](https://pypi.org/project/litmodels/) to enable LitModelCheckpoint, which syncs automatically with the Lightning model registry.\n",
      "GPU available: True (cuda), used: True\n",
      "TPU available: False, using: 0 TPU cores\n",
      "HPU available: False, using: 0 HPUs\n",
      "LOCAL_RANK: 0 - CUDA_VISIBLE_DEVICES: [0]\n"
     ]
    },
    {
     "name": "stdout",
     "output_type": "stream",
     "text": [
      "Predicting DataLoader 0: 100%|██████████| 11/11 [00:00<00:00, 53.91it/s]\n"
     ]
    },
    {
     "name": "stderr",
     "output_type": "stream",
     "text": [
      "💡 Tip: For seamless cloud uploads and versioning, try installing [litmodels](https://pypi.org/project/litmodels/) to enable LitModelCheckpoint, which syncs automatically with the Lightning model registry.\n",
      "GPU available: True (cuda), used: True\n",
      "TPU available: False, using: 0 TPU cores\n",
      "HPU available: False, using: 0 HPUs\n",
      "LOCAL_RANK: 0 - CUDA_VISIBLE_DEVICES: [0]\n"
     ]
    },
    {
     "name": "stdout",
     "output_type": "stream",
     "text": [
      "Predicting DataLoader 0: 100%|██████████| 11/11 [00:00<00:00, 50.92it/s]\n"
     ]
    },
    {
     "name": "stderr",
     "output_type": "stream",
     "text": [
      "💡 Tip: For seamless cloud uploads and versioning, try installing [litmodels](https://pypi.org/project/litmodels/) to enable LitModelCheckpoint, which syncs automatically with the Lightning model registry.\n",
      "GPU available: True (cuda), used: True\n",
      "TPU available: False, using: 0 TPU cores\n",
      "HPU available: False, using: 0 HPUs\n",
      "LOCAL_RANK: 0 - CUDA_VISIBLE_DEVICES: [0]\n"
     ]
    },
    {
     "name": "stdout",
     "output_type": "stream",
     "text": [
      "Predicting DataLoader 0: 100%|██████████| 11/11 [00:00<00:00, 53.13it/s]\n"
     ]
    },
    {
     "name": "stderr",
     "output_type": "stream",
     "text": [
      "💡 Tip: For seamless cloud uploads and versioning, try installing [litmodels](https://pypi.org/project/litmodels/) to enable LitModelCheckpoint, which syncs automatically with the Lightning model registry.\n",
      "GPU available: True (cuda), used: True\n",
      "TPU available: False, using: 0 TPU cores\n",
      "HPU available: False, using: 0 HPUs\n",
      "LOCAL_RANK: 0 - CUDA_VISIBLE_DEVICES: [0]\n"
     ]
    },
    {
     "name": "stdout",
     "output_type": "stream",
     "text": [
      "Predicting DataLoader 0: 100%|██████████| 11/11 [00:00<00:00, 44.95it/s]\n"
     ]
    },
    {
     "name": "stderr",
     "output_type": "stream",
     "text": [
      "💡 Tip: For seamless cloud uploads and versioning, try installing [litmodels](https://pypi.org/project/litmodels/) to enable LitModelCheckpoint, which syncs automatically with the Lightning model registry.\n",
      "GPU available: True (cuda), used: True\n",
      "TPU available: False, using: 0 TPU cores\n",
      "HPU available: False, using: 0 HPUs\n",
      "LOCAL_RANK: 0 - CUDA_VISIBLE_DEVICES: [0]\n"
     ]
    },
    {
     "name": "stdout",
     "output_type": "stream",
     "text": [
      "Predicting DataLoader 0: 100%|██████████| 11/11 [00:00<00:00, 50.56it/s]\n"
     ]
    },
    {
     "name": "stderr",
     "output_type": "stream",
     "text": [
      "💡 Tip: For seamless cloud uploads and versioning, try installing [litmodels](https://pypi.org/project/litmodels/) to enable LitModelCheckpoint, which syncs automatically with the Lightning model registry.\n",
      "GPU available: True (cuda), used: True\n",
      "TPU available: False, using: 0 TPU cores\n",
      "HPU available: False, using: 0 HPUs\n",
      "LOCAL_RANK: 0 - CUDA_VISIBLE_DEVICES: [0]\n"
     ]
    },
    {
     "name": "stdout",
     "output_type": "stream",
     "text": [
      "Predicting DataLoader 0: 100%|██████████| 11/11 [00:00<00:00, 49.58it/s]\n"
     ]
    },
    {
     "name": "stderr",
     "output_type": "stream",
     "text": [
      "💡 Tip: For seamless cloud uploads and versioning, try installing [litmodels](https://pypi.org/project/litmodels/) to enable LitModelCheckpoint, which syncs automatically with the Lightning model registry.\n",
      "GPU available: True (cuda), used: True\n",
      "TPU available: False, using: 0 TPU cores\n",
      "HPU available: False, using: 0 HPUs\n",
      "LOCAL_RANK: 0 - CUDA_VISIBLE_DEVICES: [0]\n"
     ]
    },
    {
     "name": "stdout",
     "output_type": "stream",
     "text": [
      "Predicting DataLoader 0: 100%|██████████| 11/11 [00:00<00:00, 49.08it/s]\n"
     ]
    },
    {
     "name": "stderr",
     "output_type": "stream",
     "text": [
      "💡 Tip: For seamless cloud uploads and versioning, try installing [litmodels](https://pypi.org/project/litmodels/) to enable LitModelCheckpoint, which syncs automatically with the Lightning model registry.\n",
      "GPU available: True (cuda), used: True\n",
      "TPU available: False, using: 0 TPU cores\n",
      "HPU available: False, using: 0 HPUs\n",
      "LOCAL_RANK: 0 - CUDA_VISIBLE_DEVICES: [0]\n"
     ]
    },
    {
     "name": "stdout",
     "output_type": "stream",
     "text": [
      "Predicting DataLoader 0: 100%|██████████| 11/11 [00:00<00:00, 43.59it/s]\n"
     ]
    },
    {
     "name": "stderr",
     "output_type": "stream",
     "text": [
      "💡 Tip: For seamless cloud uploads and versioning, try installing [litmodels](https://pypi.org/project/litmodels/) to enable LitModelCheckpoint, which syncs automatically with the Lightning model registry.\n",
      "GPU available: True (cuda), used: True\n",
      "TPU available: False, using: 0 TPU cores\n",
      "HPU available: False, using: 0 HPUs\n",
      "LOCAL_RANK: 0 - CUDA_VISIBLE_DEVICES: [0]\n"
     ]
    },
    {
     "name": "stdout",
     "output_type": "stream",
     "text": [
      "Predicting DataLoader 0: 100%|██████████| 11/11 [00:00<00:00, 44.36it/s]\n"
     ]
    },
    {
     "name": "stderr",
     "output_type": "stream",
     "text": [
      "💡 Tip: For seamless cloud uploads and versioning, try installing [litmodels](https://pypi.org/project/litmodels/) to enable LitModelCheckpoint, which syncs automatically with the Lightning model registry.\n",
      "GPU available: True (cuda), used: True\n",
      "TPU available: False, using: 0 TPU cores\n",
      "HPU available: False, using: 0 HPUs\n",
      "LOCAL_RANK: 0 - CUDA_VISIBLE_DEVICES: [0]\n"
     ]
    },
    {
     "name": "stdout",
     "output_type": "stream",
     "text": [
      "Predicting DataLoader 0: 100%|██████████| 11/11 [00:00<00:00, 47.42it/s]\n"
     ]
    },
    {
     "name": "stderr",
     "output_type": "stream",
     "text": [
      "💡 Tip: For seamless cloud uploads and versioning, try installing [litmodels](https://pypi.org/project/litmodels/) to enable LitModelCheckpoint, which syncs automatically with the Lightning model registry.\n",
      "GPU available: True (cuda), used: True\n",
      "TPU available: False, using: 0 TPU cores\n",
      "HPU available: False, using: 0 HPUs\n",
      "LOCAL_RANK: 0 - CUDA_VISIBLE_DEVICES: [0]\n"
     ]
    },
    {
     "name": "stdout",
     "output_type": "stream",
     "text": [
      "Predicting DataLoader 0: 100%|██████████| 11/11 [00:00<00:00, 48.60it/s]\n"
     ]
    },
    {
     "name": "stderr",
     "output_type": "stream",
     "text": [
      "💡 Tip: For seamless cloud uploads and versioning, try installing [litmodels](https://pypi.org/project/litmodels/) to enable LitModelCheckpoint, which syncs automatically with the Lightning model registry.\n",
      "GPU available: True (cuda), used: True\n",
      "TPU available: False, using: 0 TPU cores\n",
      "HPU available: False, using: 0 HPUs\n",
      "LOCAL_RANK: 0 - CUDA_VISIBLE_DEVICES: [0]\n"
     ]
    },
    {
     "name": "stdout",
     "output_type": "stream",
     "text": [
      "Predicting DataLoader 0: 100%|██████████| 11/11 [00:00<00:00, 48.00it/s]\n"
     ]
    },
    {
     "name": "stderr",
     "output_type": "stream",
     "text": [
      "💡 Tip: For seamless cloud uploads and versioning, try installing [litmodels](https://pypi.org/project/litmodels/) to enable LitModelCheckpoint, which syncs automatically with the Lightning model registry.\n",
      "GPU available: True (cuda), used: True\n",
      "TPU available: False, using: 0 TPU cores\n",
      "HPU available: False, using: 0 HPUs\n",
      "LOCAL_RANK: 0 - CUDA_VISIBLE_DEVICES: [0]\n"
     ]
    },
    {
     "name": "stdout",
     "output_type": "stream",
     "text": [
      "Predicting DataLoader 0: 100%|██████████| 11/11 [00:00<00:00, 47.08it/s]\n"
     ]
    },
    {
     "name": "stderr",
     "output_type": "stream",
     "text": [
      "💡 Tip: For seamless cloud uploads and versioning, try installing [litmodels](https://pypi.org/project/litmodels/) to enable LitModelCheckpoint, which syncs automatically with the Lightning model registry.\n",
      "GPU available: True (cuda), used: True\n",
      "TPU available: False, using: 0 TPU cores\n",
      "HPU available: False, using: 0 HPUs\n",
      "LOCAL_RANK: 0 - CUDA_VISIBLE_DEVICES: [0]\n"
     ]
    },
    {
     "name": "stdout",
     "output_type": "stream",
     "text": [
      "Predicting DataLoader 0: 100%|██████████| 11/11 [00:00<00:00, 46.61it/s]\n"
     ]
    },
    {
     "name": "stderr",
     "output_type": "stream",
     "text": [
      "💡 Tip: For seamless cloud uploads and versioning, try installing [litmodels](https://pypi.org/project/litmodels/) to enable LitModelCheckpoint, which syncs automatically with the Lightning model registry.\n",
      "GPU available: True (cuda), used: True\n",
      "TPU available: False, using: 0 TPU cores\n",
      "HPU available: False, using: 0 HPUs\n",
      "LOCAL_RANK: 0 - CUDA_VISIBLE_DEVICES: [0]\n"
     ]
    },
    {
     "name": "stdout",
     "output_type": "stream",
     "text": [
      "Predicting DataLoader 0: 100%|██████████| 11/11 [00:00<00:00, 46.59it/s]\n"
     ]
    },
    {
     "name": "stderr",
     "output_type": "stream",
     "text": [
      "💡 Tip: For seamless cloud uploads and versioning, try installing [litmodels](https://pypi.org/project/litmodels/) to enable LitModelCheckpoint, which syncs automatically with the Lightning model registry.\n",
      "GPU available: True (cuda), used: True\n",
      "TPU available: False, using: 0 TPU cores\n",
      "HPU available: False, using: 0 HPUs\n",
      "LOCAL_RANK: 0 - CUDA_VISIBLE_DEVICES: [0]\n"
     ]
    },
    {
     "name": "stdout",
     "output_type": "stream",
     "text": [
      "Predicting DataLoader 0: 100%|██████████| 11/11 [00:00<00:00, 48.03it/s]\n"
     ]
    },
    {
     "name": "stderr",
     "output_type": "stream",
     "text": [
      "💡 Tip: For seamless cloud uploads and versioning, try installing [litmodels](https://pypi.org/project/litmodels/) to enable LitModelCheckpoint, which syncs automatically with the Lightning model registry.\n",
      "GPU available: True (cuda), used: True\n",
      "TPU available: False, using: 0 TPU cores\n",
      "HPU available: False, using: 0 HPUs\n",
      "LOCAL_RANK: 0 - CUDA_VISIBLE_DEVICES: [0]\n"
     ]
    },
    {
     "name": "stdout",
     "output_type": "stream",
     "text": [
      "Predicting DataLoader 0: 100%|██████████| 11/11 [00:00<00:00, 46.11it/s]\n"
     ]
    },
    {
     "name": "stderr",
     "output_type": "stream",
     "text": [
      "💡 Tip: For seamless cloud uploads and versioning, try installing [litmodels](https://pypi.org/project/litmodels/) to enable LitModelCheckpoint, which syncs automatically with the Lightning model registry.\n",
      "GPU available: True (cuda), used: True\n",
      "TPU available: False, using: 0 TPU cores\n",
      "HPU available: False, using: 0 HPUs\n",
      "LOCAL_RANK: 0 - CUDA_VISIBLE_DEVICES: [0]\n"
     ]
    },
    {
     "name": "stdout",
     "output_type": "stream",
     "text": [
      "Predicting DataLoader 0: 100%|██████████| 11/11 [00:00<00:00, 45.95it/s]\n"
     ]
    },
    {
     "name": "stderr",
     "output_type": "stream",
     "text": [
      "💡 Tip: For seamless cloud uploads and versioning, try installing [litmodels](https://pypi.org/project/litmodels/) to enable LitModelCheckpoint, which syncs automatically with the Lightning model registry.\n",
      "GPU available: True (cuda), used: True\n",
      "TPU available: False, using: 0 TPU cores\n",
      "HPU available: False, using: 0 HPUs\n",
      "LOCAL_RANK: 0 - CUDA_VISIBLE_DEVICES: [0]\n"
     ]
    },
    {
     "name": "stdout",
     "output_type": "stream",
     "text": [
      "Predicting DataLoader 0: 100%|██████████| 11/11 [00:00<00:00, 48.85it/s]\n"
     ]
    },
    {
     "name": "stderr",
     "output_type": "stream",
     "text": [
      "💡 Tip: For seamless cloud uploads and versioning, try installing [litmodels](https://pypi.org/project/litmodels/) to enable LitModelCheckpoint, which syncs automatically with the Lightning model registry.\n",
      "GPU available: True (cuda), used: True\n",
      "TPU available: False, using: 0 TPU cores\n",
      "HPU available: False, using: 0 HPUs\n",
      "LOCAL_RANK: 0 - CUDA_VISIBLE_DEVICES: [0]\n"
     ]
    },
    {
     "name": "stdout",
     "output_type": "stream",
     "text": [
      "Predicting DataLoader 0: 100%|██████████| 11/11 [00:00<00:00, 47.64it/s]\n"
     ]
    },
    {
     "name": "stderr",
     "output_type": "stream",
     "text": [
      "💡 Tip: For seamless cloud uploads and versioning, try installing [litmodels](https://pypi.org/project/litmodels/) to enable LitModelCheckpoint, which syncs automatically with the Lightning model registry.\n",
      "GPU available: True (cuda), used: True\n",
      "TPU available: False, using: 0 TPU cores\n",
      "HPU available: False, using: 0 HPUs\n",
      "LOCAL_RANK: 0 - CUDA_VISIBLE_DEVICES: [0]\n"
     ]
    },
    {
     "name": "stdout",
     "output_type": "stream",
     "text": [
      "Predicting DataLoader 0: 100%|██████████| 11/11 [00:00<00:00, 50.13it/s]\n"
     ]
    },
    {
     "name": "stderr",
     "output_type": "stream",
     "text": [
      "💡 Tip: For seamless cloud uploads and versioning, try installing [litmodels](https://pypi.org/project/litmodels/) to enable LitModelCheckpoint, which syncs automatically with the Lightning model registry.\n",
      "GPU available: True (cuda), used: True\n",
      "TPU available: False, using: 0 TPU cores\n",
      "HPU available: False, using: 0 HPUs\n",
      "LOCAL_RANK: 0 - CUDA_VISIBLE_DEVICES: [0]\n"
     ]
    },
    {
     "name": "stdout",
     "output_type": "stream",
     "text": [
      "Predicting DataLoader 0: 100%|██████████| 11/11 [00:00<00:00, 48.66it/s]\n"
     ]
    },
    {
     "name": "stderr",
     "output_type": "stream",
     "text": [
      "💡 Tip: For seamless cloud uploads and versioning, try installing [litmodels](https://pypi.org/project/litmodels/) to enable LitModelCheckpoint, which syncs automatically with the Lightning model registry.\n",
      "GPU available: True (cuda), used: True\n",
      "TPU available: False, using: 0 TPU cores\n",
      "HPU available: False, using: 0 HPUs\n",
      "LOCAL_RANK: 0 - CUDA_VISIBLE_DEVICES: [0]\n"
     ]
    },
    {
     "name": "stdout",
     "output_type": "stream",
     "text": [
      "Predicting DataLoader 0: 100%|██████████| 11/11 [00:00<00:00, 49.87it/s]\n"
     ]
    },
    {
     "name": "stderr",
     "output_type": "stream",
     "text": [
      "💡 Tip: For seamless cloud uploads and versioning, try installing [litmodels](https://pypi.org/project/litmodels/) to enable LitModelCheckpoint, which syncs automatically with the Lightning model registry.\n",
      "GPU available: True (cuda), used: True\n",
      "TPU available: False, using: 0 TPU cores\n",
      "HPU available: False, using: 0 HPUs\n",
      "LOCAL_RANK: 0 - CUDA_VISIBLE_DEVICES: [0]\n"
     ]
    },
    {
     "name": "stdout",
     "output_type": "stream",
     "text": [
      "Predicting DataLoader 0: 100%|██████████| 11/11 [00:00<00:00, 45.60it/s]\n"
     ]
    },
    {
     "name": "stderr",
     "output_type": "stream",
     "text": [
      "💡 Tip: For seamless cloud uploads and versioning, try installing [litmodels](https://pypi.org/project/litmodels/) to enable LitModelCheckpoint, which syncs automatically with the Lightning model registry.\n",
      "GPU available: True (cuda), used: True\n",
      "TPU available: False, using: 0 TPU cores\n",
      "HPU available: False, using: 0 HPUs\n",
      "LOCAL_RANK: 0 - CUDA_VISIBLE_DEVICES: [0]\n"
     ]
    },
    {
     "name": "stdout",
     "output_type": "stream",
     "text": [
      "Predicting DataLoader 0: 100%|██████████| 11/11 [00:00<00:00, 46.21it/s]\n"
     ]
    },
    {
     "name": "stderr",
     "output_type": "stream",
     "text": [
      "💡 Tip: For seamless cloud uploads and versioning, try installing [litmodels](https://pypi.org/project/litmodels/) to enable LitModelCheckpoint, which syncs automatically with the Lightning model registry.\n",
      "GPU available: True (cuda), used: True\n",
      "TPU available: False, using: 0 TPU cores\n",
      "HPU available: False, using: 0 HPUs\n",
      "LOCAL_RANK: 0 - CUDA_VISIBLE_DEVICES: [0]\n"
     ]
    },
    {
     "name": "stdout",
     "output_type": "stream",
     "text": [
      "Predicting DataLoader 0: 100%|██████████| 11/11 [00:00<00:00, 40.71it/s]\n"
     ]
    },
    {
     "name": "stderr",
     "output_type": "stream",
     "text": [
      "💡 Tip: For seamless cloud uploads and versioning, try installing [litmodels](https://pypi.org/project/litmodels/) to enable LitModelCheckpoint, which syncs automatically with the Lightning model registry.\n",
      "GPU available: True (cuda), used: True\n",
      "TPU available: False, using: 0 TPU cores\n",
      "HPU available: False, using: 0 HPUs\n",
      "LOCAL_RANK: 0 - CUDA_VISIBLE_DEVICES: [0]\n"
     ]
    },
    {
     "name": "stdout",
     "output_type": "stream",
     "text": [
      "Predicting DataLoader 0: 100%|██████████| 11/11 [00:00<00:00, 48.10it/s]\n"
     ]
    },
    {
     "name": "stderr",
     "output_type": "stream",
     "text": [
      "💡 Tip: For seamless cloud uploads and versioning, try installing [litmodels](https://pypi.org/project/litmodels/) to enable LitModelCheckpoint, which syncs automatically with the Lightning model registry.\n",
      "GPU available: True (cuda), used: True\n",
      "TPU available: False, using: 0 TPU cores\n",
      "HPU available: False, using: 0 HPUs\n",
      "LOCAL_RANK: 0 - CUDA_VISIBLE_DEVICES: [0]\n"
     ]
    },
    {
     "name": "stdout",
     "output_type": "stream",
     "text": [
      "Predicting DataLoader 0: 100%|██████████| 11/11 [00:00<00:00, 49.17it/s]\n"
     ]
    },
    {
     "name": "stderr",
     "output_type": "stream",
     "text": [
      "💡 Tip: For seamless cloud uploads and versioning, try installing [litmodels](https://pypi.org/project/litmodels/) to enable LitModelCheckpoint, which syncs automatically with the Lightning model registry.\n",
      "GPU available: True (cuda), used: True\n",
      "TPU available: False, using: 0 TPU cores\n",
      "HPU available: False, using: 0 HPUs\n",
      "LOCAL_RANK: 0 - CUDA_VISIBLE_DEVICES: [0]\n"
     ]
    },
    {
     "name": "stdout",
     "output_type": "stream",
     "text": [
      "Predicting DataLoader 0: 100%|██████████| 11/11 [00:00<00:00, 49.83it/s]\n"
     ]
    },
    {
     "name": "stderr",
     "output_type": "stream",
     "text": [
      "💡 Tip: For seamless cloud uploads and versioning, try installing [litmodels](https://pypi.org/project/litmodels/) to enable LitModelCheckpoint, which syncs automatically with the Lightning model registry.\n",
      "GPU available: True (cuda), used: True\n",
      "TPU available: False, using: 0 TPU cores\n",
      "HPU available: False, using: 0 HPUs\n",
      "LOCAL_RANK: 0 - CUDA_VISIBLE_DEVICES: [0]\n"
     ]
    },
    {
     "name": "stdout",
     "output_type": "stream",
     "text": [
      "Predicting DataLoader 0: 100%|██████████| 11/11 [00:00<00:00, 43.64it/s]\n"
     ]
    },
    {
     "name": "stderr",
     "output_type": "stream",
     "text": [
      "💡 Tip: For seamless cloud uploads and versioning, try installing [litmodels](https://pypi.org/project/litmodels/) to enable LitModelCheckpoint, which syncs automatically with the Lightning model registry.\n",
      "GPU available: True (cuda), used: True\n",
      "TPU available: False, using: 0 TPU cores\n",
      "HPU available: False, using: 0 HPUs\n",
      "LOCAL_RANK: 0 - CUDA_VISIBLE_DEVICES: [0]\n"
     ]
    },
    {
     "name": "stdout",
     "output_type": "stream",
     "text": [
      "Predicting DataLoader 0: 100%|██████████| 11/11 [00:00<00:00, 42.25it/s]\n"
     ]
    },
    {
     "name": "stderr",
     "output_type": "stream",
     "text": [
      "💡 Tip: For seamless cloud uploads and versioning, try installing [litmodels](https://pypi.org/project/litmodels/) to enable LitModelCheckpoint, which syncs automatically with the Lightning model registry.\n",
      "GPU available: True (cuda), used: True\n",
      "TPU available: False, using: 0 TPU cores\n",
      "HPU available: False, using: 0 HPUs\n",
      "LOCAL_RANK: 0 - CUDA_VISIBLE_DEVICES: [0]\n"
     ]
    },
    {
     "name": "stdout",
     "output_type": "stream",
     "text": [
      "Predicting DataLoader 0: 100%|██████████| 11/11 [00:00<00:00, 45.95it/s]\n"
     ]
    },
    {
     "name": "stderr",
     "output_type": "stream",
     "text": [
      "💡 Tip: For seamless cloud uploads and versioning, try installing [litmodels](https://pypi.org/project/litmodels/) to enable LitModelCheckpoint, which syncs automatically with the Lightning model registry.\n",
      "GPU available: True (cuda), used: True\n",
      "TPU available: False, using: 0 TPU cores\n",
      "HPU available: False, using: 0 HPUs\n",
      "LOCAL_RANK: 0 - CUDA_VISIBLE_DEVICES: [0]\n"
     ]
    },
    {
     "name": "stdout",
     "output_type": "stream",
     "text": [
      "Predicting DataLoader 0: 100%|██████████| 11/11 [00:00<00:00, 41.82it/s]\n"
     ]
    },
    {
     "name": "stderr",
     "output_type": "stream",
     "text": [
      "💡 Tip: For seamless cloud uploads and versioning, try installing [litmodels](https://pypi.org/project/litmodels/) to enable LitModelCheckpoint, which syncs automatically with the Lightning model registry.\n",
      "GPU available: True (cuda), used: True\n",
      "TPU available: False, using: 0 TPU cores\n",
      "HPU available: False, using: 0 HPUs\n",
      "LOCAL_RANK: 0 - CUDA_VISIBLE_DEVICES: [0]\n"
     ]
    },
    {
     "name": "stdout",
     "output_type": "stream",
     "text": [
      "Predicting DataLoader 0: 100%|██████████| 11/11 [00:00<00:00, 46.87it/s]\n"
     ]
    },
    {
     "name": "stderr",
     "output_type": "stream",
     "text": [
      "💡 Tip: For seamless cloud uploads and versioning, try installing [litmodels](https://pypi.org/project/litmodels/) to enable LitModelCheckpoint, which syncs automatically with the Lightning model registry.\n",
      "GPU available: True (cuda), used: True\n",
      "TPU available: False, using: 0 TPU cores\n",
      "HPU available: False, using: 0 HPUs\n",
      "LOCAL_RANK: 0 - CUDA_VISIBLE_DEVICES: [0]\n"
     ]
    },
    {
     "name": "stdout",
     "output_type": "stream",
     "text": [
      "Predicting DataLoader 0: 100%|██████████| 11/11 [00:00<00:00, 46.69it/s]\n"
     ]
    },
    {
     "name": "stderr",
     "output_type": "stream",
     "text": [
      "💡 Tip: For seamless cloud uploads and versioning, try installing [litmodels](https://pypi.org/project/litmodels/) to enable LitModelCheckpoint, which syncs automatically with the Lightning model registry.\n",
      "GPU available: True (cuda), used: True\n",
      "TPU available: False, using: 0 TPU cores\n",
      "HPU available: False, using: 0 HPUs\n",
      "LOCAL_RANK: 0 - CUDA_VISIBLE_DEVICES: [0]\n"
     ]
    },
    {
     "name": "stdout",
     "output_type": "stream",
     "text": [
      "Predicting DataLoader 0: 100%|██████████| 11/11 [00:00<00:00, 45.92it/s]\n"
     ]
    },
    {
     "name": "stderr",
     "output_type": "stream",
     "text": [
      "💡 Tip: For seamless cloud uploads and versioning, try installing [litmodels](https://pypi.org/project/litmodels/) to enable LitModelCheckpoint, which syncs automatically with the Lightning model registry.\n",
      "GPU available: True (cuda), used: True\n",
      "TPU available: False, using: 0 TPU cores\n",
      "HPU available: False, using: 0 HPUs\n",
      "LOCAL_RANK: 0 - CUDA_VISIBLE_DEVICES: [0]\n"
     ]
    },
    {
     "name": "stdout",
     "output_type": "stream",
     "text": [
      "Predicting DataLoader 0: 100%|██████████| 11/11 [00:00<00:00, 48.28it/s]\n"
     ]
    },
    {
     "name": "stderr",
     "output_type": "stream",
     "text": [
      "💡 Tip: For seamless cloud uploads and versioning, try installing [litmodels](https://pypi.org/project/litmodels/) to enable LitModelCheckpoint, which syncs automatically with the Lightning model registry.\n",
      "GPU available: True (cuda), used: True\n",
      "TPU available: False, using: 0 TPU cores\n",
      "HPU available: False, using: 0 HPUs\n",
      "LOCAL_RANK: 0 - CUDA_VISIBLE_DEVICES: [0]\n"
     ]
    },
    {
     "name": "stdout",
     "output_type": "stream",
     "text": [
      "Predicting DataLoader 0: 100%|██████████| 11/11 [00:00<00:00, 48.23it/s]\n"
     ]
    },
    {
     "name": "stderr",
     "output_type": "stream",
     "text": [
      "💡 Tip: For seamless cloud uploads and versioning, try installing [litmodels](https://pypi.org/project/litmodels/) to enable LitModelCheckpoint, which syncs automatically with the Lightning model registry.\n",
      "GPU available: True (cuda), used: True\n",
      "TPU available: False, using: 0 TPU cores\n",
      "HPU available: False, using: 0 HPUs\n",
      "LOCAL_RANK: 0 - CUDA_VISIBLE_DEVICES: [0]\n"
     ]
    },
    {
     "name": "stdout",
     "output_type": "stream",
     "text": [
      "Predicting DataLoader 0: 100%|██████████| 11/11 [00:00<00:00, 42.88it/s]\n"
     ]
    },
    {
     "name": "stderr",
     "output_type": "stream",
     "text": [
      "💡 Tip: For seamless cloud uploads and versioning, try installing [litmodels](https://pypi.org/project/litmodels/) to enable LitModelCheckpoint, which syncs automatically with the Lightning model registry.\n",
      "GPU available: True (cuda), used: True\n",
      "TPU available: False, using: 0 TPU cores\n",
      "HPU available: False, using: 0 HPUs\n",
      "LOCAL_RANK: 0 - CUDA_VISIBLE_DEVICES: [0]\n"
     ]
    },
    {
     "name": "stdout",
     "output_type": "stream",
     "text": [
      "Predicting DataLoader 0: 100%|██████████| 11/11 [00:00<00:00, 47.33it/s]\n"
     ]
    },
    {
     "name": "stderr",
     "output_type": "stream",
     "text": [
      "💡 Tip: For seamless cloud uploads and versioning, try installing [litmodels](https://pypi.org/project/litmodels/) to enable LitModelCheckpoint, which syncs automatically with the Lightning model registry.\n",
      "GPU available: True (cuda), used: True\n",
      "TPU available: False, using: 0 TPU cores\n",
      "HPU available: False, using: 0 HPUs\n",
      "LOCAL_RANK: 0 - CUDA_VISIBLE_DEVICES: [0]\n"
     ]
    },
    {
     "name": "stdout",
     "output_type": "stream",
     "text": [
      "Predicting DataLoader 0: 100%|██████████| 11/11 [00:00<00:00, 48.74it/s]\n"
     ]
    },
    {
     "name": "stderr",
     "output_type": "stream",
     "text": [
      "💡 Tip: For seamless cloud uploads and versioning, try installing [litmodels](https://pypi.org/project/litmodels/) to enable LitModelCheckpoint, which syncs automatically with the Lightning model registry.\n",
      "GPU available: True (cuda), used: True\n",
      "TPU available: False, using: 0 TPU cores\n",
      "HPU available: False, using: 0 HPUs\n",
      "LOCAL_RANK: 0 - CUDA_VISIBLE_DEVICES: [0]\n"
     ]
    },
    {
     "name": "stdout",
     "output_type": "stream",
     "text": [
      "Predicting DataLoader 0: 100%|██████████| 11/11 [00:00<00:00, 46.68it/s]\n"
     ]
    },
    {
     "name": "stderr",
     "output_type": "stream",
     "text": [
      "💡 Tip: For seamless cloud uploads and versioning, try installing [litmodels](https://pypi.org/project/litmodels/) to enable LitModelCheckpoint, which syncs automatically with the Lightning model registry.\n",
      "GPU available: True (cuda), used: True\n",
      "TPU available: False, using: 0 TPU cores\n",
      "HPU available: False, using: 0 HPUs\n",
      "LOCAL_RANK: 0 - CUDA_VISIBLE_DEVICES: [0]\n"
     ]
    },
    {
     "name": "stdout",
     "output_type": "stream",
     "text": [
      "Predicting DataLoader 0: 100%|██████████| 11/11 [00:00<00:00, 47.30it/s]\n"
     ]
    },
    {
     "name": "stderr",
     "output_type": "stream",
     "text": [
      "💡 Tip: For seamless cloud uploads and versioning, try installing [litmodels](https://pypi.org/project/litmodels/) to enable LitModelCheckpoint, which syncs automatically with the Lightning model registry.\n",
      "GPU available: True (cuda), used: True\n",
      "TPU available: False, using: 0 TPU cores\n",
      "HPU available: False, using: 0 HPUs\n",
      "LOCAL_RANK: 0 - CUDA_VISIBLE_DEVICES: [0]\n"
     ]
    },
    {
     "name": "stdout",
     "output_type": "stream",
     "text": [
      "Predicting DataLoader 0: 100%|██████████| 11/11 [00:00<00:00, 42.97it/s]\n"
     ]
    },
    {
     "name": "stderr",
     "output_type": "stream",
     "text": [
      "💡 Tip: For seamless cloud uploads and versioning, try installing [litmodels](https://pypi.org/project/litmodels/) to enable LitModelCheckpoint, which syncs automatically with the Lightning model registry.\n",
      "GPU available: True (cuda), used: True\n",
      "TPU available: False, using: 0 TPU cores\n",
      "HPU available: False, using: 0 HPUs\n",
      "LOCAL_RANK: 0 - CUDA_VISIBLE_DEVICES: [0]\n"
     ]
    },
    {
     "name": "stdout",
     "output_type": "stream",
     "text": [
      "Predicting DataLoader 0: 100%|██████████| 11/11 [00:00<00:00, 48.81it/s]\n"
     ]
    },
    {
     "name": "stderr",
     "output_type": "stream",
     "text": [
      "💡 Tip: For seamless cloud uploads and versioning, try installing [litmodels](https://pypi.org/project/litmodels/) to enable LitModelCheckpoint, which syncs automatically with the Lightning model registry.\n",
      "GPU available: True (cuda), used: True\n",
      "TPU available: False, using: 0 TPU cores\n",
      "HPU available: False, using: 0 HPUs\n",
      "LOCAL_RANK: 0 - CUDA_VISIBLE_DEVICES: [0]\n"
     ]
    },
    {
     "name": "stdout",
     "output_type": "stream",
     "text": [
      "Predicting DataLoader 0: 100%|██████████| 11/11 [00:00<00:00, 44.04it/s]\n"
     ]
    },
    {
     "name": "stderr",
     "output_type": "stream",
     "text": [
      "💡 Tip: For seamless cloud uploads and versioning, try installing [litmodels](https://pypi.org/project/litmodels/) to enable LitModelCheckpoint, which syncs automatically with the Lightning model registry.\n",
      "GPU available: True (cuda), used: True\n",
      "TPU available: False, using: 0 TPU cores\n",
      "HPU available: False, using: 0 HPUs\n",
      "LOCAL_RANK: 0 - CUDA_VISIBLE_DEVICES: [0]\n"
     ]
    },
    {
     "name": "stdout",
     "output_type": "stream",
     "text": [
      "Predicting DataLoader 0: 100%|██████████| 11/11 [00:00<00:00, 50.22it/s]\n"
     ]
    },
    {
     "name": "stderr",
     "output_type": "stream",
     "text": [
      "💡 Tip: For seamless cloud uploads and versioning, try installing [litmodels](https://pypi.org/project/litmodels/) to enable LitModelCheckpoint, which syncs automatically with the Lightning model registry.\n",
      "GPU available: True (cuda), used: True\n",
      "TPU available: False, using: 0 TPU cores\n",
      "HPU available: False, using: 0 HPUs\n",
      "LOCAL_RANK: 0 - CUDA_VISIBLE_DEVICES: [0]\n"
     ]
    },
    {
     "name": "stdout",
     "output_type": "stream",
     "text": [
      "Predicting DataLoader 0: 100%|██████████| 11/11 [00:00<00:00, 53.98it/s]\n"
     ]
    },
    {
     "name": "stderr",
     "output_type": "stream",
     "text": [
      "💡 Tip: For seamless cloud uploads and versioning, try installing [litmodels](https://pypi.org/project/litmodels/) to enable LitModelCheckpoint, which syncs automatically with the Lightning model registry.\n",
      "GPU available: True (cuda), used: True\n",
      "TPU available: False, using: 0 TPU cores\n",
      "HPU available: False, using: 0 HPUs\n",
      "LOCAL_RANK: 0 - CUDA_VISIBLE_DEVICES: [0]\n"
     ]
    },
    {
     "name": "stdout",
     "output_type": "stream",
     "text": [
      "Predicting DataLoader 0: 100%|██████████| 11/11 [00:00<00:00, 44.83it/s]\n"
     ]
    },
    {
     "name": "stderr",
     "output_type": "stream",
     "text": [
      "💡 Tip: For seamless cloud uploads and versioning, try installing [litmodels](https://pypi.org/project/litmodels/) to enable LitModelCheckpoint, which syncs automatically with the Lightning model registry.\n",
      "GPU available: True (cuda), used: True\n",
      "TPU available: False, using: 0 TPU cores\n",
      "HPU available: False, using: 0 HPUs\n",
      "LOCAL_RANK: 0 - CUDA_VISIBLE_DEVICES: [0]\n"
     ]
    },
    {
     "name": "stdout",
     "output_type": "stream",
     "text": [
      "Predicting DataLoader 0: 100%|██████████| 11/11 [00:00<00:00, 51.67it/s]\n"
     ]
    },
    {
     "name": "stderr",
     "output_type": "stream",
     "text": [
      "💡 Tip: For seamless cloud uploads and versioning, try installing [litmodels](https://pypi.org/project/litmodels/) to enable LitModelCheckpoint, which syncs automatically with the Lightning model registry.\n",
      "GPU available: True (cuda), used: True\n",
      "TPU available: False, using: 0 TPU cores\n",
      "HPU available: False, using: 0 HPUs\n",
      "LOCAL_RANK: 0 - CUDA_VISIBLE_DEVICES: [0]\n"
     ]
    },
    {
     "name": "stdout",
     "output_type": "stream",
     "text": [
      "Predicting DataLoader 0: 100%|██████████| 11/11 [00:00<00:00, 50.48it/s]\n"
     ]
    },
    {
     "name": "stderr",
     "output_type": "stream",
     "text": [
      "💡 Tip: For seamless cloud uploads and versioning, try installing [litmodels](https://pypi.org/project/litmodels/) to enable LitModelCheckpoint, which syncs automatically with the Lightning model registry.\n",
      "GPU available: True (cuda), used: True\n",
      "TPU available: False, using: 0 TPU cores\n",
      "HPU available: False, using: 0 HPUs\n",
      "LOCAL_RANK: 0 - CUDA_VISIBLE_DEVICES: [0]\n"
     ]
    },
    {
     "name": "stdout",
     "output_type": "stream",
     "text": [
      "Predicting DataLoader 0: 100%|██████████| 11/11 [00:00<00:00, 51.84it/s]\n"
     ]
    },
    {
     "name": "stderr",
     "output_type": "stream",
     "text": [
      "💡 Tip: For seamless cloud uploads and versioning, try installing [litmodels](https://pypi.org/project/litmodels/) to enable LitModelCheckpoint, which syncs automatically with the Lightning model registry.\n",
      "GPU available: True (cuda), used: True\n",
      "TPU available: False, using: 0 TPU cores\n",
      "HPU available: False, using: 0 HPUs\n",
      "LOCAL_RANK: 0 - CUDA_VISIBLE_DEVICES: [0]\n"
     ]
    },
    {
     "name": "stdout",
     "output_type": "stream",
     "text": [
      "Predicting DataLoader 0: 100%|██████████| 11/11 [00:00<00:00, 42.89it/s]\n"
     ]
    },
    {
     "name": "stderr",
     "output_type": "stream",
     "text": [
      "💡 Tip: For seamless cloud uploads and versioning, try installing [litmodels](https://pypi.org/project/litmodels/) to enable LitModelCheckpoint, which syncs automatically with the Lightning model registry.\n",
      "GPU available: True (cuda), used: True\n",
      "TPU available: False, using: 0 TPU cores\n",
      "HPU available: False, using: 0 HPUs\n",
      "LOCAL_RANK: 0 - CUDA_VISIBLE_DEVICES: [0]\n"
     ]
    },
    {
     "name": "stdout",
     "output_type": "stream",
     "text": [
      "Predicting DataLoader 0: 100%|██████████| 11/11 [00:00<00:00, 43.09it/s]\n"
     ]
    },
    {
     "name": "stderr",
     "output_type": "stream",
     "text": [
      "💡 Tip: For seamless cloud uploads and versioning, try installing [litmodels](https://pypi.org/project/litmodels/) to enable LitModelCheckpoint, which syncs automatically with the Lightning model registry.\n",
      "GPU available: True (cuda), used: True\n",
      "TPU available: False, using: 0 TPU cores\n",
      "HPU available: False, using: 0 HPUs\n",
      "LOCAL_RANK: 0 - CUDA_VISIBLE_DEVICES: [0]\n"
     ]
    },
    {
     "name": "stdout",
     "output_type": "stream",
     "text": [
      "Predicting DataLoader 0: 100%|██████████| 11/11 [00:00<00:00, 47.87it/s]\n"
     ]
    },
    {
     "name": "stderr",
     "output_type": "stream",
     "text": [
      "💡 Tip: For seamless cloud uploads and versioning, try installing [litmodels](https://pypi.org/project/litmodels/) to enable LitModelCheckpoint, which syncs automatically with the Lightning model registry.\n",
      "GPU available: True (cuda), used: True\n",
      "TPU available: False, using: 0 TPU cores\n",
      "HPU available: False, using: 0 HPUs\n",
      "LOCAL_RANK: 0 - CUDA_VISIBLE_DEVICES: [0]\n"
     ]
    },
    {
     "name": "stdout",
     "output_type": "stream",
     "text": [
      "Predicting DataLoader 0: 100%|██████████| 11/11 [00:00<00:00, 48.89it/s]\n"
     ]
    },
    {
     "name": "stderr",
     "output_type": "stream",
     "text": [
      "💡 Tip: For seamless cloud uploads and versioning, try installing [litmodels](https://pypi.org/project/litmodels/) to enable LitModelCheckpoint, which syncs automatically with the Lightning model registry.\n",
      "GPU available: True (cuda), used: True\n",
      "TPU available: False, using: 0 TPU cores\n",
      "HPU available: False, using: 0 HPUs\n",
      "LOCAL_RANK: 0 - CUDA_VISIBLE_DEVICES: [0]\n"
     ]
    },
    {
     "name": "stdout",
     "output_type": "stream",
     "text": [
      "Predicting DataLoader 0: 100%|██████████| 11/11 [00:00<00:00, 48.03it/s]\n"
     ]
    },
    {
     "name": "stderr",
     "output_type": "stream",
     "text": [
      "💡 Tip: For seamless cloud uploads and versioning, try installing [litmodels](https://pypi.org/project/litmodels/) to enable LitModelCheckpoint, which syncs automatically with the Lightning model registry.\n",
      "GPU available: True (cuda), used: True\n",
      "TPU available: False, using: 0 TPU cores\n",
      "HPU available: False, using: 0 HPUs\n",
      "LOCAL_RANK: 0 - CUDA_VISIBLE_DEVICES: [0]\n"
     ]
    },
    {
     "name": "stdout",
     "output_type": "stream",
     "text": [
      "Predicting DataLoader 0: 100%|██████████| 11/11 [00:00<00:00, 45.17it/s]\n"
     ]
    },
    {
     "name": "stderr",
     "output_type": "stream",
     "text": [
      "💡 Tip: For seamless cloud uploads and versioning, try installing [litmodels](https://pypi.org/project/litmodels/) to enable LitModelCheckpoint, which syncs automatically with the Lightning model registry.\n",
      "GPU available: True (cuda), used: True\n",
      "TPU available: False, using: 0 TPU cores\n",
      "HPU available: False, using: 0 HPUs\n",
      "LOCAL_RANK: 0 - CUDA_VISIBLE_DEVICES: [0]\n"
     ]
    },
    {
     "name": "stdout",
     "output_type": "stream",
     "text": [
      "Predicting DataLoader 0: 100%|██████████| 11/11 [00:00<00:00, 47.45it/s]\n"
     ]
    },
    {
     "name": "stderr",
     "output_type": "stream",
     "text": [
      "💡 Tip: For seamless cloud uploads and versioning, try installing [litmodels](https://pypi.org/project/litmodels/) to enable LitModelCheckpoint, which syncs automatically with the Lightning model registry.\n",
      "GPU available: True (cuda), used: True\n",
      "TPU available: False, using: 0 TPU cores\n",
      "HPU available: False, using: 0 HPUs\n",
      "LOCAL_RANK: 0 - CUDA_VISIBLE_DEVICES: [0]\n"
     ]
    },
    {
     "name": "stdout",
     "output_type": "stream",
     "text": [
      "Predicting DataLoader 0: 100%|██████████| 11/11 [00:00<00:00, 45.24it/s]\n"
     ]
    },
    {
     "name": "stderr",
     "output_type": "stream",
     "text": [
      "💡 Tip: For seamless cloud uploads and versioning, try installing [litmodels](https://pypi.org/project/litmodels/) to enable LitModelCheckpoint, which syncs automatically with the Lightning model registry.\n",
      "GPU available: True (cuda), used: True\n",
      "TPU available: False, using: 0 TPU cores\n",
      "HPU available: False, using: 0 HPUs\n",
      "LOCAL_RANK: 0 - CUDA_VISIBLE_DEVICES: [0]\n"
     ]
    },
    {
     "name": "stdout",
     "output_type": "stream",
     "text": [
      "Predicting DataLoader 0: 100%|██████████| 11/11 [00:00<00:00, 45.35it/s]\n"
     ]
    },
    {
     "name": "stderr",
     "output_type": "stream",
     "text": [
      "💡 Tip: For seamless cloud uploads and versioning, try installing [litmodels](https://pypi.org/project/litmodels/) to enable LitModelCheckpoint, which syncs automatically with the Lightning model registry.\n",
      "GPU available: True (cuda), used: True\n",
      "TPU available: False, using: 0 TPU cores\n",
      "HPU available: False, using: 0 HPUs\n",
      "LOCAL_RANK: 0 - CUDA_VISIBLE_DEVICES: [0]\n"
     ]
    },
    {
     "name": "stdout",
     "output_type": "stream",
     "text": [
      "Predicting DataLoader 0: 100%|██████████| 11/11 [00:00<00:00, 43.83it/s]\n"
     ]
    },
    {
     "name": "stderr",
     "output_type": "stream",
     "text": [
      "💡 Tip: For seamless cloud uploads and versioning, try installing [litmodels](https://pypi.org/project/litmodels/) to enable LitModelCheckpoint, which syncs automatically with the Lightning model registry.\n",
      "GPU available: True (cuda), used: True\n",
      "TPU available: False, using: 0 TPU cores\n",
      "HPU available: False, using: 0 HPUs\n",
      "LOCAL_RANK: 0 - CUDA_VISIBLE_DEVICES: [0]\n"
     ]
    },
    {
     "name": "stdout",
     "output_type": "stream",
     "text": [
      "Predicting DataLoader 0: 100%|██████████| 11/11 [00:00<00:00, 49.41it/s]\n"
     ]
    },
    {
     "name": "stderr",
     "output_type": "stream",
     "text": [
      "💡 Tip: For seamless cloud uploads and versioning, try installing [litmodels](https://pypi.org/project/litmodels/) to enable LitModelCheckpoint, which syncs automatically with the Lightning model registry.\n",
      "GPU available: True (cuda), used: True\n",
      "TPU available: False, using: 0 TPU cores\n",
      "HPU available: False, using: 0 HPUs\n",
      "LOCAL_RANK: 0 - CUDA_VISIBLE_DEVICES: [0]\n"
     ]
    },
    {
     "name": "stdout",
     "output_type": "stream",
     "text": [
      "Predicting DataLoader 0: 100%|██████████| 11/11 [00:00<00:00, 48.70it/s]\n"
     ]
    },
    {
     "name": "stderr",
     "output_type": "stream",
     "text": [
      "💡 Tip: For seamless cloud uploads and versioning, try installing [litmodels](https://pypi.org/project/litmodels/) to enable LitModelCheckpoint, which syncs automatically with the Lightning model registry.\n",
      "GPU available: True (cuda), used: True\n",
      "TPU available: False, using: 0 TPU cores\n",
      "HPU available: False, using: 0 HPUs\n",
      "LOCAL_RANK: 0 - CUDA_VISIBLE_DEVICES: [0]\n"
     ]
    },
    {
     "name": "stdout",
     "output_type": "stream",
     "text": [
      "Predicting DataLoader 0: 100%|██████████| 11/11 [00:00<00:00, 48.48it/s]\n"
     ]
    },
    {
     "name": "stderr",
     "output_type": "stream",
     "text": [
      "💡 Tip: For seamless cloud uploads and versioning, try installing [litmodels](https://pypi.org/project/litmodels/) to enable LitModelCheckpoint, which syncs automatically with the Lightning model registry.\n",
      "GPU available: True (cuda), used: True\n",
      "TPU available: False, using: 0 TPU cores\n",
      "HPU available: False, using: 0 HPUs\n",
      "LOCAL_RANK: 0 - CUDA_VISIBLE_DEVICES: [0]\n"
     ]
    },
    {
     "name": "stdout",
     "output_type": "stream",
     "text": [
      "Predicting DataLoader 0: 100%|██████████| 11/11 [00:00<00:00, 43.05it/s]\n"
     ]
    },
    {
     "name": "stderr",
     "output_type": "stream",
     "text": [
      "💡 Tip: For seamless cloud uploads and versioning, try installing [litmodels](https://pypi.org/project/litmodels/) to enable LitModelCheckpoint, which syncs automatically with the Lightning model registry.\n",
      "GPU available: True (cuda), used: True\n",
      "TPU available: False, using: 0 TPU cores\n",
      "HPU available: False, using: 0 HPUs\n",
      "LOCAL_RANK: 0 - CUDA_VISIBLE_DEVICES: [0]\n"
     ]
    },
    {
     "name": "stdout",
     "output_type": "stream",
     "text": [
      "Predicting DataLoader 0: 100%|██████████| 11/11 [00:00<00:00, 47.31it/s]\n"
     ]
    },
    {
     "name": "stderr",
     "output_type": "stream",
     "text": [
      "💡 Tip: For seamless cloud uploads and versioning, try installing [litmodels](https://pypi.org/project/litmodels/) to enable LitModelCheckpoint, which syncs automatically with the Lightning model registry.\n",
      "GPU available: True (cuda), used: True\n",
      "TPU available: False, using: 0 TPU cores\n",
      "HPU available: False, using: 0 HPUs\n",
      "LOCAL_RANK: 0 - CUDA_VISIBLE_DEVICES: [0]\n"
     ]
    },
    {
     "name": "stdout",
     "output_type": "stream",
     "text": [
      "Predicting DataLoader 0: 100%|██████████| 11/11 [00:00<00:00, 45.98it/s]\n"
     ]
    },
    {
     "name": "stderr",
     "output_type": "stream",
     "text": [
      "💡 Tip: For seamless cloud uploads and versioning, try installing [litmodels](https://pypi.org/project/litmodels/) to enable LitModelCheckpoint, which syncs automatically with the Lightning model registry.\n",
      "GPU available: True (cuda), used: True\n",
      "TPU available: False, using: 0 TPU cores\n",
      "HPU available: False, using: 0 HPUs\n",
      "LOCAL_RANK: 0 - CUDA_VISIBLE_DEVICES: [0]\n"
     ]
    },
    {
     "name": "stdout",
     "output_type": "stream",
     "text": [
      "Predicting DataLoader 0: 100%|██████████| 11/11 [00:00<00:00, 45.53it/s]\n"
     ]
    },
    {
     "name": "stderr",
     "output_type": "stream",
     "text": [
      "💡 Tip: For seamless cloud uploads and versioning, try installing [litmodels](https://pypi.org/project/litmodels/) to enable LitModelCheckpoint, which syncs automatically with the Lightning model registry.\n",
      "GPU available: True (cuda), used: True\n",
      "TPU available: False, using: 0 TPU cores\n",
      "HPU available: False, using: 0 HPUs\n",
      "LOCAL_RANK: 0 - CUDA_VISIBLE_DEVICES: [0]\n"
     ]
    },
    {
     "name": "stdout",
     "output_type": "stream",
     "text": [
      "Predicting DataLoader 0: 100%|██████████| 11/11 [00:00<00:00, 48.07it/s]\n"
     ]
    },
    {
     "name": "stderr",
     "output_type": "stream",
     "text": [
      "💡 Tip: For seamless cloud uploads and versioning, try installing [litmodels](https://pypi.org/project/litmodels/) to enable LitModelCheckpoint, which syncs automatically with the Lightning model registry.\n",
      "GPU available: True (cuda), used: True\n",
      "TPU available: False, using: 0 TPU cores\n",
      "HPU available: False, using: 0 HPUs\n",
      "LOCAL_RANK: 0 - CUDA_VISIBLE_DEVICES: [0]\n"
     ]
    },
    {
     "name": "stdout",
     "output_type": "stream",
     "text": [
      "Predicting DataLoader 0: 100%|██████████| 11/11 [00:00<00:00, 37.77it/s]\n"
     ]
    },
    {
     "name": "stderr",
     "output_type": "stream",
     "text": [
      "💡 Tip: For seamless cloud uploads and versioning, try installing [litmodels](https://pypi.org/project/litmodels/) to enable LitModelCheckpoint, which syncs automatically with the Lightning model registry.\n",
      "GPU available: True (cuda), used: True\n",
      "TPU available: False, using: 0 TPU cores\n",
      "HPU available: False, using: 0 HPUs\n",
      "LOCAL_RANK: 0 - CUDA_VISIBLE_DEVICES: [0]\n"
     ]
    },
    {
     "name": "stdout",
     "output_type": "stream",
     "text": [
      "Predicting DataLoader 0: 100%|██████████| 11/11 [00:00<00:00, 44.98it/s]\n"
     ]
    },
    {
     "name": "stderr",
     "output_type": "stream",
     "text": [
      "💡 Tip: For seamless cloud uploads and versioning, try installing [litmodels](https://pypi.org/project/litmodels/) to enable LitModelCheckpoint, which syncs automatically with the Lightning model registry.\n",
      "GPU available: True (cuda), used: True\n",
      "TPU available: False, using: 0 TPU cores\n",
      "HPU available: False, using: 0 HPUs\n",
      "LOCAL_RANK: 0 - CUDA_VISIBLE_DEVICES: [0]\n"
     ]
    },
    {
     "name": "stdout",
     "output_type": "stream",
     "text": [
      "Predicting DataLoader 0: 100%|██████████| 11/11 [00:00<00:00, 45.44it/s]\n"
     ]
    },
    {
     "name": "stderr",
     "output_type": "stream",
     "text": [
      "💡 Tip: For seamless cloud uploads and versioning, try installing [litmodels](https://pypi.org/project/litmodels/) to enable LitModelCheckpoint, which syncs automatically with the Lightning model registry.\n",
      "GPU available: True (cuda), used: True\n",
      "TPU available: False, using: 0 TPU cores\n",
      "HPU available: False, using: 0 HPUs\n",
      "LOCAL_RANK: 0 - CUDA_VISIBLE_DEVICES: [0]\n"
     ]
    },
    {
     "name": "stdout",
     "output_type": "stream",
     "text": [
      "Predicting DataLoader 0: 100%|██████████| 11/11 [00:00<00:00, 44.80it/s]\n"
     ]
    },
    {
     "name": "stderr",
     "output_type": "stream",
     "text": [
      "💡 Tip: For seamless cloud uploads and versioning, try installing [litmodels](https://pypi.org/project/litmodels/) to enable LitModelCheckpoint, which syncs automatically with the Lightning model registry.\n",
      "GPU available: True (cuda), used: True\n",
      "TPU available: False, using: 0 TPU cores\n",
      "HPU available: False, using: 0 HPUs\n",
      "LOCAL_RANK: 0 - CUDA_VISIBLE_DEVICES: [0]\n"
     ]
    },
    {
     "name": "stdout",
     "output_type": "stream",
     "text": [
      "Predicting DataLoader 0: 100%|██████████| 11/11 [00:00<00:00, 39.44it/s]\n"
     ]
    },
    {
     "name": "stderr",
     "output_type": "stream",
     "text": [
      "💡 Tip: For seamless cloud uploads and versioning, try installing [litmodels](https://pypi.org/project/litmodels/) to enable LitModelCheckpoint, which syncs automatically with the Lightning model registry.\n",
      "GPU available: True (cuda), used: True\n",
      "TPU available: False, using: 0 TPU cores\n",
      "HPU available: False, using: 0 HPUs\n",
      "LOCAL_RANK: 0 - CUDA_VISIBLE_DEVICES: [0]\n"
     ]
    },
    {
     "name": "stdout",
     "output_type": "stream",
     "text": [
      "Predicting DataLoader 0: 100%|██████████| 11/11 [00:00<00:00, 44.95it/s]\n"
     ]
    },
    {
     "name": "stderr",
     "output_type": "stream",
     "text": [
      "💡 Tip: For seamless cloud uploads and versioning, try installing [litmodels](https://pypi.org/project/litmodels/) to enable LitModelCheckpoint, which syncs automatically with the Lightning model registry.\n",
      "GPU available: True (cuda), used: True\n",
      "TPU available: False, using: 0 TPU cores\n",
      "HPU available: False, using: 0 HPUs\n",
      "LOCAL_RANK: 0 - CUDA_VISIBLE_DEVICES: [0]\n"
     ]
    },
    {
     "name": "stdout",
     "output_type": "stream",
     "text": [
      "Predicting DataLoader 0: 100%|██████████| 11/11 [00:00<00:00, 45.98it/s]\n"
     ]
    },
    {
     "name": "stderr",
     "output_type": "stream",
     "text": [
      "💡 Tip: For seamless cloud uploads and versioning, try installing [litmodels](https://pypi.org/project/litmodels/) to enable LitModelCheckpoint, which syncs automatically with the Lightning model registry.\n",
      "GPU available: True (cuda), used: True\n",
      "TPU available: False, using: 0 TPU cores\n",
      "HPU available: False, using: 0 HPUs\n",
      "LOCAL_RANK: 0 - CUDA_VISIBLE_DEVICES: [0]\n"
     ]
    },
    {
     "name": "stdout",
     "output_type": "stream",
     "text": [
      "Predicting DataLoader 0: 100%|██████████| 11/11 [00:00<00:00, 42.22it/s]\n"
     ]
    },
    {
     "name": "stderr",
     "output_type": "stream",
     "text": [
      "💡 Tip: For seamless cloud uploads and versioning, try installing [litmodels](https://pypi.org/project/litmodels/) to enable LitModelCheckpoint, which syncs automatically with the Lightning model registry.\n",
      "GPU available: True (cuda), used: True\n",
      "TPU available: False, using: 0 TPU cores\n",
      "HPU available: False, using: 0 HPUs\n",
      "LOCAL_RANK: 0 - CUDA_VISIBLE_DEVICES: [0]\n"
     ]
    },
    {
     "name": "stdout",
     "output_type": "stream",
     "text": [
      "Predicting DataLoader 0: 100%|██████████| 11/11 [00:00<00:00, 43.56it/s]\n"
     ]
    },
    {
     "name": "stderr",
     "output_type": "stream",
     "text": [
      "💡 Tip: For seamless cloud uploads and versioning, try installing [litmodels](https://pypi.org/project/litmodels/) to enable LitModelCheckpoint, which syncs automatically with the Lightning model registry.\n",
      "GPU available: True (cuda), used: True\n",
      "TPU available: False, using: 0 TPU cores\n",
      "HPU available: False, using: 0 HPUs\n",
      "LOCAL_RANK: 0 - CUDA_VISIBLE_DEVICES: [0]\n"
     ]
    },
    {
     "name": "stdout",
     "output_type": "stream",
     "text": [
      "Predicting DataLoader 0: 100%|██████████| 11/11 [00:00<00:00, 49.08it/s]\n"
     ]
    },
    {
     "name": "stderr",
     "output_type": "stream",
     "text": [
      "💡 Tip: For seamless cloud uploads and versioning, try installing [litmodels](https://pypi.org/project/litmodels/) to enable LitModelCheckpoint, which syncs automatically with the Lightning model registry.\n",
      "GPU available: True (cuda), used: True\n",
      "TPU available: False, using: 0 TPU cores\n",
      "HPU available: False, using: 0 HPUs\n",
      "LOCAL_RANK: 0 - CUDA_VISIBLE_DEVICES: [0]\n"
     ]
    },
    {
     "name": "stdout",
     "output_type": "stream",
     "text": [
      "Predicting DataLoader 0: 100%|██████████| 11/11 [00:00<00:00, 46.74it/s]\n"
     ]
    },
    {
     "name": "stderr",
     "output_type": "stream",
     "text": [
      "💡 Tip: For seamless cloud uploads and versioning, try installing [litmodels](https://pypi.org/project/litmodels/) to enable LitModelCheckpoint, which syncs automatically with the Lightning model registry.\n",
      "GPU available: True (cuda), used: True\n",
      "TPU available: False, using: 0 TPU cores\n",
      "HPU available: False, using: 0 HPUs\n",
      "LOCAL_RANK: 0 - CUDA_VISIBLE_DEVICES: [0]\n"
     ]
    },
    {
     "name": "stdout",
     "output_type": "stream",
     "text": [
      "Predicting DataLoader 0: 100%|██████████| 11/11 [00:00<00:00, 44.88it/s]\n"
     ]
    },
    {
     "name": "stderr",
     "output_type": "stream",
     "text": [
      "💡 Tip: For seamless cloud uploads and versioning, try installing [litmodels](https://pypi.org/project/litmodels/) to enable LitModelCheckpoint, which syncs automatically with the Lightning model registry.\n",
      "GPU available: True (cuda), used: True\n",
      "TPU available: False, using: 0 TPU cores\n",
      "HPU available: False, using: 0 HPUs\n",
      "LOCAL_RANK: 0 - CUDA_VISIBLE_DEVICES: [0]\n"
     ]
    },
    {
     "name": "stdout",
     "output_type": "stream",
     "text": [
      "Predicting DataLoader 0: 100%|██████████| 11/11 [00:00<00:00, 46.08it/s]\n"
     ]
    },
    {
     "name": "stderr",
     "output_type": "stream",
     "text": [
      "💡 Tip: For seamless cloud uploads and versioning, try installing [litmodels](https://pypi.org/project/litmodels/) to enable LitModelCheckpoint, which syncs automatically with the Lightning model registry.\n",
      "GPU available: True (cuda), used: True\n",
      "TPU available: False, using: 0 TPU cores\n",
      "HPU available: False, using: 0 HPUs\n",
      "LOCAL_RANK: 0 - CUDA_VISIBLE_DEVICES: [0]\n"
     ]
    },
    {
     "name": "stdout",
     "output_type": "stream",
     "text": [
      "Predicting DataLoader 0: 100%|██████████| 11/11 [00:00<00:00, 39.61it/s]\n"
     ]
    },
    {
     "name": "stderr",
     "output_type": "stream",
     "text": [
      "💡 Tip: For seamless cloud uploads and versioning, try installing [litmodels](https://pypi.org/project/litmodels/) to enable LitModelCheckpoint, which syncs automatically with the Lightning model registry.\n",
      "GPU available: True (cuda), used: True\n",
      "TPU available: False, using: 0 TPU cores\n",
      "HPU available: False, using: 0 HPUs\n",
      "LOCAL_RANK: 0 - CUDA_VISIBLE_DEVICES: [0]\n"
     ]
    },
    {
     "name": "stdout",
     "output_type": "stream",
     "text": [
      "Predicting DataLoader 0: 100%|██████████| 11/11 [00:00<00:00, 48.03it/s]\n"
     ]
    },
    {
     "name": "stderr",
     "output_type": "stream",
     "text": [
      "💡 Tip: For seamless cloud uploads and versioning, try installing [litmodels](https://pypi.org/project/litmodels/) to enable LitModelCheckpoint, which syncs automatically with the Lightning model registry.\n",
      "GPU available: True (cuda), used: True\n",
      "TPU available: False, using: 0 TPU cores\n",
      "HPU available: False, using: 0 HPUs\n",
      "LOCAL_RANK: 0 - CUDA_VISIBLE_DEVICES: [0]\n"
     ]
    },
    {
     "name": "stdout",
     "output_type": "stream",
     "text": [
      "Predicting DataLoader 0: 100%|██████████| 11/11 [00:00<00:00, 43.38it/s]\n"
     ]
    },
    {
     "name": "stderr",
     "output_type": "stream",
     "text": [
      "💡 Tip: For seamless cloud uploads and versioning, try installing [litmodels](https://pypi.org/project/litmodels/) to enable LitModelCheckpoint, which syncs automatically with the Lightning model registry.\n",
      "GPU available: True (cuda), used: True\n",
      "TPU available: False, using: 0 TPU cores\n",
      "HPU available: False, using: 0 HPUs\n",
      "LOCAL_RANK: 0 - CUDA_VISIBLE_DEVICES: [0]\n"
     ]
    },
    {
     "name": "stdout",
     "output_type": "stream",
     "text": [
      "Predicting DataLoader 0: 100%|██████████| 11/11 [00:00<00:00, 46.87it/s]\n"
     ]
    },
    {
     "name": "stderr",
     "output_type": "stream",
     "text": [
      "💡 Tip: For seamless cloud uploads and versioning, try installing [litmodels](https://pypi.org/project/litmodels/) to enable LitModelCheckpoint, which syncs automatically with the Lightning model registry.\n",
      "GPU available: True (cuda), used: True\n",
      "TPU available: False, using: 0 TPU cores\n",
      "HPU available: False, using: 0 HPUs\n",
      "LOCAL_RANK: 0 - CUDA_VISIBLE_DEVICES: [0]\n"
     ]
    },
    {
     "name": "stdout",
     "output_type": "stream",
     "text": [
      "Predicting DataLoader 0: 100%|██████████| 11/11 [00:00<00:00, 44.01it/s]\n"
     ]
    },
    {
     "name": "stderr",
     "output_type": "stream",
     "text": [
      "💡 Tip: For seamless cloud uploads and versioning, try installing [litmodels](https://pypi.org/project/litmodels/) to enable LitModelCheckpoint, which syncs automatically with the Lightning model registry.\n",
      "GPU available: True (cuda), used: True\n",
      "TPU available: False, using: 0 TPU cores\n",
      "HPU available: False, using: 0 HPUs\n",
      "LOCAL_RANK: 0 - CUDA_VISIBLE_DEVICES: [0]\n"
     ]
    },
    {
     "name": "stdout",
     "output_type": "stream",
     "text": [
      "Predicting DataLoader 0: 100%|██████████| 11/11 [00:00<00:00, 40.08it/s]\n"
     ]
    },
    {
     "name": "stderr",
     "output_type": "stream",
     "text": [
      "💡 Tip: For seamless cloud uploads and versioning, try installing [litmodels](https://pypi.org/project/litmodels/) to enable LitModelCheckpoint, which syncs automatically with the Lightning model registry.\n",
      "GPU available: True (cuda), used: True\n",
      "TPU available: False, using: 0 TPU cores\n",
      "HPU available: False, using: 0 HPUs\n",
      "LOCAL_RANK: 0 - CUDA_VISIBLE_DEVICES: [0]\n"
     ]
    },
    {
     "name": "stdout",
     "output_type": "stream",
     "text": [
      "Predicting DataLoader 0: 100%|██████████| 11/11 [00:00<00:00, 47.22it/s]\n"
     ]
    },
    {
     "name": "stderr",
     "output_type": "stream",
     "text": [
      "💡 Tip: For seamless cloud uploads and versioning, try installing [litmodels](https://pypi.org/project/litmodels/) to enable LitModelCheckpoint, which syncs automatically with the Lightning model registry.\n",
      "GPU available: True (cuda), used: True\n",
      "TPU available: False, using: 0 TPU cores\n",
      "HPU available: False, using: 0 HPUs\n",
      "LOCAL_RANK: 0 - CUDA_VISIBLE_DEVICES: [0]\n"
     ]
    },
    {
     "name": "stdout",
     "output_type": "stream",
     "text": [
      "Predicting DataLoader 0: 100%|██████████| 11/11 [00:00<00:00, 42.30it/s]\n"
     ]
    },
    {
     "name": "stderr",
     "output_type": "stream",
     "text": [
      "💡 Tip: For seamless cloud uploads and versioning, try installing [litmodels](https://pypi.org/project/litmodels/) to enable LitModelCheckpoint, which syncs automatically with the Lightning model registry.\n",
      "GPU available: True (cuda), used: True\n",
      "TPU available: False, using: 0 TPU cores\n",
      "HPU available: False, using: 0 HPUs\n",
      "LOCAL_RANK: 0 - CUDA_VISIBLE_DEVICES: [0]\n"
     ]
    },
    {
     "name": "stdout",
     "output_type": "stream",
     "text": [
      "Predicting DataLoader 0: 100%|██████████| 11/11 [00:00<00:00, 39.46it/s]\n"
     ]
    },
    {
     "name": "stderr",
     "output_type": "stream",
     "text": [
      "💡 Tip: For seamless cloud uploads and versioning, try installing [litmodels](https://pypi.org/project/litmodels/) to enable LitModelCheckpoint, which syncs automatically with the Lightning model registry.\n",
      "GPU available: True (cuda), used: True\n",
      "TPU available: False, using: 0 TPU cores\n",
      "HPU available: False, using: 0 HPUs\n",
      "LOCAL_RANK: 0 - CUDA_VISIBLE_DEVICES: [0]\n"
     ]
    },
    {
     "name": "stdout",
     "output_type": "stream",
     "text": [
      "Predicting DataLoader 0: 100%|██████████| 11/11 [00:00<00:00, 39.52it/s]\n"
     ]
    },
    {
     "name": "stderr",
     "output_type": "stream",
     "text": [
      "💡 Tip: For seamless cloud uploads and versioning, try installing [litmodels](https://pypi.org/project/litmodels/) to enable LitModelCheckpoint, which syncs automatically with the Lightning model registry.\n",
      "GPU available: True (cuda), used: True\n",
      "TPU available: False, using: 0 TPU cores\n",
      "HPU available: False, using: 0 HPUs\n",
      "LOCAL_RANK: 0 - CUDA_VISIBLE_DEVICES: [0]\n"
     ]
    },
    {
     "name": "stdout",
     "output_type": "stream",
     "text": [
      "Predicting DataLoader 0: 100%|██████████| 11/11 [00:00<00:00, 48.24it/s]\n"
     ]
    },
    {
     "name": "stderr",
     "output_type": "stream",
     "text": [
      "💡 Tip: For seamless cloud uploads and versioning, try installing [litmodels](https://pypi.org/project/litmodels/) to enable LitModelCheckpoint, which syncs automatically with the Lightning model registry.\n",
      "GPU available: True (cuda), used: True\n",
      "TPU available: False, using: 0 TPU cores\n",
      "HPU available: False, using: 0 HPUs\n",
      "LOCAL_RANK: 0 - CUDA_VISIBLE_DEVICES: [0]\n"
     ]
    },
    {
     "name": "stdout",
     "output_type": "stream",
     "text": [
      "Predicting DataLoader 0: 100%|██████████| 11/11 [00:00<00:00, 51.15it/s]\n"
     ]
    },
    {
     "name": "stderr",
     "output_type": "stream",
     "text": [
      "💡 Tip: For seamless cloud uploads and versioning, try installing [litmodels](https://pypi.org/project/litmodels/) to enable LitModelCheckpoint, which syncs automatically with the Lightning model registry.\n",
      "GPU available: True (cuda), used: True\n",
      "TPU available: False, using: 0 TPU cores\n",
      "HPU available: False, using: 0 HPUs\n",
      "LOCAL_RANK: 0 - CUDA_VISIBLE_DEVICES: [0]\n"
     ]
    },
    {
     "name": "stdout",
     "output_type": "stream",
     "text": [
      "Predicting DataLoader 0: 100%|██████████| 11/11 [00:00<00:00, 50.54it/s]\n"
     ]
    },
    {
     "name": "stderr",
     "output_type": "stream",
     "text": [
      "💡 Tip: For seamless cloud uploads and versioning, try installing [litmodels](https://pypi.org/project/litmodels/) to enable LitModelCheckpoint, which syncs automatically with the Lightning model registry.\n",
      "GPU available: True (cuda), used: True\n",
      "TPU available: False, using: 0 TPU cores\n",
      "HPU available: False, using: 0 HPUs\n",
      "LOCAL_RANK: 0 - CUDA_VISIBLE_DEVICES: [0]\n"
     ]
    },
    {
     "name": "stdout",
     "output_type": "stream",
     "text": [
      "Predicting DataLoader 0: 100%|██████████| 11/11 [00:00<00:00, 51.77it/s]\n"
     ]
    },
    {
     "name": "stderr",
     "output_type": "stream",
     "text": [
      "💡 Tip: For seamless cloud uploads and versioning, try installing [litmodels](https://pypi.org/project/litmodels/) to enable LitModelCheckpoint, which syncs automatically with the Lightning model registry.\n",
      "GPU available: True (cuda), used: True\n",
      "TPU available: False, using: 0 TPU cores\n",
      "HPU available: False, using: 0 HPUs\n",
      "LOCAL_RANK: 0 - CUDA_VISIBLE_DEVICES: [0]\n"
     ]
    },
    {
     "name": "stdout",
     "output_type": "stream",
     "text": [
      "Predicting DataLoader 0: 100%|██████████| 11/11 [00:00<00:00, 51.63it/s]\n"
     ]
    },
    {
     "name": "stderr",
     "output_type": "stream",
     "text": [
      "💡 Tip: For seamless cloud uploads and versioning, try installing [litmodels](https://pypi.org/project/litmodels/) to enable LitModelCheckpoint, which syncs automatically with the Lightning model registry.\n",
      "GPU available: True (cuda), used: True\n",
      "TPU available: False, using: 0 TPU cores\n",
      "HPU available: False, using: 0 HPUs\n",
      "LOCAL_RANK: 0 - CUDA_VISIBLE_DEVICES: [0]\n"
     ]
    },
    {
     "name": "stdout",
     "output_type": "stream",
     "text": [
      "Predicting DataLoader 0: 100%|██████████| 11/11 [00:00<00:00, 40.72it/s]\n"
     ]
    },
    {
     "name": "stderr",
     "output_type": "stream",
     "text": [
      "💡 Tip: For seamless cloud uploads and versioning, try installing [litmodels](https://pypi.org/project/litmodels/) to enable LitModelCheckpoint, which syncs automatically with the Lightning model registry.\n",
      "GPU available: True (cuda), used: True\n",
      "TPU available: False, using: 0 TPU cores\n",
      "HPU available: False, using: 0 HPUs\n",
      "LOCAL_RANK: 0 - CUDA_VISIBLE_DEVICES: [0]\n"
     ]
    },
    {
     "name": "stdout",
     "output_type": "stream",
     "text": [
      "Predicting DataLoader 0: 100%|██████████| 11/11 [00:00<00:00, 51.39it/s]\n"
     ]
    },
    {
     "name": "stderr",
     "output_type": "stream",
     "text": [
      "💡 Tip: For seamless cloud uploads and versioning, try installing [litmodels](https://pypi.org/project/litmodels/) to enable LitModelCheckpoint, which syncs automatically with the Lightning model registry.\n",
      "GPU available: True (cuda), used: True\n",
      "TPU available: False, using: 0 TPU cores\n",
      "HPU available: False, using: 0 HPUs\n",
      "LOCAL_RANK: 0 - CUDA_VISIBLE_DEVICES: [0]\n"
     ]
    },
    {
     "name": "stdout",
     "output_type": "stream",
     "text": [
      "Predicting DataLoader 0: 100%|██████████| 11/11 [00:00<00:00, 52.26it/s]\n"
     ]
    },
    {
     "name": "stderr",
     "output_type": "stream",
     "text": [
      "💡 Tip: For seamless cloud uploads and versioning, try installing [litmodels](https://pypi.org/project/litmodels/) to enable LitModelCheckpoint, which syncs automatically with the Lightning model registry.\n",
      "GPU available: True (cuda), used: True\n",
      "TPU available: False, using: 0 TPU cores\n",
      "HPU available: False, using: 0 HPUs\n",
      "LOCAL_RANK: 0 - CUDA_VISIBLE_DEVICES: [0]\n"
     ]
    },
    {
     "name": "stdout",
     "output_type": "stream",
     "text": [
      "Predicting DataLoader 0: 100%|██████████| 11/11 [00:00<00:00, 49.91it/s]\n"
     ]
    },
    {
     "name": "stderr",
     "output_type": "stream",
     "text": [
      "💡 Tip: For seamless cloud uploads and versioning, try installing [litmodels](https://pypi.org/project/litmodels/) to enable LitModelCheckpoint, which syncs automatically with the Lightning model registry.\n",
      "GPU available: True (cuda), used: True\n",
      "TPU available: False, using: 0 TPU cores\n",
      "HPU available: False, using: 0 HPUs\n",
      "LOCAL_RANK: 0 - CUDA_VISIBLE_DEVICES: [0]\n"
     ]
    },
    {
     "name": "stdout",
     "output_type": "stream",
     "text": [
      "Predicting DataLoader 0: 100%|██████████| 11/11 [00:00<00:00, 50.44it/s]\n"
     ]
    },
    {
     "name": "stderr",
     "output_type": "stream",
     "text": [
      "💡 Tip: For seamless cloud uploads and versioning, try installing [litmodels](https://pypi.org/project/litmodels/) to enable LitModelCheckpoint, which syncs automatically with the Lightning model registry.\n",
      "GPU available: True (cuda), used: True\n",
      "TPU available: False, using: 0 TPU cores\n",
      "HPU available: False, using: 0 HPUs\n",
      "LOCAL_RANK: 0 - CUDA_VISIBLE_DEVICES: [0]\n"
     ]
    },
    {
     "name": "stdout",
     "output_type": "stream",
     "text": [
      "Predicting DataLoader 0: 100%|██████████| 11/11 [00:00<00:00, 45.27it/s]\n"
     ]
    },
    {
     "name": "stderr",
     "output_type": "stream",
     "text": [
      "💡 Tip: For seamless cloud uploads and versioning, try installing [litmodels](https://pypi.org/project/litmodels/) to enable LitModelCheckpoint, which syncs automatically with the Lightning model registry.\n",
      "GPU available: True (cuda), used: True\n",
      "TPU available: False, using: 0 TPU cores\n",
      "HPU available: False, using: 0 HPUs\n",
      "LOCAL_RANK: 0 - CUDA_VISIBLE_DEVICES: [0]\n"
     ]
    },
    {
     "name": "stdout",
     "output_type": "stream",
     "text": [
      "Predicting DataLoader 0: 100%|██████████| 11/11 [00:00<00:00, 52.88it/s]\n"
     ]
    },
    {
     "name": "stderr",
     "output_type": "stream",
     "text": [
      "💡 Tip: For seamless cloud uploads and versioning, try installing [litmodels](https://pypi.org/project/litmodels/) to enable LitModelCheckpoint, which syncs automatically with the Lightning model registry.\n",
      "GPU available: True (cuda), used: True\n",
      "TPU available: False, using: 0 TPU cores\n",
      "HPU available: False, using: 0 HPUs\n",
      "LOCAL_RANK: 0 - CUDA_VISIBLE_DEVICES: [0]\n"
     ]
    },
    {
     "name": "stdout",
     "output_type": "stream",
     "text": [
      "Predicting DataLoader 0: 100%|██████████| 11/11 [00:00<00:00, 49.54it/s]\n"
     ]
    },
    {
     "name": "stderr",
     "output_type": "stream",
     "text": [
      "💡 Tip: For seamless cloud uploads and versioning, try installing [litmodels](https://pypi.org/project/litmodels/) to enable LitModelCheckpoint, which syncs automatically with the Lightning model registry.\n",
      "GPU available: True (cuda), used: True\n",
      "TPU available: False, using: 0 TPU cores\n",
      "HPU available: False, using: 0 HPUs\n",
      "LOCAL_RANK: 0 - CUDA_VISIBLE_DEVICES: [0]\n"
     ]
    },
    {
     "name": "stdout",
     "output_type": "stream",
     "text": [
      "Predicting DataLoader 0: 100%|██████████| 11/11 [00:00<00:00, 40.96it/s]\n"
     ]
    },
    {
     "name": "stderr",
     "output_type": "stream",
     "text": [
      "💡 Tip: For seamless cloud uploads and versioning, try installing [litmodels](https://pypi.org/project/litmodels/) to enable LitModelCheckpoint, which syncs automatically with the Lightning model registry.\n",
      "GPU available: True (cuda), used: True\n",
      "TPU available: False, using: 0 TPU cores\n",
      "HPU available: False, using: 0 HPUs\n",
      "LOCAL_RANK: 0 - CUDA_VISIBLE_DEVICES: [0]\n"
     ]
    },
    {
     "name": "stdout",
     "output_type": "stream",
     "text": [
      "Predicting DataLoader 0: 100%|██████████| 11/11 [00:00<00:00, 45.97it/s]\n"
     ]
    },
    {
     "name": "stderr",
     "output_type": "stream",
     "text": [
      "💡 Tip: For seamless cloud uploads and versioning, try installing [litmodels](https://pypi.org/project/litmodels/) to enable LitModelCheckpoint, which syncs automatically with the Lightning model registry.\n",
      "GPU available: True (cuda), used: True\n",
      "TPU available: False, using: 0 TPU cores\n",
      "HPU available: False, using: 0 HPUs\n",
      "LOCAL_RANK: 0 - CUDA_VISIBLE_DEVICES: [0]\n"
     ]
    },
    {
     "name": "stdout",
     "output_type": "stream",
     "text": [
      "Predicting DataLoader 0: 100%|██████████| 11/11 [00:00<00:00, 44.45it/s]\n"
     ]
    },
    {
     "name": "stderr",
     "output_type": "stream",
     "text": [
      "💡 Tip: For seamless cloud uploads and versioning, try installing [litmodels](https://pypi.org/project/litmodels/) to enable LitModelCheckpoint, which syncs automatically with the Lightning model registry.\n",
      "GPU available: True (cuda), used: True\n",
      "TPU available: False, using: 0 TPU cores\n",
      "HPU available: False, using: 0 HPUs\n",
      "LOCAL_RANK: 0 - CUDA_VISIBLE_DEVICES: [0]\n"
     ]
    },
    {
     "name": "stdout",
     "output_type": "stream",
     "text": [
      "Predicting DataLoader 0: 100%|██████████| 11/11 [00:00<00:00, 50.52it/s]\n"
     ]
    },
    {
     "name": "stderr",
     "output_type": "stream",
     "text": [
      "💡 Tip: For seamless cloud uploads and versioning, try installing [litmodels](https://pypi.org/project/litmodels/) to enable LitModelCheckpoint, which syncs automatically with the Lightning model registry.\n",
      "GPU available: True (cuda), used: True\n",
      "TPU available: False, using: 0 TPU cores\n",
      "HPU available: False, using: 0 HPUs\n",
      "LOCAL_RANK: 0 - CUDA_VISIBLE_DEVICES: [0]\n"
     ]
    },
    {
     "name": "stdout",
     "output_type": "stream",
     "text": [
      "Predicting DataLoader 0: 100%|██████████| 11/11 [00:00<00:00, 48.22it/s]\n"
     ]
    },
    {
     "name": "stderr",
     "output_type": "stream",
     "text": [
      "💡 Tip: For seamless cloud uploads and versioning, try installing [litmodels](https://pypi.org/project/litmodels/) to enable LitModelCheckpoint, which syncs automatically with the Lightning model registry.\n",
      "GPU available: True (cuda), used: True\n",
      "TPU available: False, using: 0 TPU cores\n",
      "HPU available: False, using: 0 HPUs\n",
      "LOCAL_RANK: 0 - CUDA_VISIBLE_DEVICES: [0]\n"
     ]
    },
    {
     "name": "stdout",
     "output_type": "stream",
     "text": [
      "Predicting DataLoader 0: 100%|██████████| 11/11 [00:00<00:00, 46.60it/s]\n"
     ]
    },
    {
     "name": "stderr",
     "output_type": "stream",
     "text": [
      "💡 Tip: For seamless cloud uploads and versioning, try installing [litmodels](https://pypi.org/project/litmodels/) to enable LitModelCheckpoint, which syncs automatically with the Lightning model registry.\n",
      "GPU available: True (cuda), used: True\n",
      "TPU available: False, using: 0 TPU cores\n",
      "HPU available: False, using: 0 HPUs\n",
      "LOCAL_RANK: 0 - CUDA_VISIBLE_DEVICES: [0]\n"
     ]
    },
    {
     "name": "stdout",
     "output_type": "stream",
     "text": [
      "Predicting DataLoader 0: 100%|██████████| 11/11 [00:00<00:00, 48.60it/s]\n"
     ]
    },
    {
     "name": "stderr",
     "output_type": "stream",
     "text": [
      "💡 Tip: For seamless cloud uploads and versioning, try installing [litmodels](https://pypi.org/project/litmodels/) to enable LitModelCheckpoint, which syncs automatically with the Lightning model registry.\n",
      "GPU available: True (cuda), used: True\n",
      "TPU available: False, using: 0 TPU cores\n",
      "HPU available: False, using: 0 HPUs\n",
      "LOCAL_RANK: 0 - CUDA_VISIBLE_DEVICES: [0]\n"
     ]
    },
    {
     "name": "stdout",
     "output_type": "stream",
     "text": [
      "Predicting DataLoader 0: 100%|██████████| 11/11 [00:00<00:00, 41.92it/s]\n"
     ]
    },
    {
     "name": "stderr",
     "output_type": "stream",
     "text": [
      "💡 Tip: For seamless cloud uploads and versioning, try installing [litmodels](https://pypi.org/project/litmodels/) to enable LitModelCheckpoint, which syncs automatically with the Lightning model registry.\n",
      "GPU available: True (cuda), used: True\n",
      "TPU available: False, using: 0 TPU cores\n",
      "HPU available: False, using: 0 HPUs\n",
      "LOCAL_RANK: 0 - CUDA_VISIBLE_DEVICES: [0]\n"
     ]
    },
    {
     "name": "stdout",
     "output_type": "stream",
     "text": [
      "Predicting DataLoader 0: 100%|██████████| 11/11 [00:00<00:00, 50.26it/s]\n",
      "Anchors: 143 | time=181.70s\n"
     ]
    },
    {
     "data": {
      "text/html": [
       "<div>\n",
       "<style scoped>\n",
       "    .dataframe tbody tr th:only-of-type {\n",
       "        vertical-align: middle;\n",
       "    }\n",
       "\n",
       "    .dataframe tbody tr th {\n",
       "        vertical-align: top;\n",
       "    }\n",
       "\n",
       "    .dataframe thead th {\n",
       "        text-align: right;\n",
       "    }\n",
       "</style>\n",
       "<table border=\"1\" class=\"dataframe\">\n",
       "  <thead>\n",
       "    <tr style=\"text-align: right;\">\n",
       "      <th></th>\n",
       "      <th>pollutant</th>\n",
       "      <th>R2</th>\n",
       "      <th>SMAPE_%</th>\n",
       "      <th>MSE_ppb2</th>\n",
       "      <th>N</th>\n",
       "    </tr>\n",
       "  </thead>\n",
       "  <tbody>\n",
       "    <tr>\n",
       "      <th>0</th>\n",
       "      <td>CO</td>\n",
       "      <td>0.502</td>\n",
       "      <td>17.450</td>\n",
       "      <td>10496.471</td>\n",
       "      <td>32150</td>\n",
       "    </tr>\n",
       "    <tr>\n",
       "      <th>1</th>\n",
       "      <td>NO2</td>\n",
       "      <td>0.259</td>\n",
       "      <td>20.582</td>\n",
       "      <td>20.398</td>\n",
       "      <td>32150</td>\n",
       "    </tr>\n",
       "    <tr>\n",
       "      <th>2</th>\n",
       "      <td>O3</td>\n",
       "      <td>0.185</td>\n",
       "      <td>10.610</td>\n",
       "      <td>57.068</td>\n",
       "      <td>32150</td>\n",
       "    </tr>\n",
       "    <tr>\n",
       "      <th>3</th>\n",
       "      <td>SO2</td>\n",
       "      <td>0.593</td>\n",
       "      <td>31.314</td>\n",
       "      <td>83795.158</td>\n",
       "      <td>32150</td>\n",
       "    </tr>\n",
       "  </tbody>\n",
       "</table>\n",
       "</div>"
      ],
      "text/plain": [
       "  pollutant     R2  SMAPE_%   MSE_ppb2      N\n",
       "0        CO  0.502   17.450  10496.471  32150\n",
       "1       NO2  0.259   20.582     20.398  32150\n",
       "2        O3  0.185   10.610     57.068  32150\n",
       "3       SO2  0.593   31.314  83795.158  32150"
      ]
     },
     "metadata": {},
     "output_type": "display_data"
    },
    {
     "data": {
      "image/png": "[encoded data removed]",
      "text/plain": [
       "<Figure size 900x360 with 1 Axes>"
      ]
     },
     "metadata": {},
     "output_type": "display_data"
    },
    {
     "data": {
      "image/png": "[encoded data removed]",
      "text/plain": [
       "<Figure size 900x360 with 1 Axes>"
      ]
     },
     "metadata": {},
     "output_type": "display_data"
    },
    {
     "data": {
      "image/png": "[encoded data removed]",
      "text/plain": [
       "<Figure size 900x360 with 1 Axes>"
      ]
     },
     "metadata": {},
     "output_type": "display_data"
    },
    {
     "data": {
      "image/png": "[encoded data removed]",
      "text/plain": [
       "<Figure size 900x360 with 1 Axes>"
      ]
     },
     "metadata": {},
     "output_type": "display_data"
    }
   ],
   "source": [
    "# Rolling evaluation across the full test horizon (weekly anchors)\n",
    "def rolling_eval_nf(nf_model: NeuralForecast,\n",
    "                    full_df: pd.DataFrame,\n",
    "                    test_start: pd.Timestamp,\n",
    "                    test_end: pd.Timestamp,\n",
    "                    step_days: int = 7) -> Tuple[pd.DataFrame, pd.DataFrame]:\n",
    "    \"\"\"Weekly anchors from test_start..test_end. Returns (per-anchor table, summary).\"\"\"\n",
    "    anchors = pd.date_range(\n",
    "        test_start,\n",
    "        test_end - pd.Timedelta(days=CFG.PRED_WINDOW),\n",
    "        freq=f\"{step_days}D\"\n",
    "    )\n",
    "    rows = []\n",
    "    for a in anchors:\n",
    "        # History up to anchor produces next H predictions\n",
    "        hist = full_df[full_df[\"ds\"] <= a].copy()\n",
    "        if hist.empty:\n",
    "            continue\n",
    "\n",
    "        fcst = nf_model.predict(df=hist)\n",
    "        pred_col = [c for c in fcst.columns if c not in (\"unique_id\", \"ds\")][0]\n",
    "\n",
    "        # Restrict to the immediate H-day window (a, a+H]\n",
    "        fcst_win = fcst[(fcst[\"ds\"] > a) & (fcst[\"ds\"] <= a + pd.Timedelta(days=CFG.PRED_WINDOW))]\n",
    "        truth = full_df[(full_df[\"ds\"] > a) & (full_df[\"ds\"] <= a + pd.Timedelta(days=CFG.PRED_WINDOW))]\n",
    "\n",
    "        ev = (\n",
    "            truth.merge(fcst_win, on=[\"unique_id\", \"ds\"], how=\"inner\")\n",
    "                 .rename(columns={pred_col: \"y_pred\"})\n",
    "        )\n",
    "        if ev.empty:\n",
    "            continue\n",
    "        ev[\"pollutant\"] = ev[\"unique_id\"].str.extract(r\"_(o3|no2|so2|co)$\")[0].str.upper()\n",
    "\n",
    "        for pol, grp in ev.groupby(\"pollutant\"):\n",
    "            y, yhat = grp[\"y\"].to_numpy(), grp[\"y_pred\"].to_numpy()\n",
    "            s = PPB_SCALE[pol]\n",
    "            y_ppb, yhat_ppb = y * s, yhat * s\n",
    "\n",
    "            rows.append({\n",
    "                \"anchor\": a.date().isoformat(),\n",
    "                \"pollutant\": pol,\n",
    "                \"R2\": r2_score(y, yhat),\n",
    "                \"SMAPE_%\": smape(y_ppb, yhat_ppb),\n",
    "                \"MSE_ppb2\": float(np.mean((y_ppb - yhat_ppb) ** 2)),\n",
    "                \"N\": int(len(grp)),\n",
    "            })\n",
    "\n",
    "    roll_tbl = pd.DataFrame(rows)\n",
    "    if roll_tbl.empty:\n",
    "        return roll_tbl, roll_tbl\n",
    "\n",
    "    roll_summary = (\n",
    "        roll_tbl.groupby(\"pollutant\", as_index=False)\n",
    "                .agg({\n",
    "                    \"R2\": \"mean\",\n",
    "                    \"SMAPE_%\": \"mean\",\n",
    "                    \"MSE_ppb2\": \"mean\",\n",
    "                    \"N\": \"sum\",\n",
    "                })\n",
    "                .sort_values(\"pollutant\")\n",
    "                .reset_index(drop=True)\n",
    "    )\n",
    "    return roll_tbl, roll_summary\n",
    "\n",
    "\n",
    "# Run rolling eval over the full test window\n",
    "full_df = df_nf.copy()\n",
    "test_start = (VAL_END + pd.Timedelta(days=1))\n",
    "test_end = full_df[\"ds\"].max()\n",
    "\n",
    "t0 = time.perf_counter()\n",
    "roll_tbl, roll_summary = rolling_eval_nf(nf, full_df, test_start, test_end, CFG.ROLL_STEP_DAYS)\n",
    "elapsed = time.perf_counter() - t0\n",
    "\n",
    "print(f\"Anchors: {roll_tbl['anchor'].nunique() if not roll_tbl.empty else 0} | time={elapsed:.2f}s\")\n",
    "display(roll_summary.round(3))\n",
    "\n",
    "# Save artifacts\n",
    "roll_tbl.to_csv(OUT_DIR / \"rolling_eval_by_anchor.csv\", index=False)\n",
    "roll_summary.to_csv(OUT_DIR / \"rolling_eval_summary.csv\", index=False)\n",
    "\n",
    "# plots: R^2 by anchor for each pollutant\n",
    "if not roll_tbl.empty:\n",
    "    for pol in sorted(roll_tbl[\"pollutant\"].unique()):\n",
    "        g = roll_tbl[roll_tbl[\"pollutant\"] == pol].copy()\n",
    "        # sort by anchor date for cleanliness\n",
    "        g[\"anchor_dt\"] = pd.to_datetime(g[\"anchor\"])\n",
    "        g = g.sort_values(\"anchor_dt\")\n",
    "\n",
    "        plt.figure(figsize=(9, 3.6))\n",
    "        plt.plot(g[\"anchor_dt\"], g[\"R2\"], marker=\"o\", linewidth=1)\n",
    "        plt.title(f\"Informer R^2 by anchor — {pol}\")\n",
    "        plt.axhline(0.0, color=\"k\", linestyle=\"--\", linewidth=1)\n",
    "        plt.ylabel(\"R^2\"); plt.xlabel(\"Anchor date\")\n",
    "        plt.tight_layout()\n",
    "        plt.show()\n"
   ]
  },
  {
   "cell_type": "code",
   "execution_count": null,
   "id": "b60cad85",
   "metadata": {},
   "outputs": [
    {
     "name": "stdout",
     "output_type": "stream",
     "text": [
      "⚠️ Negative R² diagnostic (rolling anchors):\n"
     ]
    },
    {
     "data": {
      "text/html": [
       "<div>\n",
       "<style scoped>\n",
       "    .dataframe tbody tr th:only-of-type {\n",
       "        vertical-align: middle;\n",
       "    }\n",
       "\n",
       "    .dataframe tbody tr th {\n",
       "        vertical-align: top;\n",
       "    }\n",
       "\n",
       "    .dataframe thead th {\n",
       "        text-align: right;\n",
       "    }\n",
       "</style>\n",
       "<table border=\"1\" class=\"dataframe\">\n",
       "  <thead>\n",
       "    <tr style=\"text-align: right;\">\n",
       "      <th></th>\n",
       "      <th>pollutant</th>\n",
       "      <th>mean_R2</th>\n",
       "      <th>median_R2</th>\n",
       "      <th>neg_R2_count</th>\n",
       "      <th>total</th>\n",
       "      <th>neg_share_%</th>\n",
       "    </tr>\n",
       "  </thead>\n",
       "  <tbody>\n",
       "    <tr>\n",
       "      <th>0</th>\n",
       "      <td>CO</td>\n",
       "      <td>0.502</td>\n",
       "      <td>0.547</td>\n",
       "      <td>4.0</td>\n",
       "      <td>143.0</td>\n",
       "      <td>2.797</td>\n",
       "    </tr>\n",
       "    <tr>\n",
       "      <th>1</th>\n",
       "      <td>NO2</td>\n",
       "      <td>0.259</td>\n",
       "      <td>0.363</td>\n",
       "      <td>23.0</td>\n",
       "      <td>143.0</td>\n",
       "      <td>16.084</td>\n",
       "    </tr>\n",
       "    <tr>\n",
       "      <th>2</th>\n",
       "      <td>O3</td>\n",
       "      <td>0.185</td>\n",
       "      <td>0.194</td>\n",
       "      <td>27.0</td>\n",
       "      <td>143.0</td>\n",
       "      <td>18.881</td>\n",
       "    </tr>\n",
       "    <tr>\n",
       "      <th>3</th>\n",
       "      <td>SO2</td>\n",
       "      <td>0.593</td>\n",
       "      <td>0.599</td>\n",
       "      <td>1.0</td>\n",
       "      <td>143.0</td>\n",
       "      <td>0.699</td>\n",
       "    </tr>\n",
       "  </tbody>\n",
       "</table>\n",
       "</div>"
      ],
      "text/plain": [
       "  pollutant  mean_R2  median_R2  neg_R2_count  total  neg_share_%\n",
       "0        CO    0.502      0.547           4.0  143.0        2.797\n",
       "1       NO2    0.259      0.363          23.0  143.0       16.084\n",
       "2        O3    0.185      0.194          27.0  143.0       18.881\n",
       "3       SO2    0.593      0.599           1.0  143.0        0.699"
      ]
     },
     "metadata": {},
     "output_type": "display_data"
    },
    {
     "data": {
      "image/png": "[encoded data removed]",
      "text/plain": [
       "<Figure size 1000x400 with 1 Axes>"
      ]
     },
     "metadata": {},
     "output_type": "display_data"
    },
    {
     "data": {
      "image/png": "[encoded data removed]",
      "text/plain": [
       "<Figure size 1000x400 with 1 Axes>"
      ]
     },
     "metadata": {},
     "output_type": "display_data"
    },
    {
     "data": {
      "image/png": "[encoded data removed]",
      "text/plain": [
       "<Figure size 1000x400 with 1 Axes>"
      ]
     },
     "metadata": {},
     "output_type": "display_data"
    },
    {
     "data": {
      "image/png": "[encoded data removed]",
      "text/plain": [
       "<Figure size 1000x400 with 1 Axes>"
      ]
     },
     "metadata": {},
     "output_type": "display_data"
    }
   ],
   "source": [
    "# diagnose negative R^2 issue for O3 + line plots of R^2 by anchor\n",
    "\n",
    "from pathlib import Path\n",
    "MODEL_NAME = \"Informer\"\n",
    "try:\n",
    "    OUT_DIR\n",
    "except NameError:\n",
    "    OUT_DIR = Path(\"results\")\n",
    "(OUT_DIR / \"figs\").mkdir(parents=True, exist_ok=True)\n",
    "\n",
    "import numpy as np\n",
    "import pandas as pd\n",
    "import matplotlib.pyplot as plt\n",
    "\n",
    "def negative_r2_report(roll_tbl: pd.DataFrame) -> pd.DataFrame:\n",
    "    \"\"\"Share/summary of negative R^2 per pollutant over rolling anchors.\"\"\"\n",
    "    if roll_tbl is None or roll_tbl.empty:\n",
    "        cols = [\"pollutant\", \"mean_R2\", \"median_R2\", \"neg_R2_count\", \"total\", \"neg_share_%\"]\n",
    "        return pd.DataFrame(columns=cols)\n",
    "\n",
    "    def summarize(g):\n",
    "        vals = g[\"R2\"].to_numpy()\n",
    "        return pd.Series({\n",
    "            \"mean_R2\": float(np.nanmean(vals)),\n",
    "            \"median_R2\": float(np.nanmedian(vals)),\n",
    "            \"neg_R2_count\": int((vals < 0).sum()),\n",
    "            \"total\": int(len(vals)),\n",
    "            \"neg_share_%\": float(100.0 * (vals < 0).sum() / max(1, len(vals))),\n",
    "        })\n",
    "\n",
    "    rep = (roll_tbl.groupby(\"pollutant\")\n",
    "                  .apply(summarize)\n",
    "                  .reset_index())\n",
    "    return rep\n",
    "\n",
    "# build/save report\n",
    "neg_report = negative_r2_report(roll_tbl)\n",
    "print(\"Negative R^2 diagnostic (rolling anchors):\")\n",
    "display(neg_report.round(3))\n",
    "neg_report.to_csv(OUT_DIR / \"negative_r2_report_informer.csv\", index=False)\n",
    "\n",
    "#plot R^2 over anchors for each pollutant\n",
    "if roll_tbl is not None and not roll_tbl.empty:\n",
    "    for pol in sorted(roll_tbl[\"pollutant\"].unique()):\n",
    "        g = roll_tbl[roll_tbl[\"pollutant\"] == pol].copy()\n",
    "        g[\"anchor_dt\"] = pd.to_datetime(g[\"anchor\"])\n",
    "        g = g.sort_values(\"anchor_dt\")\n",
    "\n",
    "        plt.figure(figsize=(10, 4))\n",
    "        plt.plot(g[\"anchor_dt\"], g[\"R2\"], marker=\"o\", ms=3)\n",
    "        plt.axhline(0.0, ls=\"--\", lw=1, color=\"k\")\n",
    "        plt.title(f\"{MODEL_NAME} R² by anchor — {pol}\")\n",
    "        plt.ylabel(\"R²\"); plt.xlabel(\"Anchor date\")\n",
    "        plt.tight_layout()\n",
    "        plt.savefig(OUT_DIR / \"figs\" / f\"{MODEL_NAME.lower()}_r2_by_anchor_{pol.lower()}.png\", dpi=150)\n",
    "        plt.show()\n"
   ]
  },
  {
   "cell_type": "markdown",
   "id": "640dc22b",
   "metadata": {},
   "source": [
    "## 12. occlusion sensitivity"
   ]
  },
  {
   "cell_type": "code",
   "execution_count": null,
   "id": "96b1086b",
   "metadata": {},
   "outputs": [
    {
     "data": {
      "text/html": [
       "<div>\n",
       "<style scoped>\n",
       "    .dataframe tbody tr th:only-of-type {\n",
       "        vertical-align: middle;\n",
       "    }\n",
       "\n",
       "    .dataframe tbody tr th {\n",
       "        vertical-align: top;\n",
       "    }\n",
       "\n",
       "    .dataframe thead th {\n",
       "        text-align: right;\n",
       "    }\n",
       "</style>\n",
       "<table border=\"1\" class=\"dataframe\">\n",
       "  <thead>\n",
       "    <tr style=\"text-align: right;\">\n",
       "      <th></th>\n",
       "      <th>R2</th>\n",
       "      <th>SMAPE_%</th>\n",
       "      <th>MSE_ppb2</th>\n",
       "      <th>N</th>\n",
       "      <th>model</th>\n",
       "      <th>split</th>\n",
       "    </tr>\n",
       "  </thead>\n",
       "  <tbody>\n",
       "    <tr>\n",
       "      <th>0</th>\n",
       "      <td>0.472</td>\n",
       "      <td>19.757</td>\n",
       "      <td>17250.570</td>\n",
       "      <td>1016.0</td>\n",
       "      <td>Informer</td>\n",
       "      <td>Immediate</td>\n",
       "    </tr>\n",
       "    <tr>\n",
       "      <th>1</th>\n",
       "      <td>0.385</td>\n",
       "      <td>19.989</td>\n",
       "      <td>23592.274</td>\n",
       "      <td>128600.0</td>\n",
       "      <td>Informer</td>\n",
       "      <td>Rolling</td>\n",
       "    </tr>\n",
       "  </tbody>\n",
       "</table>\n",
       "</div>"
      ],
      "text/plain": [
       "      R2  SMAPE_%   MSE_ppb2         N     model      split\n",
       "0  0.472   19.757  17250.570    1016.0  Informer  Immediate\n",
       "1  0.385   19.989  23592.274  128600.0  Informer    Rolling"
      ]
     },
     "metadata": {},
     "output_type": "display_data"
    },
    {
     "data": {
      "image/png": "[encoded data removed]",
      "text/plain": [
       "<Figure size 800x400 with 1 Axes>"
      ]
     },
     "metadata": {},
     "output_type": "display_data"
    }
   ],
   "source": [
    "# build a single comparison table (ready for slides/report)\n",
    "import numpy as np\n",
    "import pandas as pd\n",
    "from pathlib import Path\n",
    "import matplotlib.pyplot as plt\n",
    "\n",
    "# helpers to macro-average across pollutants\n",
    "def macro_avg_immediate(tbl: pd.DataFrame, model_name: str) -> dict:\n",
    "    if tbl is None or tbl.empty:\n",
    "        return {}\n",
    "    d = tbl.agg({\"R2\": \"mean\", \"SMAPE_%\": \"mean\", \"MSE_ppb2\": \"mean\", \"N\": \"sum\"}).to_dict()\n",
    "    d[\"model\"] = model_name\n",
    "    d[\"split\"] = \"Immediate\"\n",
    "    return d\n",
    "\n",
    "def macro_avg_rolling(roll_summary: pd.DataFrame, model_name: str) -> dict:\n",
    "    if roll_summary is None or roll_summary.empty:\n",
    "        return {}\n",
    "    d = roll_summary.agg({\"R2\": \"mean\", \"SMAPE_%\": \"mean\", \"MSE_ppb2\": \"mean\", \"N\": \"sum\"}).to_dict()\n",
    "    d[\"model\"] = model_name\n",
    "    d[\"split\"] = \"Rolling\"\n",
    "    return d\n",
    "\n",
    "compare_rows = []\n",
    "# Informer\n",
    "compare_rows.append(macro_avg_immediate(immediate_tbl, MODEL_NAME))\n",
    "compare_rows.append(macro_avg_rolling(roll_summary, MODEL_NAME))\n",
    "\n",
    "#method to add other models if we decided to aggregate everything in one notebook\n",
    "def try_add_model(tag: str, immediate_csv: Path, rolling_csv: Path):\n",
    "    if immediate_csv.exists():\n",
    "        t = pd.read_csv(immediate_csv)\n",
    "        d = t.agg({\"R2\": \"mean\", \"SMAPE_%\": \"mean\", \"MSE_ppb2\": \"mean\", \"N\": \"sum\"}).to_dict()\n",
    "        d[\"model\"] = tag; d[\"split\"] = \"Immediate\"; compare_rows.append(d)\n",
    "    if rolling_csv.exists():\n",
    "        t = pd.read_csv(rolling_csv)\n",
    "        d = t.agg({\"R2\": \"mean\", \"SMAPE_%\": \"mean\", \"MSE_ppb2\": \"mean\", \"N\": \"sum\"}).to_dict()\n",
    "        d[\"model\"] = tag; d[\"split\"] = \"Rolling\"; compare_rows.append(d)\n",
    "try_add_model(\"TFT\",\n",
    "              OUT_DIR / \"metrics_immediate_tft.csv\",\n",
    "              OUT_DIR / \"rolling_eval_summary_tft.csv\")\n",
    "try_add_model(\"LSTM\",\n",
    "              OUT_DIR / \"metrics_immediate_lstm.csv\",\n",
    "              OUT_DIR / \"rolling_eval_summary_lstm.csv\")\n",
    "\n",
    "compare_df = pd.DataFrame([r for r in compare_rows if r])\n",
    "display(compare_df.round(3))\n",
    "compare_df.to_csv(OUT_DIR / \"model_comparison.csv\", index=False)\n",
    "\n",
    "# macro R^2 comparison (Immediate vs Rolling)\n",
    "if not compare_df.empty:\n",
    "    plt.figure(figsize=(8, 4))\n",
    "    for split, g in compare_df.groupby(\"split\"):\n",
    "        xs = np.arange(len(g))\n",
    "        plt.plot(xs, g[\"R2\"], marker=\"o\", label=split)\n",
    "        for i, name in enumerate(g[\"model\"]):\n",
    "            plt.text(xs[i], g[\"R2\"].iloc[i] + 0.01, name, ha=\"center\", fontsize=10)\n",
    "    plt.title(\"Macro-average R^2 by model (Immediate vs Rolling)\")\n",
    "    plt.ylabel(\"R^2\"); plt.xticks([]); plt.legend()\n",
    "    plt.tight_layout(); plt.show()\n"
   ]
  },
  {
   "cell_type": "code",
   "execution_count": null,
   "id": "15a055ce",
   "metadata": {},
   "outputs": [],
   "source": []
  }
 ],
 "metadata": {
  "kernelspec": {
   "display_name": "Python 3",
   "language": "python",
   "name": "python3"
  },
  "language_info": {
   "codemirror_mode": {
    "name": "ipython",
    "version": 3
   },
   "file_extension": ".py",
   "mimetype": "text/x-python",
   "name": "python",
   "nbconvert_exporter": "python",
   "pygments_lexer": "ipython3",
   "version": "3.10.0"
  }
 },
 "nbformat": 4,
 "nbformat_minor": 5
}
